{
 "cells": [
  {
   "cell_type": "markdown",
   "metadata": {},
   "source": [
    "# デュアル構造を持つネットワークの検索用ノートブック(2019/11/26作成)"
   ]
  },
  {
   "cell_type": "markdown",
   "metadata": {},
   "source": [
    "- リファクタリングを兼ねてもう一度綺麗に実装してみる"
   ]
  },
  {
   "cell_type": "markdown",
   "metadata": {},
   "source": [
    "## 初期設定とライブラリのimport"
   ]
  },
  {
   "cell_type": "code",
   "execution_count": 1,
   "metadata": {},
   "outputs": [],
   "source": [
    "import numpy as np\n",
    "import pickle\n",
    "from PIL import Image\n",
    "import matplotlib.pyplot as plt \n",
    "from tqdm import tqdm\n",
    "import os"
   ]
  },
  {
   "cell_type": "code",
   "execution_count": 2,
   "metadata": {},
   "outputs": [],
   "source": [
    "BASE_PATH = './dataset/T_Shirt_all/'\n",
    "model = 'improvedTripletLoss'\n",
    "model = 'TripletLoss'"
   ]
  },
  {
   "cell_type": "markdown",
   "metadata": {},
   "source": [
    "## エラー対応\n",
    "- ~~**RTX系のGPU**で回すとUnknownErrorを吐くため以下コードにより回避~~\n",
    "- なぜかこちらのコードがエラーを吐くようになった(GPUマシンのアップデート後)\n",
    "- GPU番号を指定していないことが原因らしい"
   ]
  },
  {
   "cell_type": "code",
   "execution_count": 3,
   "metadata": {},
   "outputs": [],
   "source": [
    "# import tensorflow as tf\n",
    "# config = tf.ConfigProto()\n",
    "# config.gpu_options.allow_growth = True\n",
    "# tf.keras.backend.set_session(tf.Session(config=config))"
   ]
  },
  {
   "cell_type": "markdown",
   "metadata": {},
   "source": [
    "- GPUを指定する"
   ]
  },
  {
   "cell_type": "code",
   "execution_count": 4,
   "metadata": {},
   "outputs": [
    {
     "name": "stderr",
     "output_type": "stream",
     "text": [
      "/home/pip/koki_ishizuka/.conda/envs/py35-zukapy/lib/python3.5/site-packages/h5py/__init__.py:36: FutureWarning: Conversion of the second argument of issubdtype from `float` to `np.floating` is deprecated. In future, it will be treated as `np.float64 == np.dtype(float).type`.\n",
      "  from ._conv import register_converters as _register_converters\n",
      "Using TensorFlow backend.\n"
     ]
    }
   ],
   "source": [
    "import tensorflow as tf\n",
    "from keras.backend.tensorflow_backend import set_session\n",
    "config = tf.ConfigProto(\n",
    "    gpu_options=tf.GPUOptions(\n",
    "        visible_device_list=\"0\", # specify GPU number\n",
    "        allow_growth=True\n",
    "    )\n",
    ")\n",
    "set_session(tf.Session(config=config))"
   ]
  },
  {
   "cell_type": "markdown",
   "metadata": {},
   "source": [
    "## モデルの読み込み"
   ]
  },
  {
   "cell_type": "code",
   "execution_count": 5,
   "metadata": {},
   "outputs": [],
   "source": [
    "from keras.models import load_model"
   ]
  },
  {
   "cell_type": "code",
   "execution_count": 7,
   "metadata": {},
   "outputs": [],
   "source": [
    "vec_length = 300\n",
    "model_epoch = 99\n",
    "ALPHA = 1.0\n",
    "BETA = 0.05 #improved triplet lossの場合"
   ]
  },
  {
   "cell_type": "code",
   "execution_count": 8,
   "metadata": {},
   "outputs": [],
   "source": [
    "# model_dir = \"./model/T_Shirt/improved_tripletloss/a{}b{}\".format(ALPHA,BETA)\n",
    "model_dir = \"./model/T_Shirt/improvedEditFiler/a{}b{}\".format(ALPHA,BETA)"
   ]
  },
  {
   "cell_type": "code",
   "execution_count": 9,
   "metadata": {},
   "outputs": [
    {
     "name": "stdout",
     "output_type": "stream",
     "text": [
      "WARNING:tensorflow:From /home/pip/koki_ishizuka/.conda/envs/py35-zukapy/lib/python3.5/site-packages/tensorflow/python/framework/op_def_library.py:263: colocate_with (from tensorflow.python.framework.ops) is deprecated and will be removed in a future version.\n",
      "Instructions for updating:\n",
      "Colocations handled automatically by placer.\n"
     ]
    }
   ],
   "source": [
    "con_embNet = load_model(model_dir+'/{}/con_e{}.h5'.format(vec_length,model_epoch), compile=False)\n",
    "shop_embNet = load_model(model_dir+'/{}/shop_e{}.h5'.format(vec_length,model_epoch), compile=False)"
   ]
  },
  {
   "cell_type": "code",
   "execution_count": 10,
   "metadata": {},
   "outputs": [],
   "source": [
    "# con_embNet = load_model('./model/T_Shirt/tripletloss/a0.1/512/con_e99.h5', compile=False)\n",
    "# shop_embNet = load_model('./model/T_Shirt/tripletloss/a0.1/512/shop_e99.h5', compile=False)"
   ]
  },
  {
   "cell_type": "markdown",
   "metadata": {},
   "source": [
    "## Testデータの読み込み\n",
    "- 学習前にtrain/test分割してpickle保存したファイルからtestに用いる商品idをロードする\n",
    "- 一つの商品idに対して一つの[Street画像,Shop画像]ペアとする。詳しくは`./datagen.py`参照"
   ]
  },
  {
   "cell_type": "code",
   "execution_count": 11,
   "metadata": {},
   "outputs": [],
   "source": [
    "f = open(\"./pickle/test_ids.pickle\",\"rb\")\n",
    "test_ids = pickle.load(f) #test用の商品id"
   ]
  },
  {
   "cell_type": "markdown",
   "metadata": {},
   "source": [
    "- 自作モジュールのインポート"
   ]
  },
  {
   "cell_type": "code",
   "execution_count": 12,
   "metadata": {},
   "outputs": [],
   "source": [
    "from modules import datagen"
   ]
  },
  {
   "cell_type": "code",
   "execution_count": 13,
   "metadata": {},
   "outputs": [
    {
     "name": "stderr",
     "output_type": "stream",
     "text": [
      "100%|██████████| 2032/2032 [00:02<00:00, 784.17it/s]\n"
     ]
    }
   ],
   "source": [
    "test_pairs = datagen.get_test_pairs(test_ids,BASE_PATH,seed_num=0)"
   ]
  },
  {
   "cell_type": "markdown",
   "metadata": {},
   "source": [
    "- 中身は`[商品id,[Street画像のパス,Shop画像のパス]]`"
   ]
  },
  {
   "cell_type": "code",
   "execution_count": 14,
   "metadata": {},
   "outputs": [
    {
     "data": {
      "text/plain": [
       "[10696,\n",
       " ['./dataset/T_Shirt_all/id_00010696/comsumer_01.jpg',\n",
       "  './dataset/T_Shirt_all/id_00010696/shop_01.jpg']]"
      ]
     },
     "execution_count": 14,
     "metadata": {},
     "output_type": "execute_result"
    }
   ],
   "source": [
    "test_pairs[0]"
   ]
  },
  {
   "cell_type": "markdown",
   "metadata": {},
   "source": [
    "- 作成したtest_pairsをpickleで保存する"
   ]
  },
  {
   "cell_type": "code",
   "execution_count": 15,
   "metadata": {},
   "outputs": [],
   "source": [
    "f = open('./pickle/test_pairs.pickle', 'wb')\n",
    "pickle.dump(test_pairs, f)"
   ]
  },
  {
   "cell_type": "markdown",
   "metadata": {},
   "source": [
    "## 検索対象の画像群(gallery)の作成"
   ]
  },
  {
   "cell_type": "markdown",
   "metadata": {},
   "source": [
    "- galleryリストに対して、test_pairsから[商品id, Shop画像パス]のリスト作成してappendする"
   ]
  },
  {
   "cell_type": "code",
   "execution_count": 16,
   "metadata": {},
   "outputs": [],
   "source": [
    "gallery = []\n",
    "for tp in test_pairs:\n",
    "    gallery.append([tp[0],tp[1][1]])"
   ]
  },
  {
   "cell_type": "code",
   "execution_count": 17,
   "metadata": {},
   "outputs": [
    {
     "name": "stdout",
     "output_type": "stream",
     "text": [
      "[10696, './dataset/T_Shirt_all/id_00010696/shop_01.jpg']\n",
      "gallery length = 2032\n"
     ]
    }
   ],
   "source": [
    "print(gallery[0])\n",
    "print('gallery length = {}'.format(len(gallery)))"
   ]
  },
  {
   "cell_type": "markdown",
   "metadata": {},
   "source": [
    "## galleryを特徴空間ベクトルに埋め込む"
   ]
  },
  {
   "cell_type": "markdown",
   "metadata": {},
   "source": [
    "- 埋め込み次元はvec_lengthとして定義済み\n",
    "- 最初に次元数分のnumpy配列を用意しておき、書き換える。\n",
    "- ans_idsは正解となる商品idのリスト(test_pairsをforで回してtp[0]のリストを作るのと同義)"
   ]
  },
  {
   "cell_type": "code",
   "execution_count": 18,
   "metadata": {},
   "outputs": [
    {
     "name": "stdout",
     "output_type": "stream",
     "text": [
      "(2032, 300)\n",
      "(2032,)\n"
     ]
    }
   ],
   "source": [
    "emb_vecs = np.zeros((len(gallery),vec_length))\n",
    "ans_ids = np.zeros(len(gallery))\n",
    "print(emb_vecs.shape)\n",
    "print(ans_ids.shape)"
   ]
  },
  {
   "cell_type": "markdown",
   "metadata": {},
   "source": [
    "- shop_embNet.predict()で推論を行う。デュアル構造のため、入力として同じimgを二つ与える\n",
    "- 入力時の形を合わせるためexpand_dimsの処理が必要(試行錯誤の結果なので詳細は忘れた)"
   ]
  },
  {
   "cell_type": "code",
   "execution_count": 19,
   "metadata": {},
   "outputs": [
    {
     "name": "stderr",
     "output_type": "stream",
     "text": [
      "100%|██████████| 2032/2032 [00:18<00:00, 107.09it/s]\n"
     ]
    }
   ],
   "source": [
    "for i,g in enumerate(tqdm(gallery)):\n",
    "    img =np.array(Image.open(g[1]).resize((128,128)).convert('RGB'))/255.\n",
    "    ans_ids[i] = g[0]\n",
    "    emb_vecs[i] = shop_embNet.predict([np.expand_dims(img,axis=0),np.expand_dims(img,axis=0)])[0] # need [0] because of expanding dimension -> [[]]"
   ]
  },
  {
   "cell_type": "markdown",
   "metadata": {},
   "source": [
    "- **重要!!** 後に結果を解釈するために埋め込んだベクトルをpickleに保存"
   ]
  },
  {
   "cell_type": "code",
   "execution_count": 20,
   "metadata": {},
   "outputs": [],
   "source": [
    "f = open(model_dir+'/{}/gallery{}.txt'.format(vec_length,model_epoch),'wb')\n",
    "pickle.dump(emb_vecs,f)"
   ]
  },
  {
   "cell_type": "code",
   "execution_count": 21,
   "metadata": {},
   "outputs": [],
   "source": [
    "# f = open('./model/T_Shirt/tripletloss/a{}/{}/gallery{}.txt'.format(ALPHA,vec_length,model_epoch),'wb')\n",
    "# pickle.dump(emb_vecs,f)"
   ]
  },
  {
   "cell_type": "markdown",
   "metadata": {},
   "source": [
    "- ユークリッド距離計算用関数"
   ]
  },
  {
   "cell_type": "code",
   "execution_count": 22,
   "metadata": {},
   "outputs": [],
   "source": [
    "def euclid_dist(emb1, emb2):\n",
    "    return np.sum(np.square(emb1 - emb2))"
   ]
  },
  {
   "cell_type": "markdown",
   "metadata": {},
   "source": [
    "- Queryの用意"
   ]
  },
  {
   "cell_type": "code",
   "execution_count": 23,
   "metadata": {},
   "outputs": [
    {
     "name": "stdout",
     "output_type": "stream",
     "text": [
      "(2032,)\n"
     ]
    }
   ],
   "source": [
    "query_ids = np.zeros(len(test_pairs))\n",
    "print(query_ids.shape)"
   ]
  },
  {
   "cell_type": "code",
   "execution_count": 24,
   "metadata": {},
   "outputs": [
    {
     "data": {
      "text/plain": [
       "array([10696., 23825., 17789., 22720.,  3304.])"
      ]
     },
     "execution_count": 24,
     "metadata": {},
     "output_type": "execute_result"
    }
   ],
   "source": [
    "for i,tp in enumerate(test_pairs):\n",
    "    query_ids[i] = tp[0]\n",
    "query_ids[:5]"
   ]
  },
  {
   "cell_type": "markdown",
   "metadata": {},
   "source": [
    "## 距離計算とランキングの算出\n",
    "- topN_id_listはそれぞれのqueryに対し上位N個までの商品idのランキングがリストとして算出される。\n",
    "- [[商品Aのランキング],[商品Bのランキング],...[商品Xのランキング],...]のような形"
   ]
  },
  {
   "cell_type": "code",
   "execution_count": 25,
   "metadata": {},
   "outputs": [],
   "source": [
    "N = 50"
   ]
  },
  {
   "cell_type": "markdown",
   "metadata": {},
   "source": [
    "- Street画像(Query)の**埋め込みと距離計算**\n",
    "- argsort()は昇順に並べたときのindexの配列を返す\n",
    "- similaritiesとans_idsの同じインデックスは同じ商品idを指している\n",
    "- つまり、対応するans_idsをidxsリストを与えることで切り出す"
   ]
  },
  {
   "cell_type": "code",
   "execution_count": 26,
   "metadata": {},
   "outputs": [
    {
     "name": "stderr",
     "output_type": "stream",
     "text": [
      "100%|██████████| 2032/2032 [00:46<00:00, 43.59it/s]\n"
     ]
    }
   ],
   "source": [
    "topN_id_list = []\n",
    "query_emb_vecs = np.zeros((len(gallery),vec_length))\n",
    "for i,tp in enumerate(tqdm(test_pairs)):\n",
    "    img = np.array(Image.open(tp[1][0]).resize((128,128)).convert('RGB'))/255.\n",
    "    query_emb = con_embNet.predict([np.expand_dims(img.astype(np.float32),axis=0),np.expand_dims(img.astype(np.float32),axis=0)])[0]\n",
    "    query_emb_vecs[i] = query_emb\n",
    "    # calculation\n",
    "    similarities = np.zeros(len(gallery))\n",
    "    for i,emb_vec in enumerate(emb_vecs):\n",
    "        similarities[i] = euclid_dist(query_emb,emb_vec)\n",
    "    # argsort\n",
    "    idxs = similarities.argsort()\n",
    "    topN_id_list.append(ans_ids[idxs[:N]])  "
   ]
  },
  {
   "cell_type": "code",
   "execution_count": 37,
   "metadata": {},
   "outputs": [
    {
     "data": {
      "text/plain": [
       "array([ 3479., 28251.,  7805., 19365.,   769., 28617.,  9898., 20831.,\n",
       "       27799., 11298., 17408., 15509., 31993.,  7312., 30237., 14612.,\n",
       "       15761.,  2362., 21252., 20133., 23988., 32780., 33876., 18846.,\n",
       "        9403., 25930., 15541., 26391., 28985.,  7607., 29771.,  7942.,\n",
       "        7617., 16073., 16004., 14066.,  5060., 21419., 16707., 24677.,\n",
       "       13970., 18474., 19255., 17172., 13567., 19352.,  4559., 33396.,\n",
       "       19392., 14268.])"
      ]
     },
     "execution_count": 37,
     "metadata": {},
     "output_type": "execute_result"
    }
   ],
   "source": [
    "topN_id_list[0]"
   ]
  },
  {
   "cell_type": "markdown",
   "metadata": {},
   "source": [
    "- 検索結果画像を表示するためにtopN_id_listを保存"
   ]
  },
  {
   "cell_type": "code",
   "execution_count": 28,
   "metadata": {},
   "outputs": [],
   "source": [
    "f = open(model_dir+'/{}/topN_id_list{}.txt'.format(vec_length,model_epoch),'wb')\n",
    "pickle.dump(topN_id_list,f)"
   ]
  },
  {
   "cell_type": "code",
   "execution_count": 29,
   "metadata": {},
   "outputs": [],
   "source": [
    "# f = open('./model/T_Shirt/tripletloss/a{}/{}/topN_id_list{}.txt'.format(ALPHA,vec_length,model_epoch),'wb')\n",
    "# pickle.dump(topN_id_list,f)"
   ]
  },
  {
   "cell_type": "code",
   "execution_count": 30,
   "metadata": {},
   "outputs": [
    {
     "data": {
      "text/plain": [
       "2032"
      ]
     },
     "execution_count": 30,
     "metadata": {},
     "output_type": "execute_result"
    }
   ],
   "source": [
    "len(emb_vecs)"
   ]
  },
  {
   "cell_type": "markdown",
   "metadata": {},
   "source": [
    "- **重要!!** のちに結果を解釈(**ヒストグラム描画**など)するためquery_embをpickle保存"
   ]
  },
  {
   "cell_type": "code",
   "execution_count": 33,
   "metadata": {},
   "outputs": [],
   "source": [
    "f = open(model_dir+'/{}/query{}.txt'.format(vec_length,model_epoch),'wb')\n",
    "pickle.dump(query_emb_vecs,f)"
   ]
  },
  {
   "cell_type": "code",
   "execution_count": 34,
   "metadata": {},
   "outputs": [],
   "source": [
    "# f = open('./model/T_Shirt/tripletloss/a{}/{}/query{}.txt'.format(ALPHA,vec_length,model_epoch),'wb')\n",
    "# pickle.dump(query_emb_vecs,f)"
   ]
  },
  {
   "cell_type": "markdown",
   "metadata": {},
   "source": [
    "## Top-Kの計算とグラフの描画"
   ]
  },
  {
   "cell_type": "markdown",
   "metadata": {},
   "source": [
    "- ans_idsとtopN_id_listをzipで同時に回す\n",
    "- あるans_idを見たとき、対応するインデックスのtopN_idの中に同じidが入っていればcntを+1"
   ]
  },
  {
   "cell_type": "code",
   "execution_count": 35,
   "metadata": {},
   "outputs": [],
   "source": [
    "def calc_topk_vals(k_values,ans_ids,topN_id_list):\n",
    "    topk_vals = []\n",
    "    for k in k_values:\n",
    "        cnt = 0\n",
    "        for i,(ans_id,topN_id) in enumerate(zip(ans_ids,topN_id_list)):\n",
    "            if ans_id in topN_id[:k]:\n",
    "                cnt+=1\n",
    "        topk_vals.append(cnt/len(ans_ids))\n",
    "    return topk_vals"
   ]
  },
  {
   "cell_type": "code",
   "execution_count": 36,
   "metadata": {},
   "outputs": [],
   "source": [
    "x = list(range(1,51))\n",
    "topk_vals = calc_topk_vals(x,ans_ids,topN_id_list)"
   ]
  },
  {
   "cell_type": "code",
   "execution_count": 37,
   "metadata": {},
   "outputs": [],
   "source": [
    "f = open(model_dir+'/{}/topK_vals.txt'.format(vec_length), 'wb')\n",
    "pickle.dump(topk_vals, f)"
   ]
  },
  {
   "cell_type": "code",
   "execution_count": 38,
   "metadata": {},
   "outputs": [],
   "source": [
    "# f = open('./model/T_Shirt/topK/TripletLoss_{}.txt'.format(vec_length), 'wb')\n",
    "# pickle.dump(topk_vals, f)"
   ]
  },
  {
   "cell_type": "code",
   "execution_count": 39,
   "metadata": {},
   "outputs": [
    {
     "data": {
      "text/plain": [
       "[0.0024606299212598425,\n",
       " 0.004921259842519685,\n",
       " 0.005905511811023622,\n",
       " 0.008366141732283465,\n",
       " 0.009350393700787402,\n",
       " 0.011811023622047244,\n",
       " 0.013779527559055118,\n",
       " 0.015748031496062992,\n",
       " 0.0172244094488189,\n",
       " 0.018700787401574805,\n",
       " 0.02066929133858268,\n",
       " 0.021653543307086614,\n",
       " 0.02312992125984252,\n",
       " 0.025590551181102362,\n",
       " 0.028543307086614175,\n",
       " 0.029035433070866142,\n",
       " 0.030019685039370077,\n",
       " 0.031496062992125984,\n",
       " 0.0344488188976378,\n",
       " 0.03543307086614173,\n",
       " 0.03740157480314961,\n",
       " 0.03887795275590551,\n",
       " 0.040354330708661415,\n",
       " 0.04084645669291338,\n",
       " 0.04232283464566929,\n",
       " 0.043799212598425195,\n",
       " 0.04576771653543307,\n",
       " 0.04675196850393701,\n",
       " 0.04675196850393701,\n",
       " 0.04921259842519685,\n",
       " 0.05019685039370079,\n",
       " 0.050688976377952756,\n",
       " 0.05216535433070866,\n",
       " 0.05265748031496063,\n",
       " 0.0531496062992126,\n",
       " 0.054133858267716536,\n",
       " 0.054625984251968504,\n",
       " 0.05561023622047244,\n",
       " 0.05708661417322835,\n",
       " 0.05954724409448819,\n",
       " 0.0610236220472441,\n",
       " 0.06348425196850394,\n",
       " 0.06791338582677166,\n",
       " 0.06988188976377953,\n",
       " 0.07086614173228346,\n",
       " 0.07086614173228346,\n",
       " 0.07135826771653543,\n",
       " 0.0733267716535433,\n",
       " 0.07529527559055119,\n",
       " 0.07726377952755906]"
      ]
     },
     "execution_count": 39,
     "metadata": {},
     "output_type": "execute_result"
    }
   ],
   "source": [
    "topk_vals"
   ]
  },
  {
   "cell_type": "markdown",
   "metadata": {},
   "source": [
    "- グラフの描画"
   ]
  },
  {
   "cell_type": "code",
   "execution_count": 40,
   "metadata": {},
   "outputs": [
    {
     "name": "stderr",
     "output_type": "stream",
     "text": [
      "/home/pip/koki_ishizuka/.conda/envs/py35-zukapy/lib/python3.5/site-packages/matplotlib/cbook/deprecation.py:107: MatplotlibDeprecationWarning: Passing one of 'on', 'true', 'off', 'false' as a boolean is deprecated; use an actual boolean (True/False) instead.\n",
      "  warnings.warn(message, mplDeprecation, stacklevel=1)\n"
     ]
    },
    {
     "data": {
      "image/png": "[encoded data removed]",
      "text/plain": [
       "<Figure size 432x288 with 1 Axes>"
      ]
     },
     "metadata": {
      "needs_background": "light"
     },
     "output_type": "display_data"
    }
   ],
   "source": [
    "x = list(range(1,51))\n",
    "chancelv=np.array(x)/len(test_pairs)\n",
    "\n",
    "topk_vals = calc_topk_vals(x,ans_ids,topN_id_list)\n",
    "plt.plot(x,topk_vals,c='r',label='TripletLoss({})'.format(round(topk_vals[19],3)))\n",
    "# plt.plot(x,topk_vals,c='r',marker='o',label='improvedTripletLoss({})'.format(round(topk_vals[4],3)))\n",
    "plt.plot(x,chancelv,linestyle='dashed',label='chance level(0.00984)')\n",
    "\n",
    "# graph settings\n",
    "plt.legend(loc='best')#,bbox_to_anchor=(1, 0.2))\n",
    "plt.grid('True')\n",
    "plt.title(\"top-k accuracy\")\n",
    "plt.xlabel(\"k-value\")\n",
    "plt.ylabel(\"top-k acc\")\n",
    "plt.show()"
   ]
  },
  {
   "cell_type": "markdown",
   "metadata": {},
   "source": [
    "# 結果と考察"
   ]
  },
  {
   "cell_type": "markdown",
   "metadata": {},
   "source": [
    "- vec_lengthは結果に対してかなり影響がある\n",
    "\n",
    "Top20 accuracy\n",
    "\n",
    "| Dimension | Single | Dual(Triplet Loss) | Dual(improved Triplet Loss) |\n",
    "|:-:|:-:|:-:|:-:|\n",
    "|100|  0.141  | - | -|\n",
    "|200|-  |0.175  | - |\n",
    "|300|-  | 0.126 | 0.201 |\n",
    "|512|0.2  |0.156  |0.108  |\n",
    "\n",
    "alpha=0.5にしたら0.157に変化した\n",
    "原因はhistgram要確認\n"
   ]
  },
  {
   "cell_type": "code",
   "execution_count": null,
   "metadata": {},
   "outputs": [],
   "source": []
  }
 ],
 "metadata": {
  "kernelspec": {
   "display_name": "py35-zukapy",
   "language": "python",
   "name": "py35-zukapy"
  },
  "language_info": {
   "codemirror_mode": {
    "name": "ipython",
    "version": 3
   },
   "file_extension": ".py",
   "mimetype": "text/x-python",
   "name": "python",
   "nbconvert_exporter": "python",
   "pygments_lexer": "ipython3",
   "version": "3.5.5"
  }
 },
 "nbformat": 4,
 "nbformat_minor": 4
}
