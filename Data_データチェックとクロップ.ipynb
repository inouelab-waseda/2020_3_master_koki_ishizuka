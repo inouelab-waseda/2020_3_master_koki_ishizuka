{
 "cells": [
  {
   "cell_type": "code",
   "execution_count": 1,
   "metadata": {},
   "outputs": [],
   "source": [
    "import os\n",
    "import numpy as np\n",
    "import matplotlib.pyplot as plt\n",
    "from PIL import Image\n",
    "import cv2\n",
    "from tqdm import tqdm\n",
    "%matplotlib inline"
   ]
  },
  {
   "cell_type": "code",
   "execution_count": 2,
   "metadata": {},
   "outputs": [],
   "source": [
    "# ls"
   ]
  },
  {
   "cell_type": "markdown",
   "metadata": {},
   "source": [
    "# データの確認"
   ]
  },
  {
   "cell_type": "code",
   "execution_count": 3,
   "metadata": {},
   "outputs": [],
   "source": [
    "idPATH = 'dataset/img/CLOTHING/Pants/'"
   ]
  },
  {
   "cell_type": "code",
   "execution_count": 4,
   "metadata": {},
   "outputs": [],
   "source": [
    "files = sorted([f for f in os.listdir(idPATH)]) #sorted by id\n",
    "# files[:10]"
   ]
  },
  {
   "cell_type": "code",
   "execution_count": 5,
   "metadata": {},
   "outputs": [
    {
     "data": {
      "text/plain": [
       "['comsumer_01.jpg', 'comsumer_02.jpg', 'shop_01.jpg']"
      ]
     },
     "execution_count": 5,
     "metadata": {},
     "output_type": "execute_result"
    }
   ],
   "source": [
    "items = sorted([i for i in os.listdir(idPATH+files[0])])\n",
    "items"
   ]
  },
  {
   "cell_type": "code",
   "execution_count": 6,
   "metadata": {},
   "outputs": [],
   "source": [
    "# for i in range(len(items)):\n",
    "#     img = np.array(Image.open(idPATH+files[0]+'/'+items[i]))\n",
    "#     plt.imshow(img)\n",
    "#     plt.show()"
   ]
  },
  {
   "cell_type": "markdown",
   "metadata": {},
   "source": [
    "###  read bounding box\n",
    "Need to remove return key while reading"
   ]
  },
  {
   "cell_type": "code",
   "execution_count": 7,
   "metadata": {},
   "outputs": [],
   "source": [
    "# with open('./dataset/list_bbox_consumer2shop.txt','r') as f:\n",
    "#     texts = f.readlines()\n",
    "#     for i,text in enumerate(texts):\n",
    "#         texts[i] = text.strip()"
   ]
  },
  {
   "cell_type": "code",
   "execution_count": 8,
   "metadata": {
    "scrolled": true
   },
   "outputs": [],
   "source": [
    "# len(texts)"
   ]
  },
  {
   "cell_type": "markdown",
   "metadata": {},
   "source": [
    "### Meaning of columns\n",
    "- image_name： file name\n",
    "- clothes_type: clothes category\n",
    "- source_type: 1 = shop image, 2 = consumer image\n",
    "- x_1 y_1 x_2 y_2: four corners of bounding box"
   ]
  },
  {
   "cell_type": "markdown",
   "metadata": {},
   "source": [
    "`list_bbox_consumer2shop.txt`をパスとBounding Boxに分割する\n",
    "- スペースでsplit()した後長さが0より大きいものとして分割"
   ]
  },
  {
   "cell_type": "code",
   "execution_count": 9,
   "metadata": {},
   "outputs": [],
   "source": [
    "# # extract strings example\n",
    "# item_num = 80000\n",
    "# example = [x for x in texts[i].split(' ') if len(x) > 0]\n",
    "# print(example)"
   ]
  },
  {
   "cell_type": "markdown",
   "metadata": {},
   "source": [
    "Bounding Box情報を変数に格納する"
   ]
  },
  {
   "cell_type": "code",
   "execution_count": 10,
   "metadata": {},
   "outputs": [],
   "source": [
    "# x1,y1,x2,y2=int(example[3]),int(example[4]),int(example[5]),int(example[6])"
   ]
  },
  {
   "cell_type": "code",
   "execution_count": 11,
   "metadata": {},
   "outputs": [],
   "source": [
    "# img_path = './dataset/'+example[0]\n",
    "# img_path"
   ]
  },
  {
   "cell_type": "code",
   "execution_count": 12,
   "metadata": {},
   "outputs": [],
   "source": [
    "# img = np.array(Image.open(img_path))\n",
    "# plt.imshow(img)\n",
    "# plt.show()"
   ]
  },
  {
   "cell_type": "code",
   "execution_count": 13,
   "metadata": {
    "scrolled": true
   },
   "outputs": [],
   "source": [
    "# imgcv2 = cv2.rectangle(img, (x1,y1), (x2,y2),(100,200,100),3)\n",
    "# plt.imshow(imgcv2)\n",
    "# plt.title(img_path)\n",
    "# plt.show()"
   ]
  },
  {
   "cell_type": "markdown",
   "metadata": {},
   "source": [
    "## カテゴリごとにデータを分割する\n",
    "first extract tshirts_list from 'list_bbox_consumer2shop.txt'"
   ]
  },
  {
   "cell_type": "markdown",
   "metadata": {},
   "source": [
    "parseした文字列のPATHの部分に対象のカテゴリ名が含まれていたらリストにappendする"
   ]
  },
  {
   "cell_type": "code",
   "execution_count": 14,
   "metadata": {},
   "outputs": [
    {
     "name": "stdout",
     "output_type": "stream",
     "text": [
      "239559\n"
     ]
    }
   ],
   "source": [
    "with open('./dataset/list_bbox_consumer2shop.txt','r') as f:\n",
    "    texts = f.readlines()\n",
    "    for i,text in enumerate(texts):\n",
    "        texts[i] = text.strip()\n",
    "print(len(texts))"
   ]
  },
  {
   "cell_type": "code",
   "execution_count": 15,
   "metadata": {},
   "outputs": [],
   "source": [
    "def extractCategory(texts,categoryName):\n",
    "    targetList=[]\n",
    "    for i in range(len(texts)):\n",
    "        parse = [x for x in texts[i].split(' ') if len(x) > 0]\n",
    "        if parse[0].count(categoryName) > 0: \n",
    "            targetList.append(parse)\n",
    "    print('Data Length: {}'.format(len(targetList)))\n",
    "    print('Data Sample:\\n{}'.format(targetList[:5]))\n",
    "    return targetList"
   ]
  },
  {
   "cell_type": "code",
   "execution_count": 16,
   "metadata": {},
   "outputs": [
    {
     "name": "stdout",
     "output_type": "stream",
     "text": [
      "Data Length: 18713\n",
      "Data Sample:\n",
      "[['img/DRESSES/Dress/id_00000107/shop_01.jpg', '3', '1', '001', '070', '200', '287'], ['img/DRESSES/Dress/id_00000107/comsumer_01.jpg', '3', '2', '091', '060', '176', '204'], ['img/DRESSES/Dress/id_00000302/shop_01.jpg', '3', '1', '035', '001', '192', '300'], ['img/DRESSES/Dress/id_00000302/comsumer_01.jpg', '3', '2', '001', '001', '176', '300'], ['img/DRESSES/Dress/id_00000302/comsumer_02.jpg', '3', '2', '072', '039', '203', '125']]\n"
     ]
    }
   ],
   "source": [
    "categoryList = extractCategory(texts,\"/Dress/\")"
   ]
  },
  {
   "cell_type": "markdown",
   "metadata": {},
   "source": [
    "### crop the target item area"
   ]
  },
  {
   "cell_type": "markdown",
   "metadata": {},
   "source": [
    "### ディレクトリ作成と保存\n",
    "- if there is no directory for a item(one id), make a directory for it.\n",
    "- ディレクトリが存在しなければ作成する\n",
    "- `T_Shirts`や`Pants`は複数の大カテゴリ(`CLOTHING`と`TOPS`など)に含まれるため，別途でディレクトリを結合する必要がある．"
   ]
  },
  {
   "cell_type": "code",
   "execution_count": 17,
   "metadata": {
    "scrolled": true
   },
   "outputs": [],
   "source": [
    "# operation test\n",
    "def saveImages(categoryList,datasetPath):\n",
    "    for i,cList in enumerate(tqdm(categoryList)):\n",
    "        x1,y1,x2,y2=int(cList[3]),int(cList[4]),int(cList[5]),int(cList[6])\n",
    "        img_path = datasetPath+cList[0]\n",
    "        dirName = cList[0].split('/')\n",
    "        # TOP Layer('img')\n",
    "        centerPath = datasetPath+'crop_img/'\n",
    "        os.listdir(centerPath)\n",
    "        \n",
    "        h0 = centerPath+dirName[0]\n",
    "        if dirName[0] not in os.listdir(centerPath):\n",
    "            os.mkdir(h0)\n",
    "        # 2nd Layer(large category:'CLOTHING','DRESSES','TOPS','TROUSERS')\n",
    "        h1 = h0+'/'+dirName[1]\n",
    "        if dirName[1] not in os.listdir(h0):\n",
    "            os.mkdir(h1)\n",
    "        # 3rd Layer(small category: ex 'T_Shirt','Dress','Blouse','Pants')\n",
    "        h2 = h1+'/'+dirName[2]\n",
    "        if dirName[2] not in os.listdir(h1):\n",
    "            os.mkdir(h2)\n",
    "        # 4th Layer(id)\n",
    "        h3 = h2+'/'+dirName[3]\n",
    "        if dirName[3] not in os.listdir(h2):\n",
    "            os.mkdir(h3)\n",
    "\n",
    "        # cropping\n",
    "        cropped_img = Image.open(img_path).crop((x1,y1,x2,y2))\n",
    "        cropped_img.save(centerPath+cList[0])"
   ]
  },
  {
   "cell_type": "code",
   "execution_count": 18,
   "metadata": {},
   "outputs": [
    {
     "name": "stderr",
     "output_type": "stream",
     "text": [
      "100%|██████████| 18713/18713 [02:45<00:00, 113.09it/s]\n"
     ]
    }
   ],
   "source": [
    "saveImages(categoryList=categoryList, datasetPath='dataset/')"
   ]
  },
  {
   "cell_type": "code",
   "execution_count": null,
   "metadata": {},
   "outputs": [],
   "source": [
    "ids = "
   ]
  },
  {
   "cell_type": "code",
   "execution_count": null,
   "metadata": {},
   "outputs": [],
   "source": [
    "for i in "
   ]
  }
 ],
 "metadata": {
  "kernelspec": {
   "display_name": "py35-zukapy",
   "language": "python",
   "name": "py35-zukapy"
  },
  "language_info": {
   "codemirror_mode": {
    "name": "ipython",
    "version": 3
   },
   "file_extension": ".py",
   "mimetype": "text/x-python",
   "name": "python",
   "nbconvert_exporter": "python",
   "pygments_lexer": "ipython3",
   "version": "3.5.5"
  }
 },
 "nbformat": 4,
 "nbformat_minor": 4
}
