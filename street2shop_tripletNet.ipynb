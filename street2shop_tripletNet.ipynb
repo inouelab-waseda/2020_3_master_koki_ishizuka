{
 "cells": [
  {
   "cell_type": "code",
   "execution_count": 1,
   "metadata": {},
   "outputs": [],
   "source": [
    "import numpy as np\n",
    "import matplotlib.pyplot as plt\n",
    "from PIL import Image\n",
    "import random\n",
    "# random.seed(0)\n",
    "\n",
    "%matplotlib inline"
   ]
  },
  {
   "cell_type": "code",
   "execution_count": 2,
   "metadata": {
    "scrolled": true
   },
   "outputs": [
    {
     "name": "stderr",
     "output_type": "stream",
     "text": [
      "/home/inouelab/.conda/envs/keras35/lib/python3.5/site-packages/h5py/__init__.py:34: FutureWarning: Conversion of the second argument of issubdtype from `float` to `np.floating` is deprecated. In future, it will be treated as `np.float64 == np.dtype(float).type`.\n",
      "  from ._conv import register_converters as _register_converters\n",
      "Using TensorFlow backend.\n"
     ]
    }
   ],
   "source": [
    "# Convolutional Neural Network\n",
    "# keras functional API\n",
    "from keras.utils import plot_model\n",
    "from keras.models import Model\n",
    "from keras.layers import Input,Layer,Lambda\n",
    "from keras.layers import Flatten,BatchNormalization\n",
    "from keras.layers import Dense,Dropout\n",
    "from keras.layers.convolutional import Conv2D\n",
    "from keras.layers.pooling import MaxPooling2D\n",
    "from keras import backend as K"
   ]
  },
  {
   "cell_type": "code",
   "execution_count": 3,
   "metadata": {},
   "outputs": [],
   "source": [
    "# hyperparameter\n",
    "imheight = 128\n",
    "imwidth = 128\n",
    "channels = 3\n",
    "# ALPHA = 0.2\n",
    "ALPHA=0.05"
   ]
  },
  {
   "cell_type": "code",
   "execution_count": 4,
   "metadata": {},
   "outputs": [],
   "source": [
    "# shared Layer \n",
    "shared_Conv1= Conv2D(32, (4,4), padding='same', activation='relu')\n",
    "shared_MP1= MaxPooling2D(pool_size=(2, 2))"
   ]
  },
  {
   "cell_type": "code",
   "execution_count": 5,
   "metadata": {},
   "outputs": [],
   "source": [
    "def create_embNet():\n",
    "    some_input = Input(shape=(imwidth, imheight, channels))\n",
    "    conv1 = shared_Conv1(some_input)\n",
    "    pool1 = shared_MP1(conv1)\n",
    "    conv2 = Conv2D(32, (4,4) , padding='same', activation='relu')(pool1)\n",
    "    pool2 = MaxPooling2D(pool_size=(2, 2))(conv2)\n",
    "    conv3 = Conv2D(32, (4,4) , padding='same', activation='relu')(pool2)\n",
    "    pool3 = MaxPooling2D(pool_size=(2, 2))(conv3)\n",
    "    flatten = Flatten()(pool3)\n",
    "    dense_layer = Dense(20, activation='relu')(flatten)\n",
    "    norm_layer = Lambda(lambda  x: K.l2_normalize(x, axis=1), name='norm_layer')(dense_layer)\n",
    "    return Model(inputs=[some_input], outputs=norm_layer)"
   ]
  },
  {
   "cell_type": "code",
   "execution_count": 6,
   "metadata": {},
   "outputs": [],
   "source": [
    "# define three Inputs\n",
    "a_in = Input(shape = (imheight, imwidth, channels), name='anchor_input')\n",
    "p_in = Input(shape = (imheight, imwidth, channels), name='positive_input')\n",
    "n_in = Input(shape = (imheight, imwidth, channels), name='negative_input')"
   ]
  },
  {
   "cell_type": "code",
   "execution_count": 7,
   "metadata": {
    "scrolled": true
   },
   "outputs": [
    {
     "name": "stdout",
     "output_type": "stream",
     "text": [
      "WARNING:tensorflow:From /home/inouelab/.conda/envs/keras35/lib/python3.5/site-packages/keras/backend/tensorflow_backend.py:1259: calling reduce_prod (from tensorflow.python.ops.math_ops) with keep_dims is deprecated and will be removed in a future version.\n",
      "Instructions for updating:\n",
      "keep_dims is deprecated, use keepdims instead\n",
      "WARNING:tensorflow:From /home/inouelab/.conda/envs/keras35/lib/python3.5/site-packages/keras/backend/tensorflow_backend.py:3026: calling l2_normalize (from tensorflow.python.ops.nn_impl) with dim is deprecated and will be removed in a future version.\n",
      "Instructions for updating:\n",
      "dim is deprecated, use axis instead\n"
     ]
    }
   ],
   "source": [
    "# for embedding\n",
    "embNet_a = create_embNet()\n",
    "embNet_p = create_embNet()\n",
    "embNet_n = create_embNet()\n",
    "\n",
    "a_emb = embNet_a(a_in)\n",
    "p_emb = embNet_p(p_in)\n",
    "n_emb = embNet_n(n_in)"
   ]
  },
  {
   "cell_type": "code",
   "execution_count": 8,
   "metadata": {},
   "outputs": [],
   "source": [
    "# for embedding\n",
    "# the case of using same params\n",
    "embNet = create_embNet()\n",
    "a_emb = embNet(a_in)\n",
    "p_emb = embNet(p_in)\n",
    "n_emb = embNet(n_in)"
   ]
  },
  {
   "cell_type": "code",
   "execution_count": 9,
   "metadata": {},
   "outputs": [],
   "source": [
    "class TripletLossLayer(Layer):\n",
    "    def __init__(self, alpha, **kwargs):\n",
    "        self.alpha = alpha\n",
    "        super(TripletLossLayer, self).__init__(**kwargs)\n",
    "    \n",
    "    def triplet_loss(self, inputs):\n",
    "        a, p, n = inputs\n",
    "        p_dist = K.sum(K.square(a-p), axis=-1)\n",
    "        n_dist = K.sum(K.square(a-n), axis=-1)\n",
    "        return K.sum(K.maximum(p_dist - n_dist + self.alpha, 0), axis=0)\n",
    "    \n",
    "    def call(self, inputs):\n",
    "        loss = self.triplet_loss(inputs)\n",
    "        self.add_loss(loss)\n",
    "        return loss\n",
    "    \n",
    "    def get_config(self):\n",
    "        config = {'alpha': self.alpha}\n",
    "        base_config = super(TripletLossLayer, self).get_config()\n",
    "        return dict(list(base_config.items()) + list(config.items()))"
   ]
  },
  {
   "cell_type": "code",
   "execution_count": 10,
   "metadata": {},
   "outputs": [
    {
     "name": "stdout",
     "output_type": "stream",
     "text": [
      "WARNING:tensorflow:From /home/inouelab/.conda/envs/keras35/lib/python3.5/site-packages/keras/backend/tensorflow_backend.py:1242: calling reduce_sum (from tensorflow.python.ops.math_ops) with keep_dims is deprecated and will be removed in a future version.\n",
      "Instructions for updating:\n",
      "keep_dims is deprecated, use keepdims instead\n"
     ]
    }
   ],
   "source": [
    "# Layer that computes the triplet loss from anchor, positive and negative embedding vectors\n",
    "triplet_loss_layer = TripletLossLayer(alpha=ALPHA, name='triplet_loss_layer')([a_emb, p_emb, n_emb])\n",
    "\n",
    "# Model that can be trained with anchor, positive negative images\n",
    "tripletNet = Model([a_in, p_in, n_in], triplet_loss_layer)"
   ]
  },
  {
   "cell_type": "markdown",
   "metadata": {},
   "source": [
    "### Network Structure"
   ]
  },
  {
   "cell_type": "code",
   "execution_count": 11,
   "metadata": {},
   "outputs": [
    {
     "data": {
      "image/svg+xml": [
       "<svg height=\"221pt\" viewBox=\"0.00 0.00 815.00 221.00\" width=\"815pt\" xmlns=\"http://www.w3.org/2000/svg\" xmlns:xlink=\"http://www.w3.org/1999/xlink\">\n",
       "<g class=\"graph\" id=\"graph0\" transform=\"scale(1 1) rotate(0) translate(4 217)\">\n",
       "<title>G</title>\n",
       "<polygon fill=\"white\" points=\"-4,4 -4,-217 811,-217 811,4 -4,4\" stroke=\"none\"/>\n",
       "<!-- 140044865691264 -->\n",
       "<g class=\"node\" id=\"node1\"><title>140044865691264</title>\n",
       "<polygon fill=\"none\" points=\"0,-166.5 0,-212.5 257,-212.5 257,-166.5 0,-166.5\" stroke=\"black\"/>\n",
       "<text font-family=\"Times,serif\" font-size=\"14.00\" text-anchor=\"middle\" x=\"38.5\" y=\"-185.8\">InputLayer</text>\n",
       "<polyline fill=\"none\" points=\"77,-166.5 77,-212.5 \" stroke=\"black\"/>\n",
       "<text font-family=\"Times,serif\" font-size=\"14.00\" text-anchor=\"middle\" x=\"104.5\" y=\"-197.3\">input:</text>\n",
       "<polyline fill=\"none\" points=\"77,-189.5 132,-189.5 \" stroke=\"black\"/>\n",
       "<text font-family=\"Times,serif\" font-size=\"14.00\" text-anchor=\"middle\" x=\"104.5\" y=\"-174.3\">output:</text>\n",
       "<polyline fill=\"none\" points=\"132,-166.5 132,-212.5 \" stroke=\"black\"/>\n",
       "<text font-family=\"Times,serif\" font-size=\"14.00\" text-anchor=\"middle\" x=\"194.5\" y=\"-197.3\">(None, 128, 128, 3)</text>\n",
       "<polyline fill=\"none\" points=\"132,-189.5 257,-189.5 \" stroke=\"black\"/>\n",
       "<text font-family=\"Times,serif\" font-size=\"14.00\" text-anchor=\"middle\" x=\"194.5\" y=\"-174.3\">(None, 128, 128, 3)</text>\n",
       "</g>\n",
       "<!-- 140044851024448 -->\n",
       "<g class=\"node\" id=\"node4\"><title>140044851024448</title>\n",
       "<polygon fill=\"none\" points=\"287,-83.5 287,-129.5 520,-129.5 520,-83.5 287,-83.5\" stroke=\"black\"/>\n",
       "<text font-family=\"Times,serif\" font-size=\"14.00\" text-anchor=\"middle\" x=\"313.5\" y=\"-102.8\">Model</text>\n",
       "<polyline fill=\"none\" points=\"340,-83.5 340,-129.5 \" stroke=\"black\"/>\n",
       "<text font-family=\"Times,serif\" font-size=\"14.00\" text-anchor=\"middle\" x=\"367.5\" y=\"-114.3\">input:</text>\n",
       "<polyline fill=\"none\" points=\"340,-106.5 395,-106.5 \" stroke=\"black\"/>\n",
       "<text font-family=\"Times,serif\" font-size=\"14.00\" text-anchor=\"middle\" x=\"367.5\" y=\"-91.3\">output:</text>\n",
       "<polyline fill=\"none\" points=\"395,-83.5 395,-129.5 \" stroke=\"black\"/>\n",
       "<text font-family=\"Times,serif\" font-size=\"14.00\" text-anchor=\"middle\" x=\"457.5\" y=\"-114.3\">(None, 128, 128, 3)</text>\n",
       "<polyline fill=\"none\" points=\"395,-106.5 520,-106.5 \" stroke=\"black\"/>\n",
       "<text font-family=\"Times,serif\" font-size=\"14.00\" text-anchor=\"middle\" x=\"457.5\" y=\"-91.3\">(None, 20)</text>\n",
       "</g>\n",
       "<!-- 140044865691264&#45;&gt;140044851024448 -->\n",
       "<g class=\"edge\" id=\"edge1\"><title>140044865691264-&gt;140044851024448</title>\n",
       "<path d=\"M203.282,-166.473C239.052,-155.937 282.03,-143.279 318.981,-132.395\" fill=\"none\" stroke=\"black\"/>\n",
       "<polygon fill=\"black\" points=\"320.13,-135.705 328.733,-129.522 318.152,-128.99 320.13,-135.705\" stroke=\"black\"/>\n",
       "</g>\n",
       "<!-- 140046497965224 -->\n",
       "<g class=\"node\" id=\"node2\"><title>140046497965224</title>\n",
       "<polygon fill=\"none\" points=\"275,-166.5 275,-212.5 532,-212.5 532,-166.5 275,-166.5\" stroke=\"black\"/>\n",
       "<text font-family=\"Times,serif\" font-size=\"14.00\" text-anchor=\"middle\" x=\"313.5\" y=\"-185.8\">InputLayer</text>\n",
       "<polyline fill=\"none\" points=\"352,-166.5 352,-212.5 \" stroke=\"black\"/>\n",
       "<text font-family=\"Times,serif\" font-size=\"14.00\" text-anchor=\"middle\" x=\"379.5\" y=\"-197.3\">input:</text>\n",
       "<polyline fill=\"none\" points=\"352,-189.5 407,-189.5 \" stroke=\"black\"/>\n",
       "<text font-family=\"Times,serif\" font-size=\"14.00\" text-anchor=\"middle\" x=\"379.5\" y=\"-174.3\">output:</text>\n",
       "<polyline fill=\"none\" points=\"407,-166.5 407,-212.5 \" stroke=\"black\"/>\n",
       "<text font-family=\"Times,serif\" font-size=\"14.00\" text-anchor=\"middle\" x=\"469.5\" y=\"-197.3\">(None, 128, 128, 3)</text>\n",
       "<polyline fill=\"none\" points=\"407,-189.5 532,-189.5 \" stroke=\"black\"/>\n",
       "<text font-family=\"Times,serif\" font-size=\"14.00\" text-anchor=\"middle\" x=\"469.5\" y=\"-174.3\">(None, 128, 128, 3)</text>\n",
       "</g>\n",
       "<!-- 140046497965224&#45;&gt;140044851024448 -->\n",
       "<g class=\"edge\" id=\"edge2\"><title>140046497965224-&gt;140044851024448</title>\n",
       "<path d=\"M403.5,-166.366C403.5,-158.152 403.5,-148.658 403.5,-139.725\" fill=\"none\" stroke=\"black\"/>\n",
       "<polygon fill=\"black\" points=\"407,-139.607 403.5,-129.607 400,-139.607 407,-139.607\" stroke=\"black\"/>\n",
       "</g>\n",
       "<!-- 140046497965112 -->\n",
       "<g class=\"node\" id=\"node3\"><title>140046497965112</title>\n",
       "<polygon fill=\"none\" points=\"550,-166.5 550,-212.5 807,-212.5 807,-166.5 550,-166.5\" stroke=\"black\"/>\n",
       "<text font-family=\"Times,serif\" font-size=\"14.00\" text-anchor=\"middle\" x=\"588.5\" y=\"-185.8\">InputLayer</text>\n",
       "<polyline fill=\"none\" points=\"627,-166.5 627,-212.5 \" stroke=\"black\"/>\n",
       "<text font-family=\"Times,serif\" font-size=\"14.00\" text-anchor=\"middle\" x=\"654.5\" y=\"-197.3\">input:</text>\n",
       "<polyline fill=\"none\" points=\"627,-189.5 682,-189.5 \" stroke=\"black\"/>\n",
       "<text font-family=\"Times,serif\" font-size=\"14.00\" text-anchor=\"middle\" x=\"654.5\" y=\"-174.3\">output:</text>\n",
       "<polyline fill=\"none\" points=\"682,-166.5 682,-212.5 \" stroke=\"black\"/>\n",
       "<text font-family=\"Times,serif\" font-size=\"14.00\" text-anchor=\"middle\" x=\"744.5\" y=\"-197.3\">(None, 128, 128, 3)</text>\n",
       "<polyline fill=\"none\" points=\"682,-189.5 807,-189.5 \" stroke=\"black\"/>\n",
       "<text font-family=\"Times,serif\" font-size=\"14.00\" text-anchor=\"middle\" x=\"744.5\" y=\"-174.3\">(None, 128, 128, 3)</text>\n",
       "</g>\n",
       "<!-- 140046497965112&#45;&gt;140044851024448 -->\n",
       "<g class=\"edge\" id=\"edge3\"><title>140046497965112-&gt;140044851024448</title>\n",
       "<path d=\"M603.718,-166.473C567.948,-155.937 524.97,-143.279 488.019,-132.395\" fill=\"none\" stroke=\"black\"/>\n",
       "<polygon fill=\"black\" points=\"488.848,-128.99 478.267,-129.522 486.87,-135.705 488.848,-128.99\" stroke=\"black\"/>\n",
       "</g>\n",
       "<!-- 140044850043424 -->\n",
       "<g class=\"node\" id=\"node5\"><title>140044850043424</title>\n",
       "<polygon fill=\"none\" points=\"212,-0.5 212,-46.5 595,-46.5 595,-0.5 212,-0.5\" stroke=\"black\"/>\n",
       "<text font-family=\"Times,serif\" font-size=\"14.00\" text-anchor=\"middle\" x=\"267\" y=\"-19.8\">TripletLossLayer</text>\n",
       "<polyline fill=\"none\" points=\"322,-0.5 322,-46.5 \" stroke=\"black\"/>\n",
       "<text font-family=\"Times,serif\" font-size=\"14.00\" text-anchor=\"middle\" x=\"349.5\" y=\"-31.3\">input:</text>\n",
       "<polyline fill=\"none\" points=\"322,-23.5 377,-23.5 \" stroke=\"black\"/>\n",
       "<text font-family=\"Times,serif\" font-size=\"14.00\" text-anchor=\"middle\" x=\"349.5\" y=\"-8.3\">output:</text>\n",
       "<polyline fill=\"none\" points=\"377,-0.5 377,-46.5 \" stroke=\"black\"/>\n",
       "<text font-family=\"Times,serif\" font-size=\"14.00\" text-anchor=\"middle\" x=\"486\" y=\"-31.3\">[(None, 20), (None, 20), (None, 20)]</text>\n",
       "<polyline fill=\"none\" points=\"377,-23.5 595,-23.5 \" stroke=\"black\"/>\n",
       "<text font-family=\"Times,serif\" font-size=\"14.00\" text-anchor=\"middle\" x=\"486\" y=\"-8.3\">[(None, 20), (None, 20), (None, 20)]</text>\n",
       "</g>\n",
       "<!-- 140044851024448&#45;&gt;140044850043424 -->\n",
       "<g class=\"edge\" id=\"edge4\"><title>140044851024448-&gt;140044850043424</title>\n",
       "<path d=\"M403.5,-83.3664C403.5,-75.1516 403.5,-65.6579 403.5,-56.7252\" fill=\"none\" stroke=\"black\"/>\n",
       "<polygon fill=\"black\" points=\"407,-56.6068 403.5,-46.6068 400,-56.6069 407,-56.6068\" stroke=\"black\"/>\n",
       "</g>\n",
       "</g>\n",
       "</svg>"
      ],
      "text/plain": [
       "<IPython.core.display.SVG object>"
      ]
     },
     "execution_count": 11,
     "metadata": {},
     "output_type": "execute_result"
    }
   ],
   "source": [
    "# output as image\n",
    "plot_model(tripletNet, show_shapes=True,  show_layer_names=False, to_file='./readme_imgs/tripletNet.png')\n",
    "\n",
    "# output on jupyter\n",
    "from IPython.display import SVG\n",
    "from keras.utils.vis_utils import model_to_dot\n",
    "\n",
    "SVG(model_to_dot(tripletNet, show_shapes=True, show_layer_names=False).create(prog='dot', format='svg'))"
   ]
  },
  {
   "cell_type": "code",
   "execution_count": 12,
   "metadata": {},
   "outputs": [
    {
     "data": {
      "image/svg+xml": [
       "<svg height=\"802pt\" viewBox=\"0.00 0.00 295.00 802.00\" width=\"295pt\" xmlns=\"http://www.w3.org/2000/svg\" xmlns:xlink=\"http://www.w3.org/1999/xlink\">\n",
       "<g class=\"graph\" id=\"graph0\" transform=\"scale(1 1) rotate(0) translate(4 798)\">\n",
       "<title>G</title>\n",
       "<polygon fill=\"white\" points=\"-4,4 -4,-798 291,-798 291,4 -4,4\" stroke=\"none\"/>\n",
       "<!-- 140044865691208 -->\n",
       "<g class=\"node\" id=\"node1\"><title>140044865691208</title>\n",
       "<polygon fill=\"none\" points=\"15,-747.5 15,-793.5 272,-793.5 272,-747.5 15,-747.5\" stroke=\"black\"/>\n",
       "<text font-family=\"Times,serif\" font-size=\"14.00\" text-anchor=\"middle\" x=\"53.5\" y=\"-766.8\">InputLayer</text>\n",
       "<polyline fill=\"none\" points=\"92,-747.5 92,-793.5 \" stroke=\"black\"/>\n",
       "<text font-family=\"Times,serif\" font-size=\"14.00\" text-anchor=\"middle\" x=\"119.5\" y=\"-778.3\">input:</text>\n",
       "<polyline fill=\"none\" points=\"92,-770.5 147,-770.5 \" stroke=\"black\"/>\n",
       "<text font-family=\"Times,serif\" font-size=\"14.00\" text-anchor=\"middle\" x=\"119.5\" y=\"-755.3\">output:</text>\n",
       "<polyline fill=\"none\" points=\"147,-747.5 147,-793.5 \" stroke=\"black\"/>\n",
       "<text font-family=\"Times,serif\" font-size=\"14.00\" text-anchor=\"middle\" x=\"209.5\" y=\"-778.3\">(None, 128, 128, 3)</text>\n",
       "<polyline fill=\"none\" points=\"147,-770.5 272,-770.5 \" stroke=\"black\"/>\n",
       "<text font-family=\"Times,serif\" font-size=\"14.00\" text-anchor=\"middle\" x=\"209.5\" y=\"-755.3\">(None, 128, 128, 3)</text>\n",
       "</g>\n",
       "<!-- 140044865687904 -->\n",
       "<g class=\"node\" id=\"node2\"><title>140044865687904</title>\n",
       "<polygon fill=\"none\" points=\"19.5,-664.5 19.5,-710.5 267.5,-710.5 267.5,-664.5 19.5,-664.5\" stroke=\"black\"/>\n",
       "<text font-family=\"Times,serif\" font-size=\"14.00\" text-anchor=\"middle\" x=\"50.5\" y=\"-683.8\">Conv2D</text>\n",
       "<polyline fill=\"none\" points=\"81.5,-664.5 81.5,-710.5 \" stroke=\"black\"/>\n",
       "<text font-family=\"Times,serif\" font-size=\"14.00\" text-anchor=\"middle\" x=\"109\" y=\"-695.3\">input:</text>\n",
       "<polyline fill=\"none\" points=\"81.5,-687.5 136.5,-687.5 \" stroke=\"black\"/>\n",
       "<text font-family=\"Times,serif\" font-size=\"14.00\" text-anchor=\"middle\" x=\"109\" y=\"-672.3\">output:</text>\n",
       "<polyline fill=\"none\" points=\"136.5,-664.5 136.5,-710.5 \" stroke=\"black\"/>\n",
       "<text font-family=\"Times,serif\" font-size=\"14.00\" text-anchor=\"middle\" x=\"202\" y=\"-695.3\">(None, 128, 128, 3)</text>\n",
       "<polyline fill=\"none\" points=\"136.5,-687.5 267.5,-687.5 \" stroke=\"black\"/>\n",
       "<text font-family=\"Times,serif\" font-size=\"14.00\" text-anchor=\"middle\" x=\"202\" y=\"-672.3\">(None, 128, 128, 32)</text>\n",
       "</g>\n",
       "<!-- 140044865691208&#45;&gt;140044865687904 -->\n",
       "<g class=\"edge\" id=\"edge1\"><title>140044865691208-&gt;140044865687904</title>\n",
       "<path d=\"M143.5,-747.366C143.5,-739.152 143.5,-729.658 143.5,-720.725\" fill=\"none\" stroke=\"black\"/>\n",
       "<polygon fill=\"black\" points=\"147,-720.607 143.5,-710.607 140,-720.607 147,-720.607\" stroke=\"black\"/>\n",
       "</g>\n",
       "<!-- 140044865688352 -->\n",
       "<g class=\"node\" id=\"node3\"><title>140044865688352</title>\n",
       "<polygon fill=\"none\" points=\"0,-581.5 0,-627.5 287,-627.5 287,-581.5 0,-581.5\" stroke=\"black\"/>\n",
       "<text font-family=\"Times,serif\" font-size=\"14.00\" text-anchor=\"middle\" x=\"50.5\" y=\"-600.8\">MaxPooling2D</text>\n",
       "<polyline fill=\"none\" points=\"101,-581.5 101,-627.5 \" stroke=\"black\"/>\n",
       "<text font-family=\"Times,serif\" font-size=\"14.00\" text-anchor=\"middle\" x=\"128.5\" y=\"-612.3\">input:</text>\n",
       "<polyline fill=\"none\" points=\"101,-604.5 156,-604.5 \" stroke=\"black\"/>\n",
       "<text font-family=\"Times,serif\" font-size=\"14.00\" text-anchor=\"middle\" x=\"128.5\" y=\"-589.3\">output:</text>\n",
       "<polyline fill=\"none\" points=\"156,-581.5 156,-627.5 \" stroke=\"black\"/>\n",
       "<text font-family=\"Times,serif\" font-size=\"14.00\" text-anchor=\"middle\" x=\"221.5\" y=\"-612.3\">(None, 128, 128, 32)</text>\n",
       "<polyline fill=\"none\" points=\"156,-604.5 287,-604.5 \" stroke=\"black\"/>\n",
       "<text font-family=\"Times,serif\" font-size=\"14.00\" text-anchor=\"middle\" x=\"221.5\" y=\"-589.3\">(None, 64, 64, 32)</text>\n",
       "</g>\n",
       "<!-- 140044865687904&#45;&gt;140044865688352 -->\n",
       "<g class=\"edge\" id=\"edge2\"><title>140044865687904-&gt;140044865688352</title>\n",
       "<path d=\"M143.5,-664.366C143.5,-656.152 143.5,-646.658 143.5,-637.725\" fill=\"none\" stroke=\"black\"/>\n",
       "<polygon fill=\"black\" points=\"147,-637.607 143.5,-627.607 140,-637.607 147,-637.607\" stroke=\"black\"/>\n",
       "</g>\n",
       "<!-- 140044865625784 -->\n",
       "<g class=\"node\" id=\"node4\"><title>140044865625784</title>\n",
       "<polygon fill=\"none\" points=\"26,-498.5 26,-544.5 261,-544.5 261,-498.5 26,-498.5\" stroke=\"black\"/>\n",
       "<text font-family=\"Times,serif\" font-size=\"14.00\" text-anchor=\"middle\" x=\"57\" y=\"-517.8\">Conv2D</text>\n",
       "<polyline fill=\"none\" points=\"88,-498.5 88,-544.5 \" stroke=\"black\"/>\n",
       "<text font-family=\"Times,serif\" font-size=\"14.00\" text-anchor=\"middle\" x=\"115.5\" y=\"-529.3\">input:</text>\n",
       "<polyline fill=\"none\" points=\"88,-521.5 143,-521.5 \" stroke=\"black\"/>\n",
       "<text font-family=\"Times,serif\" font-size=\"14.00\" text-anchor=\"middle\" x=\"115.5\" y=\"-506.3\">output:</text>\n",
       "<polyline fill=\"none\" points=\"143,-498.5 143,-544.5 \" stroke=\"black\"/>\n",
       "<text font-family=\"Times,serif\" font-size=\"14.00\" text-anchor=\"middle\" x=\"202\" y=\"-529.3\">(None, 64, 64, 32)</text>\n",
       "<polyline fill=\"none\" points=\"143,-521.5 261,-521.5 \" stroke=\"black\"/>\n",
       "<text font-family=\"Times,serif\" font-size=\"14.00\" text-anchor=\"middle\" x=\"202\" y=\"-506.3\">(None, 64, 64, 32)</text>\n",
       "</g>\n",
       "<!-- 140044865688352&#45;&gt;140044865625784 -->\n",
       "<g class=\"edge\" id=\"edge3\"><title>140044865688352-&gt;140044865625784</title>\n",
       "<path d=\"M143.5,-581.366C143.5,-573.152 143.5,-563.658 143.5,-554.725\" fill=\"none\" stroke=\"black\"/>\n",
       "<polygon fill=\"black\" points=\"147,-554.607 143.5,-544.607 140,-554.607 147,-554.607\" stroke=\"black\"/>\n",
       "</g>\n",
       "<!-- 140044865734528 -->\n",
       "<g class=\"node\" id=\"node5\"><title>140044865734528</title>\n",
       "<polygon fill=\"none\" points=\"6.5,-415.5 6.5,-461.5 280.5,-461.5 280.5,-415.5 6.5,-415.5\" stroke=\"black\"/>\n",
       "<text font-family=\"Times,serif\" font-size=\"14.00\" text-anchor=\"middle\" x=\"57\" y=\"-434.8\">MaxPooling2D</text>\n",
       "<polyline fill=\"none\" points=\"107.5,-415.5 107.5,-461.5 \" stroke=\"black\"/>\n",
       "<text font-family=\"Times,serif\" font-size=\"14.00\" text-anchor=\"middle\" x=\"135\" y=\"-446.3\">input:</text>\n",
       "<polyline fill=\"none\" points=\"107.5,-438.5 162.5,-438.5 \" stroke=\"black\"/>\n",
       "<text font-family=\"Times,serif\" font-size=\"14.00\" text-anchor=\"middle\" x=\"135\" y=\"-423.3\">output:</text>\n",
       "<polyline fill=\"none\" points=\"162.5,-415.5 162.5,-461.5 \" stroke=\"black\"/>\n",
       "<text font-family=\"Times,serif\" font-size=\"14.00\" text-anchor=\"middle\" x=\"221.5\" y=\"-446.3\">(None, 64, 64, 32)</text>\n",
       "<polyline fill=\"none\" points=\"162.5,-438.5 280.5,-438.5 \" stroke=\"black\"/>\n",
       "<text font-family=\"Times,serif\" font-size=\"14.00\" text-anchor=\"middle\" x=\"221.5\" y=\"-423.3\">(None, 32, 32, 32)</text>\n",
       "</g>\n",
       "<!-- 140044865625784&#45;&gt;140044865734528 -->\n",
       "<g class=\"edge\" id=\"edge4\"><title>140044865625784-&gt;140044865734528</title>\n",
       "<path d=\"M143.5,-498.366C143.5,-490.152 143.5,-480.658 143.5,-471.725\" fill=\"none\" stroke=\"black\"/>\n",
       "<polygon fill=\"black\" points=\"147,-471.607 143.5,-461.607 140,-471.607 147,-471.607\" stroke=\"black\"/>\n",
       "</g>\n",
       "<!-- 140044865412624 -->\n",
       "<g class=\"node\" id=\"node6\"><title>140044865412624</title>\n",
       "<polygon fill=\"none\" points=\"26,-332.5 26,-378.5 261,-378.5 261,-332.5 26,-332.5\" stroke=\"black\"/>\n",
       "<text font-family=\"Times,serif\" font-size=\"14.00\" text-anchor=\"middle\" x=\"57\" y=\"-351.8\">Conv2D</text>\n",
       "<polyline fill=\"none\" points=\"88,-332.5 88,-378.5 \" stroke=\"black\"/>\n",
       "<text font-family=\"Times,serif\" font-size=\"14.00\" text-anchor=\"middle\" x=\"115.5\" y=\"-363.3\">input:</text>\n",
       "<polyline fill=\"none\" points=\"88,-355.5 143,-355.5 \" stroke=\"black\"/>\n",
       "<text font-family=\"Times,serif\" font-size=\"14.00\" text-anchor=\"middle\" x=\"115.5\" y=\"-340.3\">output:</text>\n",
       "<polyline fill=\"none\" points=\"143,-332.5 143,-378.5 \" stroke=\"black\"/>\n",
       "<text font-family=\"Times,serif\" font-size=\"14.00\" text-anchor=\"middle\" x=\"202\" y=\"-363.3\">(None, 32, 32, 32)</text>\n",
       "<polyline fill=\"none\" points=\"143,-355.5 261,-355.5 \" stroke=\"black\"/>\n",
       "<text font-family=\"Times,serif\" font-size=\"14.00\" text-anchor=\"middle\" x=\"202\" y=\"-340.3\">(None, 32, 32, 32)</text>\n",
       "</g>\n",
       "<!-- 140044865734528&#45;&gt;140044865412624 -->\n",
       "<g class=\"edge\" id=\"edge5\"><title>140044865734528-&gt;140044865412624</title>\n",
       "<path d=\"M143.5,-415.366C143.5,-407.152 143.5,-397.658 143.5,-388.725\" fill=\"none\" stroke=\"black\"/>\n",
       "<polygon fill=\"black\" points=\"147,-388.607 143.5,-378.607 140,-388.607 147,-388.607\" stroke=\"black\"/>\n",
       "</g>\n",
       "<!-- 140044865496400 -->\n",
       "<g class=\"node\" id=\"node7\"><title>140044865496400</title>\n",
       "<polygon fill=\"none\" points=\"6.5,-249.5 6.5,-295.5 280.5,-295.5 280.5,-249.5 6.5,-249.5\" stroke=\"black\"/>\n",
       "<text font-family=\"Times,serif\" font-size=\"14.00\" text-anchor=\"middle\" x=\"57\" y=\"-268.8\">MaxPooling2D</text>\n",
       "<polyline fill=\"none\" points=\"107.5,-249.5 107.5,-295.5 \" stroke=\"black\"/>\n",
       "<text font-family=\"Times,serif\" font-size=\"14.00\" text-anchor=\"middle\" x=\"135\" y=\"-280.3\">input:</text>\n",
       "<polyline fill=\"none\" points=\"107.5,-272.5 162.5,-272.5 \" stroke=\"black\"/>\n",
       "<text font-family=\"Times,serif\" font-size=\"14.00\" text-anchor=\"middle\" x=\"135\" y=\"-257.3\">output:</text>\n",
       "<polyline fill=\"none\" points=\"162.5,-249.5 162.5,-295.5 \" stroke=\"black\"/>\n",
       "<text font-family=\"Times,serif\" font-size=\"14.00\" text-anchor=\"middle\" x=\"221.5\" y=\"-280.3\">(None, 32, 32, 32)</text>\n",
       "<polyline fill=\"none\" points=\"162.5,-272.5 280.5,-272.5 \" stroke=\"black\"/>\n",
       "<text font-family=\"Times,serif\" font-size=\"14.00\" text-anchor=\"middle\" x=\"221.5\" y=\"-257.3\">(None, 16, 16, 32)</text>\n",
       "</g>\n",
       "<!-- 140044865412624&#45;&gt;140044865496400 -->\n",
       "<g class=\"edge\" id=\"edge6\"><title>140044865412624-&gt;140044865496400</title>\n",
       "<path d=\"M143.5,-332.366C143.5,-324.152 143.5,-314.658 143.5,-305.725\" fill=\"none\" stroke=\"black\"/>\n",
       "<polygon fill=\"black\" points=\"147,-305.607 143.5,-295.607 140,-305.607 147,-305.607\" stroke=\"black\"/>\n",
       "</g>\n",
       "<!-- 140044865555256 -->\n",
       "<g class=\"node\" id=\"node8\"><title>140044865555256</title>\n",
       "<polygon fill=\"none\" points=\"30,-166.5 30,-212.5 257,-212.5 257,-166.5 30,-166.5\" stroke=\"black\"/>\n",
       "<text font-family=\"Times,serif\" font-size=\"14.00\" text-anchor=\"middle\" x=\"57\" y=\"-185.8\">Flatten</text>\n",
       "<polyline fill=\"none\" points=\"84,-166.5 84,-212.5 \" stroke=\"black\"/>\n",
       "<text font-family=\"Times,serif\" font-size=\"14.00\" text-anchor=\"middle\" x=\"111.5\" y=\"-197.3\">input:</text>\n",
       "<polyline fill=\"none\" points=\"84,-189.5 139,-189.5 \" stroke=\"black\"/>\n",
       "<text font-family=\"Times,serif\" font-size=\"14.00\" text-anchor=\"middle\" x=\"111.5\" y=\"-174.3\">output:</text>\n",
       "<polyline fill=\"none\" points=\"139,-166.5 139,-212.5 \" stroke=\"black\"/>\n",
       "<text font-family=\"Times,serif\" font-size=\"14.00\" text-anchor=\"middle\" x=\"198\" y=\"-197.3\">(None, 16, 16, 32)</text>\n",
       "<polyline fill=\"none\" points=\"139,-189.5 257,-189.5 \" stroke=\"black\"/>\n",
       "<text font-family=\"Times,serif\" font-size=\"14.00\" text-anchor=\"middle\" x=\"198\" y=\"-174.3\">(None, 8192)</text>\n",
       "</g>\n",
       "<!-- 140044865496400&#45;&gt;140044865555256 -->\n",
       "<g class=\"edge\" id=\"edge7\"><title>140044865496400-&gt;140044865555256</title>\n",
       "<path d=\"M143.5,-249.366C143.5,-241.152 143.5,-231.658 143.5,-222.725\" fill=\"none\" stroke=\"black\"/>\n",
       "<polygon fill=\"black\" points=\"147,-222.607 143.5,-212.607 140,-222.607 147,-222.607\" stroke=\"black\"/>\n",
       "</g>\n",
       "<!-- 140044865556264 -->\n",
       "<g class=\"node\" id=\"node9\"><title>140044865556264</title>\n",
       "<polygon fill=\"none\" points=\"46.5,-83.5 46.5,-129.5 240.5,-129.5 240.5,-83.5 46.5,-83.5\" stroke=\"black\"/>\n",
       "<text font-family=\"Times,serif\" font-size=\"14.00\" text-anchor=\"middle\" x=\"71.5\" y=\"-102.8\">Dense</text>\n",
       "<polyline fill=\"none\" points=\"96.5,-83.5 96.5,-129.5 \" stroke=\"black\"/>\n",
       "<text font-family=\"Times,serif\" font-size=\"14.00\" text-anchor=\"middle\" x=\"124\" y=\"-114.3\">input:</text>\n",
       "<polyline fill=\"none\" points=\"96.5,-106.5 151.5,-106.5 \" stroke=\"black\"/>\n",
       "<text font-family=\"Times,serif\" font-size=\"14.00\" text-anchor=\"middle\" x=\"124\" y=\"-91.3\">output:</text>\n",
       "<polyline fill=\"none\" points=\"151.5,-83.5 151.5,-129.5 \" stroke=\"black\"/>\n",
       "<text font-family=\"Times,serif\" font-size=\"14.00\" text-anchor=\"middle\" x=\"196\" y=\"-114.3\">(None, 8192)</text>\n",
       "<polyline fill=\"none\" points=\"151.5,-106.5 240.5,-106.5 \" stroke=\"black\"/>\n",
       "<text font-family=\"Times,serif\" font-size=\"14.00\" text-anchor=\"middle\" x=\"196\" y=\"-91.3\">(None, 20)</text>\n",
       "</g>\n",
       "<!-- 140044865555256&#45;&gt;140044865556264 -->\n",
       "<g class=\"edge\" id=\"edge8\"><title>140044865555256-&gt;140044865556264</title>\n",
       "<path d=\"M143.5,-166.366C143.5,-158.152 143.5,-148.658 143.5,-139.725\" fill=\"none\" stroke=\"black\"/>\n",
       "<polygon fill=\"black\" points=\"147,-139.607 143.5,-129.607 140,-139.607 147,-139.607\" stroke=\"black\"/>\n",
       "</g>\n",
       "<!-- 140044865287616 -->\n",
       "<g class=\"node\" id=\"node10\"><title>140044865287616</title>\n",
       "<polygon fill=\"none\" points=\"47,-0.5 47,-46.5 240,-46.5 240,-0.5 47,-0.5\" stroke=\"black\"/>\n",
       "<text font-family=\"Times,serif\" font-size=\"14.00\" text-anchor=\"middle\" x=\"78\" y=\"-19.8\">Lambda</text>\n",
       "<polyline fill=\"none\" points=\"109,-0.5 109,-46.5 \" stroke=\"black\"/>\n",
       "<text font-family=\"Times,serif\" font-size=\"14.00\" text-anchor=\"middle\" x=\"136.5\" y=\"-31.3\">input:</text>\n",
       "<polyline fill=\"none\" points=\"109,-23.5 164,-23.5 \" stroke=\"black\"/>\n",
       "<text font-family=\"Times,serif\" font-size=\"14.00\" text-anchor=\"middle\" x=\"136.5\" y=\"-8.3\">output:</text>\n",
       "<polyline fill=\"none\" points=\"164,-0.5 164,-46.5 \" stroke=\"black\"/>\n",
       "<text font-family=\"Times,serif\" font-size=\"14.00\" text-anchor=\"middle\" x=\"202\" y=\"-31.3\">(None, 20)</text>\n",
       "<polyline fill=\"none\" points=\"164,-23.5 240,-23.5 \" stroke=\"black\"/>\n",
       "<text font-family=\"Times,serif\" font-size=\"14.00\" text-anchor=\"middle\" x=\"202\" y=\"-8.3\">(None, 20)</text>\n",
       "</g>\n",
       "<!-- 140044865556264&#45;&gt;140044865287616 -->\n",
       "<g class=\"edge\" id=\"edge9\"><title>140044865556264-&gt;140044865287616</title>\n",
       "<path d=\"M143.5,-83.3664C143.5,-75.1516 143.5,-65.6579 143.5,-56.7252\" fill=\"none\" stroke=\"black\"/>\n",
       "<polygon fill=\"black\" points=\"147,-56.6068 143.5,-46.6068 140,-56.6069 147,-56.6068\" stroke=\"black\"/>\n",
       "</g>\n",
       "</g>\n",
       "</svg>"
      ],
      "text/plain": [
       "<IPython.core.display.SVG object>"
      ]
     },
     "execution_count": 12,
     "metadata": {},
     "output_type": "execute_result"
    }
   ],
   "source": [
    "# plot embNet\n",
    "plot_model(embNet_a, show_shapes=True,  show_layer_names=False, to_file='./readme_imgs/embNet.png') # to image\n",
    "SVG(model_to_dot(embNet_a, show_shapes=True, show_layer_names=False).create(prog='dot', format='svg')) #on jupyter"
   ]
  },
  {
   "cell_type": "markdown",
   "metadata": {},
   "source": [
    "### Load data and resize"
   ]
  },
  {
   "cell_type": "code",
   "execution_count": 13,
   "metadata": {},
   "outputs": [],
   "source": [
    "data = np.load('./np_datasets/Blouse/blouse_pad_triplets.npy')"
   ]
  },
  {
   "cell_type": "code",
   "execution_count": 14,
   "metadata": {
    "scrolled": true
   },
   "outputs": [
    {
     "data": {
      "text/plain": [
       "(1290, 3)"
      ]
     },
     "execution_count": 14,
     "metadata": {},
     "output_type": "execute_result"
    }
   ],
   "source": [
    "data.shape"
   ]
  },
  {
   "cell_type": "code",
   "execution_count": 15,
   "metadata": {},
   "outputs": [
    {
     "name": "stdout",
     "output_type": "stream",
     "text": [
      "(161, 161, 3) <class 'numpy.ndarray'>\n"
     ]
    },
    {
     "data": {
      "image/png": "[encoded data removed]",
      "text/plain": [
       "<matplotlib.figure.Figure at 0x7f5ebb8a1470>"
      ]
     },
     "metadata": {},
     "output_type": "display_data"
    }
   ],
   "source": [
    "target = data[0][0]*255\n",
    "print(target.shape,type(target))\n",
    "pilImg = Image.fromarray(np.uint8(target))\n",
    "plt.imshow(pilImg.resize((128,128)))\n",
    "plt.show()"
   ]
  },
  {
   "cell_type": "code",
   "execution_count": 16,
   "metadata": {},
   "outputs": [],
   "source": [
    "import numpy as np\n",
    "triplets_ = []\n",
    "# triplets = np.ndarray\n",
    "for triplet in data:\n",
    "    \n",
    "    anc_img = Image.fromarray(np.uint8(triplet[0])).convert('RGB')\n",
    "    pos_img = Image.fromarray(np.uint8(triplet[1])).convert('RGB')\n",
    "    neg_img = Image.fromarray(np.uint8(triplet[2])).convert('RGB')\n",
    "    \n",
    "    anc_img = np.array(anc_img.resize((128,128)))\n",
    "    pos_img = np.array(pos_img.resize((128,128)))    \n",
    "    neg_img = np.array(neg_img.resize((128,128)))    \n",
    "    \n",
    "    tri = [anc_img,pos_img,neg_img]\n",
    "    triplets_.append(np.array(tri))\n",
    "\n",
    "triplets = np.array(triplets_)    "
   ]
  },
  {
   "cell_type": "markdown",
   "metadata": {},
   "source": [
    "# 重要\n",
    "- 各ピクセルから平均を引く\n",
    "- 平均は[R,G,B]の値で出てくるはず"
   ]
  },
  {
   "cell_type": "code",
   "execution_count": 23,
   "metadata": {},
   "outputs": [
    {
     "data": {
      "text/plain": [
       "array([[0.00000000e+00, 0.00000000e+00, 0.00000000e+00],\n",
       "       [0.00000000e+00, 0.00000000e+00, 0.00000000e+00],\n",
       "       [0.00000000e+00, 0.00000000e+00, 0.00000000e+00],\n",
       "       [0.00000000e+00, 0.00000000e+00, 0.00000000e+00],\n",
       "       [0.00000000e+00, 0.00000000e+00, 0.00000000e+00],\n",
       "       [0.00000000e+00, 0.00000000e+00, 0.00000000e+00],\n",
       "       [0.00000000e+00, 0.00000000e+00, 0.00000000e+00],\n",
       "       [0.00000000e+00, 0.00000000e+00, 0.00000000e+00],\n",
       "       [0.00000000e+00, 0.00000000e+00, 0.00000000e+00],\n",
       "       [0.00000000e+00, 0.00000000e+00, 0.00000000e+00],\n",
       "       [0.00000000e+00, 0.00000000e+00, 0.00000000e+00],\n",
       "       [3.05175781e-04, 4.88281250e-04, 0.00000000e+00],\n",
       "       [4.88281250e-04, 4.27246094e-04, 0.00000000e+00],\n",
       "       [4.88281250e-04, 9.15527344e-04, 2.44140625e-04],\n",
       "       [9.15527344e-04, 1.09863281e-03, 0.00000000e+00],\n",
       "       [9.76562500e-04, 1.52587891e-03, 4.27246094e-04],\n",
       "       [1.28173828e-03, 1.89208984e-03, 7.32421875e-04],\n",
       "       [1.52587891e-03, 2.13623047e-03, 1.28173828e-03],\n",
       "       [6.10351562e-04, 1.28173828e-03, 2.44140625e-04],\n",
       "       [1.28173828e-03, 2.13623047e-03, 1.52587891e-03],\n",
       "       [6.10351562e-04, 1.03759766e-03, 4.27246094e-04],\n",
       "       [9.15527344e-04, 1.22070312e-03, 9.76562500e-04],\n",
       "       [7.93457031e-04, 1.15966797e-03, 9.76562500e-04],\n",
       "       [5.49316406e-04, 6.71386719e-04, 4.88281250e-04],\n",
       "       [3.05175781e-04, 6.10351562e-04, 6.10351562e-05],\n",
       "       [7.93457031e-04, 6.71386719e-04, 1.22070312e-04],\n",
       "       [4.27246094e-04, 1.83105469e-04, 1.22070312e-04],\n",
       "       [2.44140625e-04, 1.83105469e-04, 2.44140625e-04],\n",
       "       [2.44140625e-04, 6.10351562e-05, 2.44140625e-04],\n",
       "       [1.83105469e-04, 0.00000000e+00, 3.05175781e-04],\n",
       "       [0.00000000e+00, 0.00000000e+00, 0.00000000e+00],\n",
       "       [0.00000000e+00, 0.00000000e+00, 0.00000000e+00],\n",
       "       [0.00000000e+00, 0.00000000e+00, 0.00000000e+00],\n",
       "       [0.00000000e+00, 0.00000000e+00, 0.00000000e+00],\n",
       "       [0.00000000e+00, 0.00000000e+00, 0.00000000e+00],\n",
       "       [0.00000000e+00, 0.00000000e+00, 0.00000000e+00],\n",
       "       [0.00000000e+00, 0.00000000e+00, 0.00000000e+00],\n",
       "       [0.00000000e+00, 0.00000000e+00, 0.00000000e+00],\n",
       "       [0.00000000e+00, 0.00000000e+00, 0.00000000e+00],\n",
       "       [0.00000000e+00, 0.00000000e+00, 0.00000000e+00],\n",
       "       [0.00000000e+00, 0.00000000e+00, 0.00000000e+00],\n",
       "       [0.00000000e+00, 0.00000000e+00, 0.00000000e+00],\n",
       "       [0.00000000e+00, 0.00000000e+00, 0.00000000e+00],\n",
       "       [0.00000000e+00, 0.00000000e+00, 0.00000000e+00],\n",
       "       [0.00000000e+00, 0.00000000e+00, 0.00000000e+00],\n",
       "       [0.00000000e+00, 0.00000000e+00, 0.00000000e+00],\n",
       "       [0.00000000e+00, 0.00000000e+00, 0.00000000e+00],\n",
       "       [0.00000000e+00, 0.00000000e+00, 0.00000000e+00],\n",
       "       [0.00000000e+00, 0.00000000e+00, 0.00000000e+00],\n",
       "       [0.00000000e+00, 0.00000000e+00, 0.00000000e+00],\n",
       "       [0.00000000e+00, 0.00000000e+00, 0.00000000e+00],\n",
       "       [0.00000000e+00, 0.00000000e+00, 0.00000000e+00],\n",
       "       [0.00000000e+00, 0.00000000e+00, 0.00000000e+00],\n",
       "       [0.00000000e+00, 0.00000000e+00, 0.00000000e+00],\n",
       "       [0.00000000e+00, 0.00000000e+00, 0.00000000e+00],\n",
       "       [0.00000000e+00, 0.00000000e+00, 0.00000000e+00],\n",
       "       [0.00000000e+00, 0.00000000e+00, 0.00000000e+00],\n",
       "       [0.00000000e+00, 0.00000000e+00, 0.00000000e+00],\n",
       "       [0.00000000e+00, 0.00000000e+00, 0.00000000e+00],\n",
       "       [0.00000000e+00, 0.00000000e+00, 0.00000000e+00],\n",
       "       [0.00000000e+00, 0.00000000e+00, 0.00000000e+00],\n",
       "       [0.00000000e+00, 0.00000000e+00, 0.00000000e+00],\n",
       "       [0.00000000e+00, 0.00000000e+00, 0.00000000e+00],\n",
       "       [0.00000000e+00, 0.00000000e+00, 0.00000000e+00],\n",
       "       [0.00000000e+00, 0.00000000e+00, 0.00000000e+00],\n",
       "       [0.00000000e+00, 0.00000000e+00, 0.00000000e+00],\n",
       "       [0.00000000e+00, 0.00000000e+00, 0.00000000e+00],\n",
       "       [0.00000000e+00, 0.00000000e+00, 0.00000000e+00],\n",
       "       [0.00000000e+00, 0.00000000e+00, 0.00000000e+00],\n",
       "       [0.00000000e+00, 0.00000000e+00, 0.00000000e+00],\n",
       "       [0.00000000e+00, 0.00000000e+00, 0.00000000e+00],\n",
       "       [0.00000000e+00, 0.00000000e+00, 0.00000000e+00],\n",
       "       [0.00000000e+00, 0.00000000e+00, 0.00000000e+00],\n",
       "       [0.00000000e+00, 0.00000000e+00, 0.00000000e+00],\n",
       "       [0.00000000e+00, 0.00000000e+00, 0.00000000e+00],\n",
       "       [0.00000000e+00, 0.00000000e+00, 0.00000000e+00],\n",
       "       [0.00000000e+00, 0.00000000e+00, 0.00000000e+00],\n",
       "       [0.00000000e+00, 0.00000000e+00, 0.00000000e+00],\n",
       "       [0.00000000e+00, 0.00000000e+00, 0.00000000e+00],\n",
       "       [0.00000000e+00, 0.00000000e+00, 0.00000000e+00],\n",
       "       [0.00000000e+00, 0.00000000e+00, 0.00000000e+00],\n",
       "       [0.00000000e+00, 0.00000000e+00, 0.00000000e+00],\n",
       "       [0.00000000e+00, 0.00000000e+00, 0.00000000e+00],\n",
       "       [0.00000000e+00, 0.00000000e+00, 0.00000000e+00],\n",
       "       [0.00000000e+00, 0.00000000e+00, 0.00000000e+00],\n",
       "       [0.00000000e+00, 0.00000000e+00, 0.00000000e+00],\n",
       "       [0.00000000e+00, 0.00000000e+00, 0.00000000e+00],\n",
       "       [0.00000000e+00, 0.00000000e+00, 0.00000000e+00],\n",
       "       [0.00000000e+00, 0.00000000e+00, 0.00000000e+00],\n",
       "       [0.00000000e+00, 0.00000000e+00, 0.00000000e+00],\n",
       "       [0.00000000e+00, 0.00000000e+00, 0.00000000e+00],\n",
       "       [0.00000000e+00, 0.00000000e+00, 0.00000000e+00],\n",
       "       [0.00000000e+00, 0.00000000e+00, 0.00000000e+00],\n",
       "       [0.00000000e+00, 0.00000000e+00, 0.00000000e+00],\n",
       "       [0.00000000e+00, 0.00000000e+00, 0.00000000e+00],\n",
       "       [0.00000000e+00, 0.00000000e+00, 0.00000000e+00],\n",
       "       [0.00000000e+00, 0.00000000e+00, 0.00000000e+00],\n",
       "       [0.00000000e+00, 0.00000000e+00, 0.00000000e+00],\n",
       "       [0.00000000e+00, 0.00000000e+00, 0.00000000e+00],\n",
       "       [0.00000000e+00, 0.00000000e+00, 0.00000000e+00],\n",
       "       [0.00000000e+00, 0.00000000e+00, 0.00000000e+00],\n",
       "       [0.00000000e+00, 0.00000000e+00, 0.00000000e+00],\n",
       "       [0.00000000e+00, 0.00000000e+00, 0.00000000e+00],\n",
       "       [0.00000000e+00, 0.00000000e+00, 0.00000000e+00],\n",
       "       [0.00000000e+00, 0.00000000e+00, 0.00000000e+00],\n",
       "       [0.00000000e+00, 0.00000000e+00, 0.00000000e+00],\n",
       "       [0.00000000e+00, 0.00000000e+00, 1.22070312e-04],\n",
       "       [0.00000000e+00, 0.00000000e+00, 6.10351562e-05],\n",
       "       [0.00000000e+00, 0.00000000e+00, 6.10351562e-05],\n",
       "       [0.00000000e+00, 0.00000000e+00, 0.00000000e+00],\n",
       "       [0.00000000e+00, 0.00000000e+00, 0.00000000e+00],\n",
       "       [0.00000000e+00, 0.00000000e+00, 0.00000000e+00],\n",
       "       [0.00000000e+00, 0.00000000e+00, 3.66210938e-04],\n",
       "       [0.00000000e+00, 0.00000000e+00, 2.44140625e-04],\n",
       "       [0.00000000e+00, 0.00000000e+00, 3.05175781e-04],\n",
       "       [0.00000000e+00, 0.00000000e+00, 1.22070312e-04],\n",
       "       [0.00000000e+00, 0.00000000e+00, 0.00000000e+00],\n",
       "       [0.00000000e+00, 0.00000000e+00, 0.00000000e+00],\n",
       "       [0.00000000e+00, 0.00000000e+00, 0.00000000e+00],\n",
       "       [0.00000000e+00, 0.00000000e+00, 0.00000000e+00],\n",
       "       [0.00000000e+00, 0.00000000e+00, 0.00000000e+00],\n",
       "       [0.00000000e+00, 0.00000000e+00, 0.00000000e+00],\n",
       "       [0.00000000e+00, 0.00000000e+00, 0.00000000e+00],\n",
       "       [0.00000000e+00, 0.00000000e+00, 0.00000000e+00],\n",
       "       [0.00000000e+00, 0.00000000e+00, 0.00000000e+00],\n",
       "       [0.00000000e+00, 0.00000000e+00, 0.00000000e+00],\n",
       "       [0.00000000e+00, 0.00000000e+00, 0.00000000e+00],\n",
       "       [0.00000000e+00, 0.00000000e+00, 0.00000000e+00]])"
      ]
     },
     "execution_count": 23,
     "metadata": {},
     "output_type": "execute_result"
    }
   ],
   "source": [
    "sum(triplets[0][0])/(128*128)"
   ]
  },
  {
   "cell_type": "markdown",
   "metadata": {},
   "source": [
    "## Have to order the size"
   ]
  },
  {
   "cell_type": "code",
   "execution_count": 17,
   "metadata": {},
   "outputs": [
    {
     "data": {
      "text/plain": [
       "(1290, 3, 128, 128, 3)"
      ]
     },
     "execution_count": 17,
     "metadata": {},
     "output_type": "execute_result"
    }
   ],
   "source": [
    "triplets.shape"
   ]
  },
  {
   "cell_type": "code",
   "execution_count": 18,
   "metadata": {
    "scrolled": false
   },
   "outputs": [
    {
     "name": "stderr",
     "output_type": "stream",
     "text": [
      "/home/inouelab/.conda/envs/keras35/lib/python3.5/site-packages/ipykernel_launcher.py:2: UserWarning: Output \"triplet_loss_layer\" missing from loss dictionary. We assume this was done on purpose, and we will not be expecting any data to be passed to \"triplet_loss_layer\" during training.\n",
      "  \n"
     ]
    },
    {
     "name": "stdout",
     "output_type": "stream",
     "text": [
      "Epoch 1/30\n",
      "1290/1290 [==============================] - 18s 14ms/step - loss: 0.0484\n",
      "Epoch 2/30\n",
      "1290/1290 [==============================] - 13s 10ms/step - loss: 0.0410\n",
      "Epoch 3/30\n",
      "1290/1290 [==============================] - 12s 10ms/step - loss: 0.0322\n",
      "Epoch 4/30\n",
      "1290/1290 [==============================] - 13s 10ms/step - loss: 0.0247\n",
      "Epoch 5/30\n",
      "1290/1290 [==============================] - 12s 10ms/step - loss: 0.0191\n",
      "Epoch 6/30\n",
      "1290/1290 [==============================] - 13s 10ms/step - loss: 0.0147\n",
      "Epoch 7/30\n",
      "1290/1290 [==============================] - 13s 10ms/step - loss: 0.0115\n",
      "Epoch 8/30\n",
      "1290/1290 [==============================] - 12s 10ms/step - loss: 0.0106\n",
      "Epoch 9/30\n",
      "1290/1290 [==============================] - 13s 10ms/step - loss: 0.0092\n",
      "Epoch 10/30\n",
      "1290/1290 [==============================] - 13s 10ms/step - loss: 0.0074\n",
      "Epoch 11/30\n",
      "1290/1290 [==============================] - 13s 10ms/step - loss: 0.0082\n",
      "Epoch 12/30\n",
      "1290/1290 [==============================] - 12s 10ms/step - loss: 0.0070\n",
      "Epoch 13/30\n",
      "1290/1290 [==============================] - 13s 10ms/step - loss: 0.0067\n",
      "Epoch 14/30\n",
      "1290/1290 [==============================] - 13s 10ms/step - loss: 0.0062\n",
      "Epoch 15/30\n",
      "1290/1290 [==============================] - 13s 10ms/step - loss: 0.0059\n",
      "Epoch 16/30\n",
      "1290/1290 [==============================] - 13s 10ms/step - loss: 0.0051\n",
      "Epoch 17/30\n",
      "1290/1290 [==============================] - 12s 10ms/step - loss: 0.0049\n",
      "Epoch 18/30\n",
      "1290/1290 [==============================] - 12s 10ms/step - loss: 0.0050\n",
      "Epoch 19/30\n",
      "1290/1290 [==============================] - 12s 10ms/step - loss: 0.0053\n",
      "Epoch 20/30\n",
      "1290/1290 [==============================] - 13s 10ms/step - loss: 0.0049\n",
      "Epoch 21/30\n",
      "1290/1290 [==============================] - 13s 10ms/step - loss: 0.0044\n",
      "Epoch 22/30\n",
      "1290/1290 [==============================] - 13s 10ms/step - loss: 0.0041\n",
      "Epoch 23/30\n",
      "1290/1290 [==============================] - 12s 10ms/step - loss: 0.0043\n",
      "Epoch 24/30\n",
      "1290/1290 [==============================] - 12s 10ms/step - loss: 0.0044\n",
      "Epoch 25/30\n",
      "1290/1290 [==============================] - 12s 10ms/step - loss: 0.0036\n",
      "Epoch 26/30\n",
      "1290/1290 [==============================] - 12s 10ms/step - loss: 0.0042\n",
      "Epoch 27/30\n",
      "1290/1290 [==============================] - 13s 10ms/step - loss: 0.0036\n",
      "Epoch 28/30\n",
      "1290/1290 [==============================] - 12s 10ms/step - loss: 0.0037\n",
      "Epoch 29/30\n",
      "1290/1290 [==============================] - 12s 10ms/step - loss: 0.0035\n",
      "Epoch 30/30\n",
      "1290/1290 [==============================] - 12s 10ms/step - loss: 0.0035\n"
     ]
    }
   ],
   "source": [
    "# compile model\n",
    "tripletNet.compile(loss=None, optimizer='adam')\n",
    "\n",
    "# fit model\n",
    "# tripletNet.fit([triplets[:,0],triplets[:,1],triplets[:,2]], epochs=10, steps_per_epoch=100)\n",
    "tripletNet.fit([triplets[:,0],triplets[:,1],triplets[:,2]], epochs=30, batch_size=1) # using batch_size is better\n",
    "tripletNet.save('./np_datasets/Blouse/blouseTriplet.h5')\n",
    "\n",
    "# save partial Network \n",
    "embNet_a.save('./np_datasets/Blouse/blouse_embNet_a.h5')\n",
    "embNet_p.save('./np_datasets/Blouse/blouse_embNet_p.h5')\n",
    "embNet_n.save('./np_datasets/Blouse/blouse_embNet_n.h5')"
   ]
  },
  {
   "cell_type": "markdown",
   "metadata": {},
   "source": [
    "### confirm the behavior of trained network"
   ]
  },
  {
   "cell_type": "code",
   "execution_count": 34,
   "metadata": {
    "scrolled": true
   },
   "outputs": [
    {
     "name": "stderr",
     "output_type": "stream",
     "text": [
      "/home/inouelab/.conda/envs/keras35/lib/python3.5/site-packages/keras/models.py:252: UserWarning: No training configuration found in save file: the model was *not* compiled. Compile it manually.\n",
      "  warnings.warn('No training configuration found in save file: '\n"
     ]
    }
   ],
   "source": [
    "from keras.models import load_model\n",
    "embNet = load_model('./np_datasets/Blouse/blouse_embNet_a.h5')"
   ]
  },
  {
   "cell_type": "code",
   "execution_count": 50,
   "metadata": {},
   "outputs": [],
   "source": [
    "import random\n",
    "test_data = np.array(random.sample(list(triplets),10))"
   ]
  },
  {
   "cell_type": "code",
   "execution_count": 51,
   "metadata": {},
   "outputs": [
    {
     "data": {
      "text/plain": [
       "(128, 128, 3)"
      ]
     },
     "execution_count": 51,
     "metadata": {},
     "output_type": "execute_result"
    }
   ],
   "source": [
    "test_data[0][0].shape"
   ]
  },
  {
   "cell_type": "code",
   "execution_count": 52,
   "metadata": {},
   "outputs": [
    {
     "name": "stdout",
     "output_type": "stream",
     "text": [
      "(128, 128, 3)\n",
      "(128, 128, 3)\n",
      "(128, 128, 3)\n",
      "(128, 128, 3)\n",
      "(128, 128, 3)\n",
      "(128, 128, 3)\n",
      "(128, 128, 3)\n",
      "(128, 128, 3)\n",
      "(128, 128, 3)\n",
      "(128, 128, 3)\n"
     ]
    }
   ],
   "source": [
    "vec_length=10\n",
    "emb_vecs = np.zeros((len(test_data),vec_length))\n",
    "for i,x in enumerate(test_data[:,0]):\n",
    "    print(x.shape)\n",
    "    emb_vecs[i] = embNet.predict(np.expand_dims(x,axis=0))[0] # need [0] because of expanding dimension -> [[]]"
   ]
  },
  {
   "cell_type": "code",
   "execution_count": null,
   "metadata": {},
   "outputs": [],
   "source": []
  }
 ],
 "metadata": {
  "kernelspec": {
   "display_name": "keras35",
   "language": "python",
   "name": "keras35"
  },
  "language_info": {
   "codemirror_mode": {
    "name": "ipython",
    "version": 3
   },
   "file_extension": ".py",
   "mimetype": "text/x-python",
   "name": "python",
   "nbconvert_exporter": "python",
   "pygments_lexer": "ipython3",
   "version": "3.5.4"
  }
 },
 "nbformat": 4,
 "nbformat_minor": 2
}
