{
 "cells": [
  {
   "cell_type": "markdown",
   "metadata": {},
   "source": [
    "# シングルネットワーク用のnotebook\n",
    "精度を求めるために基本的にはデュアルのネットワークを利用すれば良いが、比較のために用意している。"
   ]
  },
  {
   "cell_type": "code",
   "execution_count": 1,
   "metadata": {},
   "outputs": [],
   "source": [
    "import numpy as np\n",
    "import matplotlib.pyplot as plt\n",
    "from PIL import Image\n",
    "import random\n",
    "from numba import jit\n",
    "\n",
    "from tqdm import tqdm\n",
    "import os\n",
    "%matplotlib inline"
   ]
  },
  {
   "cell_type": "code",
   "execution_count": 2,
   "metadata": {},
   "outputs": [],
   "source": [
    "# import os\n",
    "# os.environ['CUDA_VISIBLE_DEVICES']='0'\n",
    "# import keras"
   ]
  },
  {
   "cell_type": "code",
   "execution_count": 3,
   "metadata": {},
   "outputs": [
    {
     "name": "stderr",
     "output_type": "stream",
     "text": [
      "/home/pip/koki_ishizuka/.conda/envs/py35-zukapy/lib/python3.5/site-packages/h5py/__init__.py:36: FutureWarning: Conversion of the second argument of issubdtype from `float` to `np.floating` is deprecated. In future, it will be treated as `np.float64 == np.dtype(float).type`.\n",
      "  from ._conv import register_converters as _register_converters\n",
      "Using TensorFlow backend.\n"
     ]
    }
   ],
   "source": [
    "from keras.applications.vgg16 import VGG16\n",
    "from keras.preprocessing.image import ImageDataGenerator"
   ]
  },
  {
   "cell_type": "code",
   "execution_count": 4,
   "metadata": {},
   "outputs": [],
   "source": [
    "from keras.utils import plot_model\n",
    "from keras.models import Model\n",
    "from keras.layers import Input,Layer,Lambda\n",
    "from keras.layers import Flatten,BatchNormalization\n",
    "from keras.layers import Dense,Dropout\n",
    "from keras.layers.convolutional import Conv2D\n",
    "from keras.layers.pooling import MaxPooling2D\n",
    "from keras import backend as K"
   ]
  },
  {
   "cell_type": "code",
   "execution_count": 5,
   "metadata": {},
   "outputs": [],
   "source": [
    "imheight = 128\n",
    "imwidth = 128\n",
    "channels = 3\n",
    "ALPHA = 0.1\n",
    "BETA = 0.05\n",
    "dense_num = 512\n",
    "vec_length = 512\n",
    "category = 'Coat'"
   ]
  },
  {
   "cell_type": "code",
   "execution_count": 6,
   "metadata": {},
   "outputs": [
    {
     "name": "stdout",
     "output_type": "stream",
     "text": [
      "WARNING:tensorflow:From /home/pip/koki_ishizuka/.conda/envs/py35-zukapy/lib/python3.5/site-packages/tensorflow/python/framework/op_def_library.py:263: colocate_with (from tensorflow.python.framework.ops) is deprecated and will be removed in a future version.\n",
      "Instructions for updating:\n",
      "Colocations handled automatically by placer.\n"
     ]
    }
   ],
   "source": [
    "from keras.applications.vgg16 import VGG16\n",
    "#include_top=false => Dense不要\n",
    "base_model = VGG16(include_top=False, weights='imagenet', input_tensor=Input(shape=(imwidth, imheight, channels)), input_shape=None) "
   ]
  },
  {
   "cell_type": "code",
   "execution_count": 7,
   "metadata": {},
   "outputs": [],
   "source": [
    "for layer in base_model.layers[:15]:\n",
    "    layer.trainable=False"
   ]
  },
  {
   "cell_type": "code",
   "execution_count": 8,
   "metadata": {},
   "outputs": [],
   "source": [
    "def create_embNet():\n",
    "    x = base_model.output\n",
    "    conv1 = Conv2D(filters=32, kernel_size=(3,3), padding='same', activation='relu')(x)\n",
    "    conv2 = Conv2D(filters=32, kernel_size=(3,3) , padding='same', activation='relu')(conv1)\n",
    "    flatten = Flatten()(conv2) \n",
    "    dense_layer = Dense(dense_num, activation='relu')(flatten)\n",
    "    norm_layer = Lambda(lambda  x: K.l2_normalize(x, axis=1), name='norm_layer')(dense_layer)\n",
    "    return  Model(inputs=[base_model.input], outputs=norm_layer)"
   ]
  },
  {
   "cell_type": "code",
   "execution_count": 9,
   "metadata": {},
   "outputs": [],
   "source": [
    "# define three Inputs\n",
    "a_in = Input(shape = (imheight, imwidth, channels), name='anchor_input')\n",
    "p_in = Input(shape = (imheight, imwidth, channels), name='positive_input')\n",
    "n_in = Input(shape = (imheight, imwidth, channels), name='negative_input')"
   ]
  },
  {
   "cell_type": "code",
   "execution_count": 10,
   "metadata": {},
   "outputs": [],
   "source": [
    "# 学習後にベクトルのencoderとして利用するので外に定義する。\n",
    "con_embNet = create_embNet()\n",
    "shop_embNet = create_embNet()"
   ]
  },
  {
   "cell_type": "code",
   "execution_count": 11,
   "metadata": {},
   "outputs": [],
   "source": [
    "a_emb = shop_embNet(a_in)\n",
    "p_emb = con_embNet(p_in)\n",
    "n_emb = con_embNet(n_in)"
   ]
  },
  {
   "cell_type": "code",
   "execution_count": 12,
   "metadata": {},
   "outputs": [],
   "source": [
    "class TripletLossLayer(Layer):\n",
    "    def __init__(self, alpha, **kwargs):\n",
    "        self.alpha = alpha\n",
    "        super(TripletLossLayer, self).__init__(**kwargs)\n",
    "    \n",
    "    def triplet_loss(self, inputs):\n",
    "        a, p, n = inputs\n",
    "        p_dist = K.sum(K.square(a-p), axis=-1)\n",
    "        n_dist = K.sum(K.square(a-n), axis=-1)\n",
    "        return K.sum(K.maximum(p_dist - n_dist + self.alpha, 0), axis=0)\n",
    "    \n",
    "    def call(self, inputs):\n",
    "        loss = self.triplet_loss(inputs)\n",
    "        self.add_loss(loss)\n",
    "        return loss\n",
    "    \n",
    "    def get_config(self):\n",
    "        config = {'alpha': self.alpha}\n",
    "        base_config = super(TripletLossLayer, self).get_config()\n",
    "        return dict(list(base_config.items()) + list(config.items()))"
   ]
  },
  {
   "cell_type": "code",
   "execution_count": 13,
   "metadata": {},
   "outputs": [],
   "source": [
    "class ImprovedTripletLossLayer(Layer):\n",
    "    def __init__(self, alpha, beta, **kwargs):\n",
    "        self.alpha = alpha\n",
    "        self.beta = beta\n",
    "        super(ImprovedTripletLossLayer, self).__init__(**kwargs)\n",
    "\n",
    "    def triplet_loss(self, inputs):\n",
    "        a, p, n = inputs\n",
    "        p_dist = K.sum(K.square(a-p), axis=-1)\n",
    "        n_dist = K.sum(K.square(a-n), axis=-1)\n",
    "        pn_dist = K.sum(K.square(p-n), axis=-1)\n",
    "        return K.sum(K.maximum((p_dist - n_dist + self.alpha), 0) + K.maximum((p_dist - self.beta), 0), axis=0)\n",
    "    \n",
    "    def call(self, inputs):\n",
    "        loss = self.triplet_loss(inputs)\n",
    "        self.add_loss(loss)\n",
    "        return loss\n",
    "    \n",
    "    def get_config(self):\n",
    "        config = {'alpha': self.alpha}\n",
    "        base_config = super(TripletLossLayer, self).get_config()\n",
    "        return dict(list(base_config.items()) + list(config.items()))"
   ]
  },
  {
   "cell_type": "code",
   "execution_count": 14,
   "metadata": {},
   "outputs": [
    {
     "name": "stdout",
     "output_type": "stream",
     "text": [
      "_________________________________________________________________\n",
      "Layer (type)                 Output Shape              Param #   \n",
      "=================================================================\n",
      "input_1 (InputLayer)         (None, 128, 128, 3)       0         \n",
      "_________________________________________________________________\n",
      "block1_conv1 (Conv2D)        (None, 128, 128, 64)      1792      \n",
      "_________________________________________________________________\n",
      "block1_conv2 (Conv2D)        (None, 128, 128, 64)      36928     \n",
      "_________________________________________________________________\n",
      "block1_pool (MaxPooling2D)   (None, 64, 64, 64)        0         \n",
      "_________________________________________________________________\n",
      "block2_conv1 (Conv2D)        (None, 64, 64, 128)       73856     \n",
      "_________________________________________________________________\n",
      "block2_conv2 (Conv2D)        (None, 64, 64, 128)       147584    \n",
      "_________________________________________________________________\n",
      "block2_pool (MaxPooling2D)   (None, 32, 32, 128)       0         \n",
      "_________________________________________________________________\n",
      "block3_conv1 (Conv2D)        (None, 32, 32, 256)       295168    \n",
      "_________________________________________________________________\n",
      "block3_conv2 (Conv2D)        (None, 32, 32, 256)       590080    \n",
      "_________________________________________________________________\n",
      "block3_conv3 (Conv2D)        (None, 32, 32, 256)       590080    \n",
      "_________________________________________________________________\n",
      "block3_pool (MaxPooling2D)   (None, 16, 16, 256)       0         \n",
      "_________________________________________________________________\n",
      "block4_conv1 (Conv2D)        (None, 16, 16, 512)       1180160   \n",
      "_________________________________________________________________\n",
      "block4_conv2 (Conv2D)        (None, 16, 16, 512)       2359808   \n",
      "_________________________________________________________________\n",
      "block4_conv3 (Conv2D)        (None, 16, 16, 512)       2359808   \n",
      "_________________________________________________________________\n",
      "block4_pool (MaxPooling2D)   (None, 8, 8, 512)         0         \n",
      "_________________________________________________________________\n",
      "block5_conv1 (Conv2D)        (None, 8, 8, 512)         2359808   \n",
      "_________________________________________________________________\n",
      "block5_conv2 (Conv2D)        (None, 8, 8, 512)         2359808   \n",
      "_________________________________________________________________\n",
      "block5_conv3 (Conv2D)        (None, 8, 8, 512)         2359808   \n",
      "_________________________________________________________________\n",
      "block5_pool (MaxPooling2D)   (None, 4, 4, 512)         0         \n",
      "_________________________________________________________________\n",
      "conv2d_1 (Conv2D)            (None, 4, 4, 32)          147488    \n",
      "_________________________________________________________________\n",
      "conv2d_2 (Conv2D)            (None, 4, 4, 32)          9248      \n",
      "_________________________________________________________________\n",
      "flatten_1 (Flatten)          (None, 512)               0         \n",
      "_________________________________________________________________\n",
      "dense_1 (Dense)              (None, 512)               262656    \n",
      "_________________________________________________________________\n",
      "norm_layer (Lambda)          (None, 512)               0         \n",
      "=================================================================\n",
      "Total params: 15,134,080\n",
      "Trainable params: 7,498,816\n",
      "Non-trainable params: 7,635,264\n",
      "_________________________________________________________________\n"
     ]
    }
   ],
   "source": [
    "con_embNet.summary()"
   ]
  },
  {
   "cell_type": "markdown",
   "metadata": {},
   "source": [
    "## triplet lossの選択を忘れずに"
   ]
  },
  {
   "cell_type": "code",
   "execution_count": 29,
   "metadata": {},
   "outputs": [],
   "source": [
    "# Layer that computes the triplet loss from anchor, positive and negative embedding vectors\n",
    "# triplet_loss_layer = TripletLossLayer(alpha=ALPHA,name='triplet_loss_layer')([a_emb, p_emb, n_emb])\n",
    "triplet_loss_layer = ImprovedTripletLossLayer(alpha=ALPHA,beta=BETA,name='triplet_loss_layer')([a_emb, p_emb, n_emb])\n",
    "\n",
    "# Model that can be trained with anchor, positive negative images\n",
    "tripletNet = Model([a_in, p_in, n_in], triplet_loss_layer)\n",
    "\n",
    "# complie\n",
    "tripletNet.compile(loss=None, optimizer='adam')"
   ]
  },
  {
   "cell_type": "code",
   "execution_count": 16,
   "metadata": {},
   "outputs": [
    {
     "name": "stdout",
     "output_type": "stream",
     "text": [
      "__________________________________________________________________________________________________\n",
      "Layer (type)                    Output Shape         Param #     Connected to                     \n",
      "==================================================================================================\n",
      "anchor_input (InputLayer)       (None, 128, 128, 3)  0                                            \n",
      "__________________________________________________________________________________________________\n",
      "positive_input (InputLayer)     (None, 128, 128, 3)  0                                            \n",
      "__________________________________________________________________________________________________\n",
      "negative_input (InputLayer)     (None, 128, 128, 3)  0                                            \n",
      "__________________________________________________________________________________________________\n",
      "model_2 (Model)                 (None, 512)          15134080    anchor_input[0][0]               \n",
      "__________________________________________________________________________________________________\n",
      "model_1 (Model)                 (None, 512)          15134080    positive_input[0][0]             \n",
      "                                                                 negative_input[0][0]             \n",
      "__________________________________________________________________________________________________\n",
      "triplet_loss_layer (TripletLoss [(None, 512), (None, 0           model_2[1][0]                    \n",
      "                                                                 model_1[1][0]                    \n",
      "                                                                 model_1[2][0]                    \n",
      "==================================================================================================\n",
      "Total params: 15,553,472\n",
      "Trainable params: 7,918,208\n",
      "Non-trainable params: 7,635,264\n",
      "__________________________________________________________________________________________________\n"
     ]
    }
   ],
   "source": [
    "tripletNet.summary()"
   ]
  },
  {
   "cell_type": "code",
   "execution_count": 17,
   "metadata": {},
   "outputs": [],
   "source": [
    "from keras.utils import plot_model\n",
    "plot_model(tripletNet, to_file='model.png')"
   ]
  },
  {
   "cell_type": "code",
   "execution_count": 18,
   "metadata": {},
   "outputs": [
    {
     "data": {
      "image/svg+xml": [
       "<svg height=\"191pt\" viewBox=\"0.00 0.00 524.50 191.00\" width=\"525pt\" xmlns=\"http://www.w3.org/2000/svg\" xmlns:xlink=\"http://www.w3.org/1999/xlink\">\n",
       "<g class=\"graph\" id=\"graph0\" transform=\"scale(1 1) rotate(0) translate(4 187)\">\n",
       "<title>G</title>\n",
       "<polygon fill=\"#ffffff\" points=\"-4,4 -4,-187 520.5,-187 520.5,4 -4,4\" stroke=\"transparent\"/>\n",
       "<!-- 140676555426112 -->\n",
       "<g class=\"node\" id=\"node1\">\n",
       "<title>140676555426112</title>\n",
       "<polygon fill=\"none\" points=\"0,-146.5 0,-182.5 155,-182.5 155,-146.5 0,-146.5\" stroke=\"#000000\"/>\n",
       "<text fill=\"#000000\" font-family=\"Times,serif\" font-size=\"14.00\" text-anchor=\"middle\" x=\"77.5\" y=\"-160.8\">anchor_input: InputLayer</text>\n",
       "</g>\n",
       "<!-- 140676615607464 -->\n",
       "<g class=\"node\" id=\"node4\">\n",
       "<title>140676615607464</title>\n",
       "<polygon fill=\"none\" points=\"48.5,-73.5 48.5,-109.5 156.5,-109.5 156.5,-73.5 48.5,-73.5\" stroke=\"#000000\"/>\n",
       "<text fill=\"#000000\" font-family=\"Times,serif\" font-size=\"14.00\" text-anchor=\"middle\" x=\"102.5\" y=\"-87.8\">model_2: Model</text>\n",
       "</g>\n",
       "<!-- 140676555426112&#45;&gt;140676615607464 -->\n",
       "<g class=\"edge\" id=\"edge1\">\n",
       "<title>140676555426112-&gt;140676615607464</title>\n",
       "<path d=\"M83.6798,-146.4551C86.5043,-138.2074 89.9132,-128.2536 93.0493,-119.0962\" fill=\"none\" stroke=\"#000000\"/>\n",
       "<polygon fill=\"#000000\" points=\"96.3759,-120.185 96.3047,-109.5904 89.7535,-117.917 96.3759,-120.185\" stroke=\"#000000\"/>\n",
       "</g>\n",
       "<!-- 140676555426000 -->\n",
       "<g class=\"node\" id=\"node2\">\n",
       "<title>140676555426000</title>\n",
       "<polygon fill=\"none\" points=\"173,-146.5 173,-182.5 334,-182.5 334,-146.5 173,-146.5\" stroke=\"#000000\"/>\n",
       "<text fill=\"#000000\" font-family=\"Times,serif\" font-size=\"14.00\" text-anchor=\"middle\" x=\"253.5\" y=\"-160.8\">positive_input: InputLayer</text>\n",
       "</g>\n",
       "<!-- 140676616078336 -->\n",
       "<g class=\"node\" id=\"node5\">\n",
       "<title>140676616078336</title>\n",
       "<polygon fill=\"none\" points=\"199.5,-73.5 199.5,-109.5 307.5,-109.5 307.5,-73.5 199.5,-73.5\" stroke=\"#000000\"/>\n",
       "<text fill=\"#000000\" font-family=\"Times,serif\" font-size=\"14.00\" text-anchor=\"middle\" x=\"253.5\" y=\"-87.8\">model_1: Model</text>\n",
       "</g>\n",
       "<!-- 140676555426000&#45;&gt;140676616078336 -->\n",
       "<g class=\"edge\" id=\"edge2\">\n",
       "<title>140676555426000-&gt;140676616078336</title>\n",
       "<path d=\"M253.5,-146.4551C253.5,-138.3828 253.5,-128.6764 253.5,-119.6817\" fill=\"none\" stroke=\"#000000\"/>\n",
       "<polygon fill=\"#000000\" points=\"257.0001,-119.5903 253.5,-109.5904 250.0001,-119.5904 257.0001,-119.5903\" stroke=\"#000000\"/>\n",
       "</g>\n",
       "<!-- 140676555426280 -->\n",
       "<g class=\"node\" id=\"node3\">\n",
       "<title>140676555426280</title>\n",
       "<polygon fill=\"none\" points=\"352.5,-146.5 352.5,-182.5 516.5,-182.5 516.5,-146.5 352.5,-146.5\" stroke=\"#000000\"/>\n",
       "<text fill=\"#000000\" font-family=\"Times,serif\" font-size=\"14.00\" text-anchor=\"middle\" x=\"434.5\" y=\"-160.8\">negative_input: InputLayer</text>\n",
       "</g>\n",
       "<!-- 140676555426280&#45;&gt;140676616078336 -->\n",
       "<g class=\"edge\" id=\"edge3\">\n",
       "<title>140676555426280-&gt;140676616078336</title>\n",
       "<path d=\"M389.7584,-146.4551C364.9576,-136.4525 333.9352,-123.9407 307.7585,-113.3833\" fill=\"none\" stroke=\"#000000\"/>\n",
       "<polygon fill=\"#000000\" points=\"308.9375,-110.0849 298.3542,-109.5904 306.3192,-116.5768 308.9375,-110.0849\" stroke=\"#000000\"/>\n",
       "</g>\n",
       "<!-- 140676613250744 -->\n",
       "<g class=\"node\" id=\"node6\">\n",
       "<title>140676613250744</title>\n",
       "<polygon fill=\"none\" points=\"59.5,-.5 59.5,-36.5 271.5,-36.5 271.5,-.5 59.5,-.5\" stroke=\"#000000\"/>\n",
       "<text fill=\"#000000\" font-family=\"Times,serif\" font-size=\"14.00\" text-anchor=\"middle\" x=\"165.5\" y=\"-14.8\">triplet_loss_layer: TripletLossLayer</text>\n",
       "</g>\n",
       "<!-- 140676615607464&#45;&gt;140676613250744 -->\n",
       "<g class=\"edge\" id=\"edge4\">\n",
       "<title>140676615607464-&gt;140676613250744</title>\n",
       "<path d=\"M118.073,-73.4551C125.6452,-64.6809 134.8838,-53.9759 143.1885,-44.353\" fill=\"none\" stroke=\"#000000\"/>\n",
       "<polygon fill=\"#000000\" points=\"146.0039,-46.4477 149.8878,-36.5904 140.7045,-41.8742 146.0039,-46.4477\" stroke=\"#000000\"/>\n",
       "</g>\n",
       "<!-- 140676616078336&#45;&gt;140676613250744 -->\n",
       "<g class=\"edge\" id=\"edge5\">\n",
       "<title>140676616078336-&gt;140676613250744</title>\n",
       "<path d=\"M231.7472,-73.4551C220.747,-64.3299 207.2294,-53.1165 195.2797,-43.2036\" fill=\"none\" stroke=\"#000000\"/>\n",
       "<polygon fill=\"#000000\" points=\"197.2387,-40.2812 187.3076,-36.5904 192.7695,-45.6688 197.2387,-40.2812\" stroke=\"#000000\"/>\n",
       "</g>\n",
       "</g>\n",
       "</svg>"
      ],
      "text/plain": [
       "<IPython.core.display.SVG object>"
      ]
     },
     "execution_count": 18,
     "metadata": {},
     "output_type": "execute_result"
    }
   ],
   "source": [
    "from IPython.display import SVG\n",
    "from keras.utils.vis_utils import model_to_dot\n",
    "\n",
    "SVG(model_to_dot(tripletNet).create(prog='dot', format='svg'))"
   ]
  },
  {
   "cell_type": "markdown",
   "metadata": {},
   "source": [
    "### データの用意"
   ]
  },
  {
   "cell_type": "code",
   "execution_count": 43,
   "metadata": {},
   "outputs": [],
   "source": [
    "BASE_PATH = './dataset/crop_img/img/TOPS/Coat/'\n",
    "ids_ = sorted([x for x in os.listdir(BASE_PATH)])"
   ]
  },
  {
   "cell_type": "code",
   "execution_count": 44,
   "metadata": {},
   "outputs": [
    {
     "data": {
      "text/plain": [
       "'id_00000002'"
      ]
     },
     "execution_count": 44,
     "metadata": {},
     "output_type": "execute_result"
    }
   ],
   "source": [
    "ids_[0]"
   ]
  },
  {
   "cell_type": "code",
   "execution_count": 45,
   "metadata": {},
   "outputs": [
    {
     "data": {
      "text/plain": [
       "2432"
      ]
     },
     "execution_count": 45,
     "metadata": {},
     "output_type": "execute_result"
    }
   ],
   "source": [
    "len(ids_)"
   ]
  },
  {
   "cell_type": "code",
   "execution_count": 46,
   "metadata": {},
   "outputs": [],
   "source": [
    "import shutil\n",
    "def rmdir(ids,PATH):\n",
    "    for id_ in ids:\n",
    "        files = sorted([BASE_PATH+id_+'/'+x for x in os.listdir(BASE_PATH+id_)])\n",
    "        con = sorted([x for x in files if 'comsumer' in x])\n",
    "        shop = sorted([x for x in files if 'shop' in x ])\n",
    "        if len(con)==0 or len(shop)==0:\n",
    "            shutil.rmtree(PATH+id_)\n",
    "    return os.listdir(BASE_PATH)"
   ]
  },
  {
   "cell_type": "code",
   "execution_count": 47,
   "metadata": {},
   "outputs": [],
   "source": [
    "ids = sorted([x for x in rmdir(ids_,BASE_PATH)])"
   ]
  },
  {
   "cell_type": "markdown",
   "metadata": {},
   "source": [
    "### tripletのパスの組を返す関数"
   ]
  },
  {
   "cell_type": "code",
   "execution_count": 48,
   "metadata": {},
   "outputs": [],
   "source": [
    "import itertools\n",
    "import random\n",
    "def get_triplets(ids,BASE_PATH):\n",
    "    triplets=[]\n",
    "    for id_ in tqdm(ids):\n",
    "        files = sorted([BASE_PATH+id_+'/'+x for x in os.listdir(BASE_PATH+id_)])\n",
    "        con = sorted([x for x in files if 'comsumer' in x])\n",
    "        shop = sorted([x for x in files if 'shop' in x ])\n",
    "        combs = list(itertools.product(tuple(con),tuple(shop)))\n",
    "        for comb in combs:\n",
    "            comb = list(comb)\n",
    "            neg_id = random.choice([x for x in ids if x != id_])\n",
    "            neg_file = random.choice([BASE_PATH+neg_id+'/'+x for x in os.listdir(BASE_PATH+neg_id) if 'shop' in x])\n",
    "            comb.append(neg_file)\n",
    "            triplets.append(comb)\n",
    "    return triplets"
   ]
  },
  {
   "cell_type": "markdown",
   "metadata": {},
   "source": [
    "### id単位でtrainとtestを分割する\n",
    "- 元々np.random.choice()でやっていたが、ブートストラップサンプリングだったのでダメ\n",
    "- train_test_splitを利用"
   ]
  },
  {
   "cell_type": "code",
   "execution_count": 49,
   "metadata": {},
   "outputs": [],
   "source": [
    "from sklearn.cross_validation import train_test_split\n",
    "# from sklearn.model_selection import ShuffleSplit"
   ]
  },
  {
   "cell_type": "code",
   "execution_count": 50,
   "metadata": {},
   "outputs": [],
   "source": [
    "# random_stateを固定しておく\n",
    "train_ids,test_ids=train_test_split(ids,test_size=0.33,random_state=0)\n",
    "del ids"
   ]
  },
  {
   "cell_type": "code",
   "execution_count": 51,
   "metadata": {
    "scrolled": true
   },
   "outputs": [
    {
     "data": {
      "text/plain": [
       "['id_00011168', 'id_00016640', 'id_00027543', 'id_00020250', 'id_00014516']"
      ]
     },
     "execution_count": 51,
     "metadata": {},
     "output_type": "execute_result"
    }
   ],
   "source": [
    "train_ids[:5]"
   ]
  },
  {
   "cell_type": "code",
   "execution_count": 52,
   "metadata": {},
   "outputs": [],
   "source": [
    "from PIL import Image\n",
    "def get_np_triplets(triplet_PATHs):\n",
    "    triplets = []\n",
    "    for triplet in tqdm(triplet_PATHs):\n",
    "        anc_img = Image.open(triplet[0]).convert('RGB')\n",
    "        pos_img = Image.open(triplet[1]).convert('RGB')\n",
    "        neg_img = Image.open(triplet[2]).convert('RGB')\n",
    "\n",
    "        anc_img = np.array(anc_img.resize((128,128)))/255. #resize to (128,128,3)\n",
    "        pos_img = np.array(pos_img.resize((128,128)))/255.    \n",
    "        neg_img = np.array(neg_img.resize((128,128)))/255.    \n",
    "\n",
    "        tri = [anc_img,pos_img,neg_img]\n",
    "        triplets.append(np.array(tri))\n",
    "    triplets = np.array(triplets)\n",
    "    return triplets"
   ]
  },
  {
   "cell_type": "markdown",
   "metadata": {},
   "source": [
    "test_idsはretrival.ipynbで参照するのでpickleとして保存"
   ]
  },
  {
   "cell_type": "code",
   "execution_count": 53,
   "metadata": {},
   "outputs": [],
   "source": [
    "import pickle\n",
    "f = open('./pickle/{}/test_ids.pickle'.format(category), 'wb')\n",
    "pickle.dump(test_ids, f)"
   ]
  },
  {
   "cell_type": "markdown",
   "metadata": {},
   "source": [
    "## 学習"
   ]
  },
  {
   "cell_type": "code",
   "execution_count": 30,
   "metadata": {},
   "outputs": [
    {
     "data": {
      "text/plain": [
       "['.ipynb_checkpoints', '512']"
      ]
     },
     "execution_count": 30,
     "metadata": {},
     "output_type": "execute_result"
    }
   ],
   "source": [
    "epochs = 100\n",
    "# model_dir ='./model/{}/Single_normal/a{}'.format(category,ALPHA)\n",
    "model_dir = './model/{}/Single_improved/a{}b{}'.format(category,ALPHA,BETA)\n",
    "os.listdir(model_dir)"
   ]
  },
  {
   "cell_type": "markdown",
   "metadata": {},
   "source": [
    "各エポックでtestデータを用いてN-top accを出したい→けど結果としてはいらない？\n",
    "- epochの外でtrain,testに分割するパターンなので常にtestのidは同じ\n",
    "- 5epochに一度tripletを更新する\n",
    "- model.fitはepochs=1で行う"
   ]
  },
  {
   "cell_type": "code",
   "execution_count": 31,
   "metadata": {},
   "outputs": [
    {
     "name": "stderr",
     "output_type": "stream",
     "text": [
      "  0%|          | 8/1630 [00:00<00:21, 76.79it/s]"
     ]
    },
    {
     "name": "stdout",
     "output_type": "stream",
     "text": [
      "epoch 0\n"
     ]
    },
    {
     "name": "stderr",
     "output_type": "stream",
     "text": [
      "100%|██████████| 1630/1630 [00:09<00:00, 175.29it/s]\n",
      "100%|██████████| 17327/17327 [01:53<00:00, 152.32it/s]\n"
     ]
    },
    {
     "name": "stdout",
     "output_type": "stream",
     "text": [
      "WARNING:tensorflow:From /home/pip/koki_ishizuka/.conda/envs/py35-zukapy/lib/python3.5/site-packages/tensorflow/python/ops/math_ops.py:3066: to_int32 (from tensorflow.python.ops.math_ops) is deprecated and will be removed in a future version.\n",
      "Instructions for updating:\n",
      "Use tf.cast instead.\n",
      "Epoch 1/1\n",
      "17327/17327 [==============================] - 55s 3ms/step - loss: 5.1542\n",
      "epoch 1\n",
      "Epoch 1/1\n",
      "17327/17327 [==============================] - 51s 3ms/step - loss: 3.7410\n",
      "epoch 2\n",
      "Epoch 1/1\n",
      "17327/17327 [==============================] - 51s 3ms/step - loss: 3.3602\n",
      "epoch 3\n",
      "Epoch 1/1\n",
      "17327/17327 [==============================] - 52s 3ms/step - loss: 3.0403\n",
      "epoch 4\n",
      "Epoch 1/1\n",
      "17327/17327 [==============================] - 52s 3ms/step - loss: 2.7493\n"
     ]
    },
    {
     "name": "stderr",
     "output_type": "stream",
     "text": [
      "  1%|          | 15/1630 [00:00<00:12, 131.39it/s]"
     ]
    },
    {
     "name": "stdout",
     "output_type": "stream",
     "text": [
      "epoch 5\n"
     ]
    },
    {
     "name": "stderr",
     "output_type": "stream",
     "text": [
      "100%|██████████| 1630/1630 [00:09<00:00, 213.35it/s]\n",
      "100%|██████████| 17327/17327 [01:51<00:00, 157.00it/s]\n"
     ]
    },
    {
     "name": "stdout",
     "output_type": "stream",
     "text": [
      "Epoch 1/1\n",
      "17327/17327 [==============================] - 51s 3ms/step - loss: 2.6956\n",
      "epoch 6\n",
      "Epoch 1/1\n",
      "17327/17327 [==============================] - 52s 3ms/step - loss: 2.3162\n",
      "epoch 7\n",
      "Epoch 1/1\n",
      "17327/17327 [==============================] - 52s 3ms/step - loss: 2.0217\n",
      "epoch 8\n",
      "Epoch 1/1\n",
      "17327/17327 [==============================] - 52s 3ms/step - loss: 1.7570\n",
      "epoch 9\n",
      "Epoch 1/1\n",
      "17327/17327 [==============================] - 52s 3ms/step - loss: 1.5407\n"
     ]
    },
    {
     "name": "stderr",
     "output_type": "stream",
     "text": [
      "  1%|          | 15/1630 [00:00<00:14, 109.94it/s]"
     ]
    },
    {
     "name": "stdout",
     "output_type": "stream",
     "text": [
      "epoch 10\n"
     ]
    },
    {
     "name": "stderr",
     "output_type": "stream",
     "text": [
      "100%|██████████| 1630/1630 [00:09<00:00, 166.78it/s]\n",
      "100%|██████████| 17327/17327 [01:46<00:00, 162.23it/s]\n"
     ]
    },
    {
     "name": "stdout",
     "output_type": "stream",
     "text": [
      "Epoch 1/1\n",
      "17327/17327 [==============================] - 50s 3ms/step - loss: 1.7625\n",
      "epoch 11\n",
      "Epoch 1/1\n",
      "17327/17327 [==============================] - 50s 3ms/step - loss: 1.4418\n",
      "epoch 12\n",
      "Epoch 1/1\n",
      "17327/17327 [==============================] - 51s 3ms/step - loss: 1.2230\n",
      "epoch 13\n",
      "Epoch 1/1\n",
      "17327/17327 [==============================] - 52s 3ms/step - loss: 1.0471\n",
      "epoch 14\n",
      "Epoch 1/1\n",
      "17327/17327 [==============================] - 52s 3ms/step - loss: 0.9220\n"
     ]
    },
    {
     "name": "stderr",
     "output_type": "stream",
     "text": [
      "  1%|          | 15/1630 [00:00<00:13, 123.51it/s]"
     ]
    },
    {
     "name": "stdout",
     "output_type": "stream",
     "text": [
      "epoch 15\n"
     ]
    },
    {
     "name": "stderr",
     "output_type": "stream",
     "text": [
      "100%|██████████| 1630/1630 [00:08<00:00, 185.46it/s]\n",
      "100%|██████████| 17327/17327 [01:37<00:00, 177.81it/s]\n"
     ]
    },
    {
     "name": "stdout",
     "output_type": "stream",
     "text": [
      "Epoch 1/1\n",
      "17327/17327 [==============================] - 51s 3ms/step - loss: 1.2456\n",
      "epoch 16\n",
      "Epoch 1/1\n",
      "17327/17327 [==============================] - 52s 3ms/step - loss: 0.9758\n",
      "epoch 17\n",
      "Epoch 1/1\n",
      "17327/17327 [==============================] - 52s 3ms/step - loss: 0.7961\n",
      "epoch 18\n",
      "Epoch 1/1\n",
      "17327/17327 [==============================] - 51s 3ms/step - loss: 0.6767\n",
      "epoch 19\n",
      "Epoch 1/1\n",
      "17327/17327 [==============================] - 49s 3ms/step - loss: 0.5834\n"
     ]
    },
    {
     "name": "stderr",
     "output_type": "stream",
     "text": [
      "  1%|          | 15/1630 [00:00<00:13, 116.94it/s]"
     ]
    },
    {
     "name": "stdout",
     "output_type": "stream",
     "text": [
      "epoch 20\n"
     ]
    },
    {
     "name": "stderr",
     "output_type": "stream",
     "text": [
      "100%|██████████| 1630/1630 [00:09<00:00, 167.83it/s]\n",
      "100%|██████████| 17327/17327 [01:46<00:00, 162.82it/s]\n"
     ]
    },
    {
     "name": "stdout",
     "output_type": "stream",
     "text": [
      "Epoch 1/1\n",
      "17327/17327 [==============================] - 51s 3ms/step - loss: 0.9800\n",
      "epoch 21\n",
      "Epoch 1/1\n",
      "17327/17327 [==============================] - 52s 3ms/step - loss: 0.7338\n",
      "epoch 22\n",
      "Epoch 1/1\n",
      "17327/17327 [==============================] - 52s 3ms/step - loss: 0.5720\n",
      "epoch 23\n",
      "Epoch 1/1\n",
      "17327/17327 [==============================] - 52s 3ms/step - loss: 0.4812\n",
      "epoch 24\n",
      "Epoch 1/1\n",
      "17327/17327 [==============================] - 52s 3ms/step - loss: 0.4175\n"
     ]
    },
    {
     "name": "stderr",
     "output_type": "stream",
     "text": [
      "  1%|          | 15/1630 [00:00<00:13, 119.36it/s]"
     ]
    },
    {
     "name": "stdout",
     "output_type": "stream",
     "text": [
      "epoch 25\n"
     ]
    },
    {
     "name": "stderr",
     "output_type": "stream",
     "text": [
      "100%|██████████| 1630/1630 [00:09<00:00, 164.29it/s]\n",
      "100%|██████████| 17327/17327 [01:57<00:00, 147.01it/s]\n"
     ]
    },
    {
     "name": "stdout",
     "output_type": "stream",
     "text": [
      "Epoch 1/1\n",
      "17327/17327 [==============================] - 51s 3ms/step - loss: 0.8052\n",
      "epoch 26\n",
      "Epoch 1/1\n",
      "17327/17327 [==============================] - 52s 3ms/step - loss: 0.5738\n",
      "epoch 27\n",
      "Epoch 1/1\n",
      "17327/17327 [==============================] - 52s 3ms/step - loss: 0.4714\n",
      "epoch 28\n",
      "Epoch 1/1\n",
      "17327/17327 [==============================] - 52s 3ms/step - loss: 0.3946\n",
      "epoch 29\n",
      "Epoch 1/1\n",
      "17327/17327 [==============================] - 52s 3ms/step - loss: 0.3233\n"
     ]
    },
    {
     "name": "stderr",
     "output_type": "stream",
     "text": [
      "  1%|          | 15/1630 [00:00<00:13, 123.12it/s]"
     ]
    },
    {
     "name": "stdout",
     "output_type": "stream",
     "text": [
      "epoch 30\n"
     ]
    },
    {
     "name": "stderr",
     "output_type": "stream",
     "text": [
      "100%|██████████| 1630/1630 [00:09<00:00, 164.14it/s]\n",
      "100%|██████████| 17327/17327 [01:52<00:00, 153.91it/s]\n"
     ]
    },
    {
     "name": "stdout",
     "output_type": "stream",
     "text": [
      "Epoch 1/1\n",
      "17327/17327 [==============================] - 47s 3ms/step - loss: 0.6904\n",
      "epoch 31\n",
      "Epoch 1/1\n",
      "17327/17327 [==============================] - 52s 3ms/step - loss: 0.4994\n",
      "epoch 32\n",
      "Epoch 1/1\n",
      "17327/17327 [==============================] - 52s 3ms/step - loss: 0.3910\n",
      "epoch 33\n",
      "Epoch 1/1\n",
      "17327/17327 [==============================] - 52s 3ms/step - loss: 0.3375\n",
      "epoch 34\n",
      "Epoch 1/1\n",
      "17327/17327 [==============================] - 52s 3ms/step - loss: 0.2940\n"
     ]
    },
    {
     "name": "stderr",
     "output_type": "stream",
     "text": [
      "  1%|          | 15/1630 [00:00<00:13, 123.23it/s]"
     ]
    },
    {
     "name": "stdout",
     "output_type": "stream",
     "text": [
      "epoch 35\n"
     ]
    },
    {
     "name": "stderr",
     "output_type": "stream",
     "text": [
      "100%|██████████| 1630/1630 [00:09<00:00, 211.81it/s]\n",
      "100%|██████████| 17327/17327 [01:52<00:00, 154.49it/s]\n"
     ]
    },
    {
     "name": "stdout",
     "output_type": "stream",
     "text": [
      "Epoch 1/1\n",
      "17327/17327 [==============================] - 50s 3ms/step - loss: 0.6105\n",
      "epoch 36\n",
      "Epoch 1/1\n",
      "17327/17327 [==============================] - 46s 3ms/step - loss: 0.4213\n",
      "epoch 37\n",
      "Epoch 1/1\n",
      "17327/17327 [==============================] - 46s 3ms/step - loss: 0.3386\n",
      "epoch 38\n",
      "Epoch 1/1\n",
      "17327/17327 [==============================] - 46s 3ms/step - loss: 0.2826\n",
      "epoch 39\n",
      "Epoch 1/1\n",
      "17327/17327 [==============================] - 46s 3ms/step - loss: 0.2469\n"
     ]
    },
    {
     "name": "stderr",
     "output_type": "stream",
     "text": [
      "  1%|          | 15/1630 [00:00<00:11, 134.98it/s]"
     ]
    },
    {
     "name": "stdout",
     "output_type": "stream",
     "text": [
      "epoch 40\n"
     ]
    },
    {
     "name": "stderr",
     "output_type": "stream",
     "text": [
      "100%|██████████| 1630/1630 [00:07<00:00, 207.18it/s]\n",
      "100%|██████████| 17327/17327 [01:27<00:00, 197.03it/s]\n"
     ]
    },
    {
     "name": "stdout",
     "output_type": "stream",
     "text": [
      "Epoch 1/1\n",
      "17327/17327 [==============================] - 46s 3ms/step - loss: 0.5773\n",
      "epoch 41\n",
      "Epoch 1/1\n",
      "17327/17327 [==============================] - 46s 3ms/step - loss: 0.3692\n",
      "epoch 42\n",
      "Epoch 1/1\n",
      "17327/17327 [==============================] - 46s 3ms/step - loss: 0.2964\n",
      "epoch 43\n",
      "Epoch 1/1\n",
      "17327/17327 [==============================] - 47s 3ms/step - loss: 0.2514\n",
      "epoch 44\n",
      "Epoch 1/1\n",
      "17327/17327 [==============================] - 47s 3ms/step - loss: 0.2226\n"
     ]
    },
    {
     "name": "stderr",
     "output_type": "stream",
     "text": [
      "  1%|          | 15/1630 [00:00<00:12, 128.75it/s]"
     ]
    },
    {
     "name": "stdout",
     "output_type": "stream",
     "text": [
      "epoch 45\n"
     ]
    },
    {
     "name": "stderr",
     "output_type": "stream",
     "text": [
      "100%|██████████| 1630/1630 [00:08<00:00, 198.04it/s]\n",
      "100%|██████████| 17327/17327 [01:34<00:00, 183.54it/s]\n"
     ]
    },
    {
     "name": "stdout",
     "output_type": "stream",
     "text": [
      "Epoch 1/1\n",
      "17327/17327 [==============================] - 46s 3ms/step - loss: 0.5152\n",
      "epoch 46\n",
      "Epoch 1/1\n",
      "17327/17327 [==============================] - 46s 3ms/step - loss: 0.3390\n",
      "epoch 47\n",
      "Epoch 1/1\n",
      "17327/17327 [==============================] - 47s 3ms/step - loss: 0.2605\n",
      "epoch 48\n",
      "Epoch 1/1\n",
      "17327/17327 [==============================] - 47s 3ms/step - loss: 0.2223\n",
      "epoch 49\n",
      "Epoch 1/1\n",
      "17327/17327 [==============================] - 47s 3ms/step - loss: 0.1941\n"
     ]
    },
    {
     "name": "stderr",
     "output_type": "stream",
     "text": [
      "  1%|          | 15/1630 [00:00<00:11, 139.54it/s]"
     ]
    },
    {
     "name": "stdout",
     "output_type": "stream",
     "text": [
      "epoch 50\n"
     ]
    },
    {
     "name": "stderr",
     "output_type": "stream",
     "text": [
      "100%|██████████| 1630/1630 [00:07<00:00, 256.47it/s]\n",
      "100%|██████████| 17327/17327 [01:33<00:00, 184.90it/s]\n"
     ]
    },
    {
     "name": "stdout",
     "output_type": "stream",
     "text": [
      "Epoch 1/1\n",
      "17327/17327 [==============================] - 46s 3ms/step - loss: 0.4708\n",
      "epoch 51\n",
      "Epoch 1/1\n",
      "17327/17327 [==============================] - 46s 3ms/step - loss: 0.3108\n",
      "epoch 52\n",
      "Epoch 1/1\n",
      "17327/17327 [==============================] - 47s 3ms/step - loss: 0.2367\n",
      "epoch 53\n",
      "Epoch 1/1\n",
      "17327/17327 [==============================] - 47s 3ms/step - loss: 0.1952\n",
      "epoch 54\n",
      "Epoch 1/1\n",
      "17327/17327 [==============================] - 47s 3ms/step - loss: 0.1767\n"
     ]
    },
    {
     "name": "stderr",
     "output_type": "stream",
     "text": [
      "  1%|          | 19/1630 [00:00<00:08, 186.76it/s]"
     ]
    },
    {
     "name": "stdout",
     "output_type": "stream",
     "text": [
      "epoch 55\n"
     ]
    },
    {
     "name": "stderr",
     "output_type": "stream",
     "text": [
      "100%|██████████| 1630/1630 [00:07<00:00, 226.21it/s]\n",
      "100%|██████████| 17327/17327 [01:33<00:00, 185.82it/s]\n"
     ]
    },
    {
     "name": "stdout",
     "output_type": "stream",
     "text": [
      "Epoch 1/1\n",
      "17327/17327 [==============================] - 46s 3ms/step - loss: 0.4610\n",
      "epoch 56\n",
      "Epoch 1/1\n",
      "17327/17327 [==============================] - 46s 3ms/step - loss: 0.3201\n",
      "epoch 57\n",
      "Epoch 1/1\n",
      "17327/17327 [==============================] - 47s 3ms/step - loss: 0.2250\n",
      "epoch 58\n",
      "Epoch 1/1\n",
      "17327/17327 [==============================] - 47s 3ms/step - loss: 0.1905\n",
      "epoch 59\n",
      "Epoch 1/1\n",
      "17327/17327 [==============================] - 47s 3ms/step - loss: 0.1688\n"
     ]
    },
    {
     "name": "stderr",
     "output_type": "stream",
     "text": [
      "  1%|          | 20/1630 [00:00<00:08, 193.37it/s]"
     ]
    },
    {
     "name": "stdout",
     "output_type": "stream",
     "text": [
      "epoch 60\n"
     ]
    },
    {
     "name": "stderr",
     "output_type": "stream",
     "text": [
      "100%|██████████| 1630/1630 [00:06<00:00, 246.91it/s]\n",
      "100%|██████████| 17327/17327 [01:21<00:00, 212.28it/s]\n"
     ]
    },
    {
     "name": "stdout",
     "output_type": "stream",
     "text": [
      "Epoch 1/1\n",
      "17327/17327 [==============================] - 46s 3ms/step - loss: 0.4422\n",
      "epoch 61\n",
      "Epoch 1/1\n",
      "17327/17327 [==============================] - 46s 3ms/step - loss: 0.2868\n",
      "epoch 62\n",
      "Epoch 1/1\n",
      "17327/17327 [==============================] - 48s 3ms/step - loss: 0.2255\n",
      "epoch 63\n",
      "Epoch 1/1\n",
      "17327/17327 [==============================] - 51s 3ms/step - loss: 0.1844\n",
      "epoch 64\n",
      "Epoch 1/1\n",
      "17327/17327 [==============================] - 47s 3ms/step - loss: 0.1576\n"
     ]
    },
    {
     "name": "stderr",
     "output_type": "stream",
     "text": [
      "  1%|          | 20/1630 [00:00<00:08, 192.63it/s]"
     ]
    },
    {
     "name": "stdout",
     "output_type": "stream",
     "text": [
      "epoch 65\n"
     ]
    },
    {
     "name": "stderr",
     "output_type": "stream",
     "text": [
      "100%|██████████| 1630/1630 [00:05<00:00, 275.10it/s]\n",
      "100%|██████████| 17327/17327 [01:24<00:00, 206.22it/s]\n"
     ]
    },
    {
     "name": "stdout",
     "output_type": "stream",
     "text": [
      "Epoch 1/1\n",
      "17327/17327 [==============================] - 46s 3ms/step - loss: 0.3797\n",
      "epoch 66\n",
      "Epoch 1/1\n",
      "17327/17327 [==============================] - 46s 3ms/step - loss: 0.2459\n",
      "epoch 67\n",
      "Epoch 1/1\n",
      "17327/17327 [==============================] - 47s 3ms/step - loss: 0.1874\n",
      "epoch 68\n",
      "Epoch 1/1\n",
      "17327/17327 [==============================] - 47s 3ms/step - loss: 0.1505\n",
      "epoch 69\n",
      "Epoch 1/1\n",
      "17327/17327 [==============================] - 47s 3ms/step - loss: 0.1409\n"
     ]
    },
    {
     "name": "stderr",
     "output_type": "stream",
     "text": [
      "  1%|          | 20/1630 [00:00<00:08, 190.42it/s]"
     ]
    },
    {
     "name": "stdout",
     "output_type": "stream",
     "text": [
      "epoch 70\n"
     ]
    },
    {
     "name": "stderr",
     "output_type": "stream",
     "text": [
      "100%|██████████| 1630/1630 [00:06<00:00, 238.41it/s]\n",
      "100%|██████████| 17327/17327 [01:21<00:00, 212.07it/s]\n"
     ]
    },
    {
     "name": "stdout",
     "output_type": "stream",
     "text": [
      "Epoch 1/1\n",
      "17327/17327 [==============================] - 46s 3ms/step - loss: 0.3993\n",
      "epoch 71\n",
      "Epoch 1/1\n",
      "17327/17327 [==============================] - 46s 3ms/step - loss: 0.2581\n",
      "epoch 72\n",
      "Epoch 1/1\n",
      "17327/17327 [==============================] - 47s 3ms/step - loss: 0.1961\n",
      "epoch 73\n",
      "Epoch 1/1\n",
      "17327/17327 [==============================] - 47s 3ms/step - loss: 0.1531\n",
      "epoch 74\n",
      "Epoch 1/1\n",
      "17327/17327 [==============================] - 47s 3ms/step - loss: 0.1420\n"
     ]
    },
    {
     "name": "stderr",
     "output_type": "stream",
     "text": [
      "  1%|▏         | 23/1630 [00:00<00:07, 224.48it/s]"
     ]
    },
    {
     "name": "stdout",
     "output_type": "stream",
     "text": [
      "epoch 75\n"
     ]
    },
    {
     "name": "stderr",
     "output_type": "stream",
     "text": [
      "100%|██████████| 1630/1630 [00:06<00:00, 271.53it/s]\n",
      "100%|██████████| 17327/17327 [01:33<00:00, 184.75it/s]\n"
     ]
    },
    {
     "name": "stdout",
     "output_type": "stream",
     "text": [
      "Epoch 1/1\n",
      "17327/17327 [==============================] - 46s 3ms/step - loss: 0.3521\n",
      "epoch 76\n",
      "Epoch 1/1\n",
      "17327/17327 [==============================] - 46s 3ms/step - loss: 0.2235\n",
      "epoch 77\n",
      "Epoch 1/1\n",
      "17327/17327 [==============================] - 47s 3ms/step - loss: 0.1690\n",
      "epoch 78\n",
      "Epoch 1/1\n",
      "17327/17327 [==============================] - 47s 3ms/step - loss: 0.1329\n",
      "epoch 79\n",
      "Epoch 1/1\n",
      "17327/17327 [==============================] - 47s 3ms/step - loss: 0.1193\n"
     ]
    },
    {
     "name": "stderr",
     "output_type": "stream",
     "text": [
      "  1%|          | 15/1630 [00:00<00:12, 134.51it/s]"
     ]
    },
    {
     "name": "stdout",
     "output_type": "stream",
     "text": [
      "epoch 80\n"
     ]
    },
    {
     "name": "stderr",
     "output_type": "stream",
     "text": [
      "100%|██████████| 1630/1630 [00:08<00:00, 191.68it/s]\n",
      "100%|██████████| 17327/17327 [01:30<00:00, 191.02it/s]\n"
     ]
    },
    {
     "name": "stdout",
     "output_type": "stream",
     "text": [
      "Epoch 1/1\n",
      "17327/17327 [==============================] - 46s 3ms/step - loss: 0.3530\n",
      "epoch 81\n",
      "Epoch 1/1\n",
      "17327/17327 [==============================] - 46s 3ms/step - loss: 0.2147\n",
      "epoch 82\n",
      "Epoch 1/1\n",
      "17327/17327 [==============================] - 46s 3ms/step - loss: 0.1605\n",
      "epoch 83\n",
      "Epoch 1/1\n",
      "17327/17327 [==============================] - 47s 3ms/step - loss: 0.1339\n",
      "epoch 84\n",
      "Epoch 1/1\n",
      "17327/17327 [==============================] - 47s 3ms/step - loss: 0.1134\n"
     ]
    },
    {
     "name": "stderr",
     "output_type": "stream",
     "text": [
      "  1%|          | 15/1630 [00:00<00:10, 147.79it/s]"
     ]
    },
    {
     "name": "stdout",
     "output_type": "stream",
     "text": [
      "epoch 85\n"
     ]
    },
    {
     "name": "stderr",
     "output_type": "stream",
     "text": [
      "100%|██████████| 1630/1630 [00:08<00:00, 199.35it/s]\n",
      "100%|██████████| 17327/17327 [01:33<00:00, 184.47it/s]\n"
     ]
    },
    {
     "name": "stdout",
     "output_type": "stream",
     "text": [
      "Epoch 1/1\n",
      "17327/17327 [==============================] - 46s 3ms/step - loss: 0.3386\n",
      "epoch 86\n",
      "Epoch 1/1\n",
      "17327/17327 [==============================] - 46s 3ms/step - loss: 0.2205\n",
      "epoch 87\n",
      "Epoch 1/1\n",
      "17327/17327 [==============================] - 46s 3ms/step - loss: 0.1505\n",
      "epoch 88\n",
      "Epoch 1/1\n",
      "17327/17327 [==============================] - 47s 3ms/step - loss: 0.1156\n",
      "epoch 89\n",
      "Epoch 1/1\n",
      "17327/17327 [==============================] - 47s 3ms/step - loss: 0.1005\n"
     ]
    },
    {
     "name": "stderr",
     "output_type": "stream",
     "text": [
      "  1%|          | 15/1630 [00:00<00:13, 123.82it/s]"
     ]
    },
    {
     "name": "stdout",
     "output_type": "stream",
     "text": [
      "epoch 90\n"
     ]
    },
    {
     "name": "stderr",
     "output_type": "stream",
     "text": [
      "100%|██████████| 1630/1630 [00:08<00:00, 200.64it/s]\n",
      "100%|██████████| 17327/17327 [01:31<00:00, 189.90it/s]\n"
     ]
    },
    {
     "name": "stdout",
     "output_type": "stream",
     "text": [
      "Epoch 1/1\n",
      "17327/17327 [==============================] - 46s 3ms/step - loss: 0.3278\n",
      "epoch 91\n",
      "Epoch 1/1\n",
      "17327/17327 [==============================] - 46s 3ms/step - loss: 0.1990\n",
      "epoch 92\n",
      "Epoch 1/1\n",
      "17327/17327 [==============================] - 47s 3ms/step - loss: 0.1457\n",
      "epoch 93\n",
      "Epoch 1/1\n",
      "17327/17327 [==============================] - 47s 3ms/step - loss: 0.1196\n",
      "epoch 94\n",
      "Epoch 1/1\n",
      "17327/17327 [==============================] - 47s 3ms/step - loss: 0.1013\n"
     ]
    },
    {
     "name": "stderr",
     "output_type": "stream",
     "text": [
      "  1%|          | 15/1630 [00:00<00:13, 117.74it/s]"
     ]
    },
    {
     "name": "stdout",
     "output_type": "stream",
     "text": [
      "epoch 95\n"
     ]
    },
    {
     "name": "stderr",
     "output_type": "stream",
     "text": [
      "100%|██████████| 1630/1630 [00:08<00:00, 194.97it/s]\n",
      "100%|██████████| 17327/17327 [01:34<00:00, 182.80it/s]\n"
     ]
    },
    {
     "name": "stdout",
     "output_type": "stream",
     "text": [
      "Epoch 1/1\n",
      "17327/17327 [==============================] - 46s 3ms/step - loss: 0.3090\n",
      "epoch 96\n",
      "Epoch 1/1\n",
      "17327/17327 [==============================] - 46s 3ms/step - loss: 0.1965\n",
      "epoch 97\n",
      "Epoch 1/1\n",
      "17327/17327 [==============================] - 47s 3ms/step - loss: 0.1311\n",
      "epoch 98\n",
      "Epoch 1/1\n",
      "17327/17327 [==============================] - 47s 3ms/step - loss: 0.1114\n",
      "epoch 99\n",
      "Epoch 1/1\n",
      "17327/17327 [==============================] - 47s 3ms/step - loss: 0.0932\n"
     ]
    }
   ],
   "source": [
    "model_history = []\n",
    "for epoch in range(epochs):\n",
    "    print('epoch %s'% epoch)\n",
    "    if epoch % 5 == 0:\n",
    "        if epoch != 0: del triplets\n",
    "        triplets_train_PATHs = get_triplets(train_ids,BASE_PATH)\n",
    "        triplets = get_np_triplets(triplets_train_PATHs)\n",
    "        del triplets_train_PATHs\n",
    "    # fit\n",
    "    hist = tripletNet.fit([triplets[:,0],triplets[:,1],triplets[:,2]], epochs=1, batch_size=50)\n",
    "    model_history.append(hist.history)\n",
    "    f = open(model_dir+'/{}/history{}.txt'.format(vec_length,epoch),'wb')\n",
    "    pickle.dump(model_history, f)\n",
    "    # 使い終わったので削除\n",
    "##    del triplets\n",
    "    if (epoch+1) % 5 == 0:\n",
    "        shop_embNet.save(model_dir+'/{}/shop_e{}.h5'.format(vec_length,epoch))\n",
    "        con_embNet.save(model_dir+'/{}/con_e{}.h5'.format(vec_length,epoch))\n",
    "# 学習のhistoryを保存\n",
    "f = open(model_dir+'/{}/history.txt'.format(vec_length),'wb')\n",
    "pickle.dump(model_history, f)"
   ]
  },
  {
   "cell_type": "code",
   "execution_count": 30,
   "metadata": {},
   "outputs": [],
   "source": [
    "# for epoch in range(epochs):\n",
    "#     print('epoch %s'% epoch)\n",
    "#     # PATHの組みを取得\n",
    "#     triplets_train_PATHs = get_triplets(train_ids,BASE_PATH)\n",
    "#     # np配列に変換\n",
    "#     triplets = get_np_triplets(triplets_train_PATHs)\n",
    "#     # fit\n",
    "#     tripletNet.fit([triplets[:,0],triplets[:,1],triplets[:,2]], epochs=1, batch_size=50) # using batch_size is better\n",
    "#     # 使い終わったので削除\n",
    "#     del triplets\n",
    "#     if (epoch+1) % 5 == 0:\n",
    "# #         tripletNet.save('./model/T_Shirt/Single/tripletNetmodel_e{}.h5'.format(epoch))\n",
    "#         # 5epochごとにmodelを保存\n",
    "#         shop_embNet.save('./model/T_Shirt/Single/a{}/{}/shop_emb_e{}.h5'.format(ALPHA,vec_length,epoch))\n",
    "#         con_embNet.save('./model/T_Shirt/Single/a{}/{}/con_emb_e{}.h5'.format(ALPHA,vec_length,epoch))"
   ]
  },
  {
   "cell_type": "code",
   "execution_count": null,
   "metadata": {},
   "outputs": [],
   "source": []
  }
 ],
 "metadata": {
  "kernelspec": {
   "display_name": "py35-zukapy",
   "language": "python",
   "name": "py35-zukapy"
  },
  "language_info": {
   "codemirror_mode": {
    "name": "ipython",
    "version": 3
   },
   "file_extension": ".py",
   "mimetype": "text/x-python",
   "name": "python",
   "nbconvert_exporter": "python",
   "pygments_lexer": "ipython3",
   "version": "3.5.5"
  }
 },
 "nbformat": 4,
 "nbformat_minor": 4
}
