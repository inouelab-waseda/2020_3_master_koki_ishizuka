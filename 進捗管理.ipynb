{
 "cells": [
  {
   "cell_type": "markdown",
   "metadata": {},
   "source": [
    "## 11/16\n",
    "- TOPSとCLOTHINGの結合->T_Shirt_allへ\n",
    "- 関数の作成(get_triplet)\n",
    "### やること\n",
    "- T_Shirt_all/trainとT_Shirt_all/testに分割\n",
    "- 分割の仕方はランダムで行う？\n",
    "    - ```train_ids=ids[np.random.choice(len(os.listdir),0.75)]``` 的な感じで75%を取り出せるかな？"
   ]
  },
  {
   "cell_type": "code",
   "execution_count": null,
   "metadata": {},
   "outputs": [],
   "source": []
  }
 ],
 "metadata": {
  "kernelspec": {
   "display_name": "zukapy35",
   "language": "python",
   "name": "zukapy35"
  },
  "language_info": {
   "codemirror_mode": {
    "name": "ipython",
    "version": 3
   },
   "file_extension": ".py",
   "mimetype": "text/x-python",
   "name": "python",
   "nbconvert_exporter": "python",
   "pygments_lexer": "ipython3",
   "version": "3.5.4"
  }
 },
 "nbformat": 4,
 "nbformat_minor": 2
}
