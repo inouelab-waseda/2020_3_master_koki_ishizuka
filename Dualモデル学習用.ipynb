{
 "cells": [
  {
   "cell_type": "markdown",
   "metadata": {},
   "source": [
    "# デュアルネットワーク学習用のnotebook"
   ]
  },
  {
   "cell_type": "markdown",
   "metadata": {},
   "source": [
    "実験設定を共通化するため\n",
    "- Normal の場合N=512(256*2)\n",
    "- Improved の場合N=300(150*2)\n",
    "\n",
    "とする"
   ]
  },
  {
   "cell_type": "markdown",
   "metadata": {},
   "source": [
    "## ライブラリのインポート"
   ]
  },
  {
   "cell_type": "code",
   "execution_count": 1,
   "metadata": {},
   "outputs": [],
   "source": [
    "import numpy as np\n",
    "import matplotlib.pyplot as plt\n",
    "from PIL import Image\n",
    "import random\n",
    "from numba import jit\n",
    "from tqdm import tqdm\n",
    "import os\n",
    "import pickle\n",
    "%matplotlib inline"
   ]
  },
  {
   "cell_type": "markdown",
   "metadata": {},
   "source": [
    "場合によってはGPUの指定が必要かもしれない"
   ]
  },
  {
   "cell_type": "code",
   "execution_count": 2,
   "metadata": {},
   "outputs": [],
   "source": [
    "# import os\n",
    "# os.environ['CUDA_VISIBLE_DEVICES']='0'"
   ]
  },
  {
   "cell_type": "markdown",
   "metadata": {},
   "source": [
    "keras関連"
   ]
  },
  {
   "cell_type": "code",
   "execution_count": 3,
   "metadata": {},
   "outputs": [
    {
     "name": "stderr",
     "output_type": "stream",
     "text": [
      "/home/pip/koki_ishizuka/.conda/envs/py35-zukapy/lib/python3.5/site-packages/h5py/__init__.py:36: FutureWarning: Conversion of the second argument of issubdtype from `float` to `np.floating` is deprecated. In future, it will be treated as `np.float64 == np.dtype(float).type`.\n",
      "  from ._conv import register_converters as _register_converters\n",
      "Using TensorFlow backend.\n"
     ]
    }
   ],
   "source": [
    "import keras\n",
    "from keras.applications.vgg16 import VGG16\n",
    "from keras.preprocessing.image import ImageDataGenerator"
   ]
  },
  {
   "cell_type": "code",
   "execution_count": 4,
   "metadata": {},
   "outputs": [],
   "source": [
    "from keras.utils import plot_model\n",
    "from keras.models import Model\n",
    "from keras.layers import Input,Layer,Lambda\n",
    "from keras.layers import Flatten,BatchNormalization\n",
    "from keras.layers import Dense,Dropout\n",
    "from keras.layers import concatenate\n",
    "from keras.layers.convolutional import Conv2D\n",
    "from keras.layers.pooling import MaxPooling2D\n",
    "from keras import backend as K"
   ]
  },
  {
   "cell_type": "code",
   "execution_count": 5,
   "metadata": {},
   "outputs": [],
   "source": [
    "import tensorflow as tf\n",
    "config = tf.ConfigProto()\n",
    "config.gpu_options.allow_growth = True\n",
    "tf.keras.backend.set_session(tf.Session(config=config))"
   ]
  },
  {
   "cell_type": "code",
   "execution_count": 6,
   "metadata": {},
   "outputs": [],
   "source": [
    "# import tensorflow as tf\n",
    "# from keras.backend.tensorflow_backend import set_session\n",
    "# config = tf.ConfigProto(\n",
    "#     gpu_options=tf.GPUOptions(\n",
    "#         visible_device_list=\"0\", # specify GPU number\n",
    "#         allow_growth=True\n",
    "#     )\n",
    "# )\n",
    "# set_session(tf.Session(config=config))"
   ]
  },
  {
   "cell_type": "markdown",
   "metadata": {},
   "source": [
    "## ハイパーパラメータ設定\n",
    "- 保存先のディレクトリやファイル名に影響するため慎重に。\n",
    "- Improved Triplet Lossにおいては、`alpha > beta`を満たす必要がある(元論文)"
   ]
  },
  {
   "cell_type": "markdown",
   "metadata": {},
   "source": [
    "### 入力画像の情報"
   ]
  },
  {
   "cell_type": "code",
   "execution_count": 7,
   "metadata": {},
   "outputs": [],
   "source": [
    "imheight = 128\n",
    "imwidth = 128\n",
    "channels = 3\n",
    "category = 'Dress'"
   ]
  },
  {
   "cell_type": "markdown",
   "metadata": {},
   "source": [
    "### 出力次元\n",
    "- Dualなネットワークではconcatするため出力次元はdense_num*2"
   ]
  },
  {
   "cell_type": "code",
   "execution_count": 8,
   "metadata": {},
   "outputs": [],
   "source": [
    "dense_num = 256\n",
    "vec_length=dense_num*2"
   ]
  },
  {
   "cell_type": "markdown",
   "metadata": {},
   "source": [
    "### Triplet Loss設定\n",
    "- `ALPHA=D(a,p)とD(a,n)の相対距離を抑制`, `BETA=D(a,p)の絶対距離を制御`"
   ]
  },
  {
   "cell_type": "code",
   "execution_count": 9,
   "metadata": {},
   "outputs": [],
   "source": [
    "ALPHA=0.1\n",
    "BETA=0.05"
   ]
  },
  {
   "cell_type": "markdown",
   "metadata": {},
   "source": [
    "## VGG16の読み込み"
   ]
  },
  {
   "cell_type": "code",
   "execution_count": 10,
   "metadata": {},
   "outputs": [
    {
     "name": "stdout",
     "output_type": "stream",
     "text": [
      "WARNING:tensorflow:From /home/pip/koki_ishizuka/.conda/envs/py35-zukapy/lib/python3.5/site-packages/tensorflow/python/framework/op_def_library.py:263: colocate_with (from tensorflow.python.framework.ops) is deprecated and will be removed in a future version.\n",
      "Instructions for updating:\n",
      "Colocations handled automatically by placer.\n"
     ]
    }
   ],
   "source": [
    "from keras.applications.vgg16 import VGG16\n",
    "#include_top=false => Dense不要\n",
    "base_model = VGG16(include_top=False, weights='imagenet', input_tensor=Input(shape=(imwidth, imheight, channels)), input_shape=None) "
   ]
  },
  {
   "cell_type": "markdown",
   "metadata": {},
   "source": [
    "学習しないように重みを固定"
   ]
  },
  {
   "cell_type": "code",
   "execution_count": 11,
   "metadata": {},
   "outputs": [],
   "source": [
    "for layer in base_model.layers[:15]:\n",
    "    layer.trainable=False"
   ]
  },
  {
   "cell_type": "markdown",
   "metadata": {},
   "source": [
    "## ネットワーク構造を定義"
   ]
  },
  {
   "cell_type": "markdown",
   "metadata": {},
   "source": [
    "- 浅いネットワーク(shallow_model)を作成"
   ]
  },
  {
   "cell_type": "markdown",
   "metadata": {},
   "source": [
    "元々(32,(4,4))だったが，奇数フィルタの方がいいらしい"
   ]
  },
  {
   "cell_type": "code",
   "execution_count": 12,
   "metadata": {},
   "outputs": [],
   "source": [
    "inputs = Input(shape=(imwidth, imheight, channels))\n",
    "conv1 = Conv2D(32, (4,4) , padding='same', activation='relu')(inputs)\n",
    "pool1 = MaxPooling2D(pool_size=(2,2), strides=None, padding='valid')(conv1)\n",
    "conv2 = Conv2D(32, (4,4) , padding='same', activation='relu')(pool1)\n",
    "pool2 = MaxPooling2D(pool_size=(2,2), strides=None, padding='valid')(conv2)\n",
    "flatten = Flatten()(pool2) \n",
    "dense_layer = Dense(dense_num, activation='relu')(flatten)\n",
    "norm_layer = Lambda(lambda  x: K.l2_normalize(x, axis=1), name='norm_layer1')(dense_layer)\n",
    "shallow_model=Model(inputs=inputs,outputs=norm_layer) "
   ]
  },
  {
   "cell_type": "markdown",
   "metadata": {},
   "source": [
    "- shallow_modelと、VGGを通したdeepなモデルと結合しモデル全体を作成する関数"
   ]
  },
  {
   "cell_type": "code",
   "execution_count": 13,
   "metadata": {},
   "outputs": [],
   "source": [
    "def create_embNet():\n",
    "    shallow_inputs = Input(shape=(imwidth, imheight, channels))\n",
    "    x = base_model.output\n",
    "    conv1 = Conv2D(filters=32, kernel_size=(3,3) , padding='same', activation='relu')(x)\n",
    "    conv2 = Conv2D(filters=32, kernel_size=(3,3) , padding='same', activation='relu')(conv1)\n",
    "    flatten = Flatten()(conv2) \n",
    "    dense_layer = Dense(dense_num, activation='relu')(flatten)\n",
    "    norm_layer = Lambda(lambda  x: K.l2_normalize(x, axis=1), name='norm_layer')(dense_layer)\n",
    "    # inputに対してshallow_modelのoutputも用意\n",
    "    x1 = norm_layer\n",
    "    x2 = shallow_model(shallow_inputs)\n",
    "    out = concatenate([norm_layer,x2])\n",
    "    return Model(inputs=[base_model.input,shallow_inputs],outputs=out)"
   ]
  },
  {
   "cell_type": "markdown",
   "metadata": {},
   "source": [
    "- inputを定義する\n",
    "- create embNet()の中でInputを定義すると明示的に3つの入力が分けられない"
   ]
  },
  {
   "cell_type": "code",
   "execution_count": 14,
   "metadata": {},
   "outputs": [],
   "source": [
    "# define three Inputs\n",
    "a_in = Input(shape = (imheight, imwidth, channels), name='anchor_input')\n",
    "p_in = Input(shape = (imheight, imwidth, channels), name='positive_input')\n",
    "n_in = Input(shape = (imheight, imwidth, channels), name='negative_input')"
   ]
  },
  {
   "cell_type": "markdown",
   "metadata": {},
   "source": [
    "### これは不明"
   ]
  },
  {
   "cell_type": "code",
   "execution_count": 15,
   "metadata": {},
   "outputs": [],
   "source": [
    "sa_in = Input(shape = (imheight, imwidth, channels), name='sanchor_input')"
   ]
  },
  {
   "cell_type": "markdown",
   "metadata": {},
   "source": [
    "- **後に埋め込み用のモデルとして利用するため**ベクトル化までの部分を別で定義しておく"
   ]
  },
  {
   "cell_type": "code",
   "execution_count": 16,
   "metadata": {},
   "outputs": [],
   "source": [
    "con_embNet = create_embNet()\n",
    "shop_embNet = create_embNet()"
   ]
  },
  {
   "cell_type": "code",
   "execution_count": 17,
   "metadata": {},
   "outputs": [
    {
     "name": "stdout",
     "output_type": "stream",
     "text": [
      "_________________________________________________________________\n",
      "Layer (type)                 Output Shape              Param #   \n",
      "=================================================================\n",
      "input_2 (InputLayer)         (None, 128, 128, 3)       0         \n",
      "_________________________________________________________________\n",
      "conv2d_1 (Conv2D)            (None, 128, 128, 32)      1568      \n",
      "_________________________________________________________________\n",
      "max_pooling2d_1 (MaxPooling2 (None, 64, 64, 32)        0         \n",
      "_________________________________________________________________\n",
      "conv2d_2 (Conv2D)            (None, 64, 64, 32)        16416     \n",
      "_________________________________________________________________\n",
      "max_pooling2d_2 (MaxPooling2 (None, 32, 32, 32)        0         \n",
      "_________________________________________________________________\n",
      "flatten_1 (Flatten)          (None, 32768)             0         \n",
      "_________________________________________________________________\n",
      "dense_1 (Dense)              (None, 256)               8388864   \n",
      "_________________________________________________________________\n",
      "norm_layer1 (Lambda)         (None, 256)               0         \n",
      "=================================================================\n",
      "Total params: 8,406,848\n",
      "Trainable params: 8,406,848\n",
      "Non-trainable params: 0\n",
      "_________________________________________________________________\n"
     ]
    }
   ],
   "source": [
    "shallow_model.summary()"
   ]
  },
  {
   "cell_type": "markdown",
   "metadata": {},
   "source": [
    "- 埋め込み用のベクトルもあらかじめ用意する"
   ]
  },
  {
   "cell_type": "code",
   "execution_count": 18,
   "metadata": {},
   "outputs": [
    {
     "name": "stdout",
     "output_type": "stream",
     "text": [
      "__________________________________________________________________________________________________\n",
      "Layer (type)                    Output Shape         Param #     Connected to                     \n",
      "==================================================================================================\n",
      "input_1 (InputLayer)            (None, 128, 128, 3)  0                                            \n",
      "__________________________________________________________________________________________________\n",
      "block1_conv1 (Conv2D)           (None, 128, 128, 64) 1792        input_1[0][0]                    \n",
      "__________________________________________________________________________________________________\n",
      "block1_conv2 (Conv2D)           (None, 128, 128, 64) 36928       block1_conv1[0][0]               \n",
      "__________________________________________________________________________________________________\n",
      "block1_pool (MaxPooling2D)      (None, 64, 64, 64)   0           block1_conv2[0][0]               \n",
      "__________________________________________________________________________________________________\n",
      "block2_conv1 (Conv2D)           (None, 64, 64, 128)  73856       block1_pool[0][0]                \n",
      "__________________________________________________________________________________________________\n",
      "block2_conv2 (Conv2D)           (None, 64, 64, 128)  147584      block2_conv1[0][0]               \n",
      "__________________________________________________________________________________________________\n",
      "block2_pool (MaxPooling2D)      (None, 32, 32, 128)  0           block2_conv2[0][0]               \n",
      "__________________________________________________________________________________________________\n",
      "block3_conv1 (Conv2D)           (None, 32, 32, 256)  295168      block2_pool[0][0]                \n",
      "__________________________________________________________________________________________________\n",
      "block3_conv2 (Conv2D)           (None, 32, 32, 256)  590080      block3_conv1[0][0]               \n",
      "__________________________________________________________________________________________________\n",
      "block3_conv3 (Conv2D)           (None, 32, 32, 256)  590080      block3_conv2[0][0]               \n",
      "__________________________________________________________________________________________________\n",
      "block3_pool (MaxPooling2D)      (None, 16, 16, 256)  0           block3_conv3[0][0]               \n",
      "__________________________________________________________________________________________________\n",
      "block4_conv1 (Conv2D)           (None, 16, 16, 512)  1180160     block3_pool[0][0]                \n",
      "__________________________________________________________________________________________________\n",
      "block4_conv2 (Conv2D)           (None, 16, 16, 512)  2359808     block4_conv1[0][0]               \n",
      "__________________________________________________________________________________________________\n",
      "block4_conv3 (Conv2D)           (None, 16, 16, 512)  2359808     block4_conv2[0][0]               \n",
      "__________________________________________________________________________________________________\n",
      "block4_pool (MaxPooling2D)      (None, 8, 8, 512)    0           block4_conv3[0][0]               \n",
      "__________________________________________________________________________________________________\n",
      "block5_conv1 (Conv2D)           (None, 8, 8, 512)    2359808     block4_pool[0][0]                \n",
      "__________________________________________________________________________________________________\n",
      "block5_conv2 (Conv2D)           (None, 8, 8, 512)    2359808     block5_conv1[0][0]               \n",
      "__________________________________________________________________________________________________\n",
      "block5_conv3 (Conv2D)           (None, 8, 8, 512)    2359808     block5_conv2[0][0]               \n",
      "__________________________________________________________________________________________________\n",
      "block5_pool (MaxPooling2D)      (None, 4, 4, 512)    0           block5_conv3[0][0]               \n",
      "__________________________________________________________________________________________________\n",
      "conv2d_3 (Conv2D)               (None, 4, 4, 32)     147488      block5_pool[0][0]                \n",
      "__________________________________________________________________________________________________\n",
      "conv2d_4 (Conv2D)               (None, 4, 4, 32)     9248        conv2d_3[0][0]                   \n",
      "__________________________________________________________________________________________________\n",
      "flatten_2 (Flatten)             (None, 512)          0           conv2d_4[0][0]                   \n",
      "__________________________________________________________________________________________________\n",
      "dense_2 (Dense)                 (None, 256)          131328      flatten_2[0][0]                  \n",
      "__________________________________________________________________________________________________\n",
      "input_3 (InputLayer)            (None, 128, 128, 3)  0                                            \n",
      "__________________________________________________________________________________________________\n",
      "norm_layer (Lambda)             (None, 256)          0           dense_2[0][0]                    \n",
      "__________________________________________________________________________________________________\n",
      "model_1 (Model)                 (None, 256)          8406848     input_3[0][0]                    \n",
      "__________________________________________________________________________________________________\n",
      "concatenate_1 (Concatenate)     (None, 512)          0           norm_layer[0][0]                 \n",
      "                                                                 model_1[1][0]                    \n",
      "==================================================================================================\n",
      "Total params: 23,409,600\n",
      "Trainable params: 15,774,336\n",
      "Non-trainable params: 7,635,264\n",
      "__________________________________________________________________________________________________\n"
     ]
    }
   ],
   "source": [
    "con_embNet.summary()"
   ]
  },
  {
   "cell_type": "code",
   "execution_count": 19,
   "metadata": {},
   "outputs": [],
   "source": [
    "a_emb = shop_embNet([a_in,a_in])\n",
    "p_emb = con_embNet([p_in,p_in])\n",
    "n_emb = con_embNet([n_in,n_in])"
   ]
  },
  {
   "cell_type": "markdown",
   "metadata": {},
   "source": [
    "## Triplet Loss\n",
    "- 通常のTriplet Lossを用いる場合はこちらを使う。\n",
    "- `Loss=max[D(a,p)-D(a-n)+margin,0] where D(A,B)=||A-B||_2^2`"
   ]
  },
  {
   "cell_type": "code",
   "execution_count": 20,
   "metadata": {},
   "outputs": [],
   "source": [
    "class TripletLossLayer(Layer):\n",
    "    def __init__(self, alpha, **kwargs):\n",
    "        self.alpha = alpha\n",
    "        super(TripletLossLayer, self).__init__(**kwargs)\n",
    "    \n",
    "    def triplet_loss(self, inputs):\n",
    "        a, p, n = inputs\n",
    "        p_dist = K.sum(K.square(a-p), axis=-1)\n",
    "        n_dist = K.sum(K.square(a-n), axis=-1)\n",
    "        return K.sum(K.maximum(p_dist - n_dist + self.alpha, 0), axis=0)\n",
    "    \n",
    "    def call(self, inputs):\n",
    "        loss = self.triplet_loss(inputs)\n",
    "        self.add_loss(loss)\n",
    "        return loss\n",
    "    \n",
    "    def get_config(self):\n",
    "        config = {'alpha': self.alpha}\n",
    "        base_config = super(TripletLossLayer, self).get_config()\n",
    "        return dict(list(base_config.items()) + list(config.items()))"
   ]
  },
  {
   "cell_type": "markdown",
   "metadata": {},
   "source": [
    "### Lossレイヤの定義とモデルのコンパイル"
   ]
  },
  {
   "cell_type": "code",
   "execution_count": 21,
   "metadata": {},
   "outputs": [],
   "source": [
    "# Layer that computes the triplet loss from anchor, positive and negative embedding vectors\n",
    "triplet_loss_layer = TripletLossLayer(alpha=ALPHA, name='triplet_loss_layer')([a_emb, p_emb, n_emb])\n",
    "\n",
    "# Model that can be trained with anchor, positive negative images\n",
    "tripletNet = Model([a_in, p_in, n_in], triplet_loss_layer)\n",
    "tripletNet.compile(loss=None, optimizer='adam')"
   ]
  },
  {
   "cell_type": "code",
   "execution_count": 22,
   "metadata": {},
   "outputs": [],
   "source": [
    "from IPython.display import SVG\n",
    "from keras.utils.vis_utils import model_to_dot\n",
    "\n",
    "# SVG(model_to_dot(con_embNet).create(prog='dot', format='svg'))"
   ]
  },
  {
   "cell_type": "markdown",
   "metadata": {},
   "source": [
    "## Improved Triplet Lossの場合"
   ]
  },
  {
   "cell_type": "markdown",
   "metadata": {},
   "source": [
    "### Improved Triplet Loss\n",
    "- `Loss=[D(a,p)-D(a,n)+ALPHA]+[D(a,p)-BETA]`\n",
    "- Positiveを短くする方向に制御する\n",
    "\n",
    "https://qiita.com/tancoro/items/35d0925de74f21bfff14#improved-triplet-loss\n",
    "\n",
    "<img src=\"./readme_imgs/improved.PNG\" width=30% align=left><br>"
   ]
  },
  {
   "cell_type": "markdown",
   "metadata": {},
   "source": [
    "- Improved Triplet Loss用にレイヤを改変"
   ]
  },
  {
   "cell_type": "code",
   "execution_count": 25,
   "metadata": {},
   "outputs": [],
   "source": [
    "class TripletLossLayer(Layer):\n",
    "    def __init__(self, alpha, beta, **kwargs):\n",
    "        self.alpha = alpha\n",
    "        self.beta = beta\n",
    "        super(TripletLossLayer, self).__init__(**kwargs)\n",
    "\n",
    "    def triplet_loss(self, inputs):\n",
    "        a, p, n = inputs\n",
    "        p_dist = K.sum(K.square(a-p), axis=-1)\n",
    "        n_dist = K.sum(K.square(a-n), axis=-1)\n",
    "        pn_dist = K.sum(K.square(p-n), axis=-1)\n",
    "        return K.sum(K.maximum((p_dist - n_dist + self.alpha), 0) + K.maximum((p_dist - self.beta), 0), axis=0)\n",
    "    \n",
    "    def call(self, inputs):\n",
    "        loss = self.triplet_loss(inputs)\n",
    "        self.add_loss(loss)\n",
    "        return loss\n",
    "    \n",
    "    def get_config(self):\n",
    "        config = {'alpha': self.alpha}\n",
    "        base_config = super(TripletLossLayer, self).get_config()\n",
    "        return dict(list(base_config.items()) + list(config.items()))"
   ]
  },
  {
   "cell_type": "markdown",
   "metadata": {},
   "source": [
    "### モデルの定義とコンパイル\n",
    "- ハイパーパラメータとしてBETAが増えていることに注意"
   ]
  },
  {
   "cell_type": "code",
   "execution_count": 26,
   "metadata": {},
   "outputs": [],
   "source": [
    "# Layer that computes the triplet loss from anchor, positive and negative embedding vectors\n",
    "triplet_loss_layer = TripletLossLayer(alpha=ALPHA, beta=BETA, name='triplet_loss_layer')([a_emb, p_emb, n_emb])\n",
    "\n",
    "# Model that can be trained with anchor, positive negative images\n",
    "tripletNet = Model([a_in, p_in, n_in], triplet_loss_layer)\n",
    "tripletNet.compile(loss=None, optimizer='adam')"
   ]
  },
  {
   "cell_type": "markdown",
   "metadata": {},
   "source": [
    "## データの用意"
   ]
  },
  {
   "cell_type": "markdown",
   "metadata": {},
   "source": [
    "- `T_Shirt_all/`(クロップ済み画像が商品id別に保存されたディレクトリ)"
   ]
  },
  {
   "cell_type": "code",
   "execution_count": 23,
   "metadata": {},
   "outputs": [],
   "source": [
    "BASE_PATH = './dataset/crop_img/img/DRESSES/Dress/'\n",
    "category = 'Dress'\n",
    "ids = sorted([x for x in os.listdir(BASE_PATH)])"
   ]
  },
  {
   "cell_type": "code",
   "execution_count": null,
   "metadata": {},
   "outputs": [],
   "source": [
    "import shutil\n",
    "def rmdir(ids,PATH):\n",
    "    for id_ in ids:\n",
    "        files = sorted([BASE_PATH+id_+'/'+x for x in os.listdir(BASE_PATH+id_)])\n",
    "        con = sorted([x for x in files if 'comsumer' in x])\n",
    "        shop = sorted([x for x in files if 'shop' in x ])\n",
    "        if len(con)==0 or len(shop)==0:\n",
    "            shutil.rmtree(PATH+id_) "
   ]
  },
  {
   "cell_type": "markdown",
   "metadata": {},
   "source": [
    "### TripletのPATHを返す関数\n",
    "- 入力:`ids=商品id群`, `BASE_PATH=商品群ディレクトリへのPATH`\n",
    "- `[consumer_ancのパス, shop_posのパス, shop_negのパス]`のような組を返す"
   ]
  },
  {
   "cell_type": "code",
   "execution_count": 24,
   "metadata": {},
   "outputs": [],
   "source": [
    "import itertools\n",
    "import random\n",
    "\n",
    "def get_triplets(ids,BASE_PATH):\n",
    "    triplets=[]\n",
    "    for id_ in tqdm(ids):\n",
    "        files = sorted([BASE_PATH+id_+'/'+x for x in os.listdir(BASE_PATH+id_)])\n",
    "        con = sorted([x for x in files if 'comsumer' in x])\n",
    "        shop = sorted([x for x in files if 'shop' in x ])\n",
    "        combs = list(itertools.product(tuple(con),tuple(shop)))\n",
    "        for comb in combs:\n",
    "            comb = list(comb)\n",
    "            neg_id = random.choice([x for x in ids if x != id_])\n",
    "            neg_file = random.choice([BASE_PATH+neg_id+'/'+x for x in os.listdir(BASE_PATH+neg_id) if 'shop' in x])\n",
    "            comb.append(neg_file)\n",
    "            triplets.append(comb)\n",
    "    return triplets"
   ]
  },
  {
   "cell_type": "markdown",
   "metadata": {},
   "source": [
    "### 商品idの単位でTrain/Testを分割する\n",
    "- Seed値(random_state)は固定\n",
    "- random.choice()はブートストラップサンプリングのため、`train_test_split()`を利用\n",
    "- idsオブジェクトは以降使わないためここで削除"
   ]
  },
  {
   "cell_type": "code",
   "execution_count": 25,
   "metadata": {},
   "outputs": [
    {
     "name": "stderr",
     "output_type": "stream",
     "text": [
      "/home/pip/koki_ishizuka/.conda/envs/py35-zukapy/lib/python3.5/site-packages/sklearn/cross_validation.py:41: DeprecationWarning: This module was deprecated in version 0.18 in favor of the model_selection module into which all the refactored classes and functions are moved. Also note that the interface of the new CV iterators are different from that of this module. This module will be removed in 0.20.\n",
      "  \"This module will be removed in 0.20.\", DeprecationWarning)\n"
     ]
    }
   ],
   "source": [
    "from sklearn.cross_validation import train_test_split\n",
    "train_ids,test_ids=train_test_split(ids,test_size=0.33,random_state=0)\n",
    "del ids"
   ]
  },
  {
   "cell_type": "code",
   "execution_count": 26,
   "metadata": {},
   "outputs": [
    {
     "data": {
      "text/plain": [
       "1783"
      ]
     },
     "execution_count": 26,
     "metadata": {},
     "output_type": "execute_result"
    }
   ],
   "source": [
    "len(train_ids)"
   ]
  },
  {
   "cell_type": "code",
   "execution_count": 27,
   "metadata": {},
   "outputs": [
    {
     "data": {
      "text/plain": [
       "12359"
      ]
     },
     "execution_count": 27,
     "metadata": {},
     "output_type": "execute_result"
    }
   ],
   "source": [
    "length = 0\n",
    "for id_ in train_ids:\n",
    "    length += len(os.listdir(BASE_PATH+id_))\n",
    "length"
   ]
  },
  {
   "cell_type": "code",
   "execution_count": 28,
   "metadata": {},
   "outputs": [],
   "source": [
    "# train_ids"
   ]
  },
  {
   "cell_type": "markdown",
   "metadata": {},
   "source": [
    "- テスト時に参照するためTestデータの情報をpickleで保存"
   ]
  },
  {
   "cell_type": "code",
   "execution_count": null,
   "metadata": {},
   "outputs": [],
   "source": [
    "f = open('./pickle/{}/test_ids.pickle'.format(category), 'wb')\n",
    "pickle.dump(test_ids, f)"
   ]
  },
  {
   "cell_type": "markdown",
   "metadata": {},
   "source": [
    "### Triplet作成用関数\n",
    "- エポックごとにTripletの組み合わせをランダムに変更するためpickle保存ができない\n",
    "- エポックごとに変えるのは普通なのか怪しい\n",
    "- **Tripletを200個くらい予め作成しpickle保存しておけば今後回すのが楽になるのでは。**"
   ]
  },
  {
   "cell_type": "code",
   "execution_count": 30,
   "metadata": {},
   "outputs": [],
   "source": [
    "from PIL import Image\n",
    "def get_np_triplets(triplet_PATHs):\n",
    "    triplets = []\n",
    "    for triplet in tqdm(triplet_PATHs):\n",
    "        anc_img = Image.open(triplet[0]).convert('RGB')\n",
    "        pos_img = Image.open(triplet[1]).convert('RGB')\n",
    "        neg_img = Image.open(triplet[2]).convert('RGB')\n",
    "\n",
    "        anc_img = np.array(anc_img.resize((128,128)))/255. #resize to (128,128,3)\n",
    "        pos_img = np.array(pos_img.resize((128,128)))/255.    \n",
    "        neg_img = np.array(neg_img.resize((128,128)))/255.    \n",
    "\n",
    "        tri = [anc_img,pos_img,neg_img]\n",
    "        triplets.append(np.array(tri))\n",
    "\n",
    "    triplets = np.array(triplets)\n",
    "    return triplets"
   ]
  },
  {
   "cell_type": "markdown",
   "metadata": {},
   "source": [
    "## 学習する"
   ]
  },
  {
   "cell_type": "markdown",
   "metadata": {},
   "source": [
    "- 各エポックでtestデータを用いて`N-top acc`を出したい\n",
    "- epochの外でtrain,testに分割するパターンなので常にtestのidは同じ\n",
    "- `train_triplet`のnegativeが毎回ランダムになるので偏らないメリットがある->**pickle保存済みのtripletを用いれば学習を効率化できる**\n",
    "- `model.fit()`は`epochs=1`で行う\n",
    "- `model_history=[]`に各エポックにおけるメトリクス(loss/accuracy等)をappendすることで後から推移を確認できる。"
   ]
  },
  {
   "cell_type": "code",
   "execution_count": 32,
   "metadata": {},
   "outputs": [
    {
     "data": {
      "text/plain": [
       "['.ipynb_checkpoints', '512']"
      ]
     },
     "execution_count": 32,
     "metadata": {},
     "output_type": "execute_result"
    }
   ],
   "source": [
    "# model_dir = './model/{}/improved_tripletloss/a{}b{}'.format(category,ALPHA,BETA)\n",
    "model_dir = './model/{}/Dual_normal/a{}'.format(category,ALPHA)\n",
    "# model_dir = './model/{}/Dual_improved/a{}b{}'.format(category,ALPHA,BETA)\n",
    "os.listdir(model_dir)"
   ]
  },
  {
   "cell_type": "code",
   "execution_count": 33,
   "metadata": {},
   "outputs": [],
   "source": [
    "epochs = 100"
   ]
  },
  {
   "cell_type": "code",
   "execution_count": 34,
   "metadata": {},
   "outputs": [
    {
     "name": "stderr",
     "output_type": "stream",
     "text": [
      "  1%|▏         | 24/1783 [00:00<00:07, 226.38it/s]"
     ]
    },
    {
     "name": "stdout",
     "output_type": "stream",
     "text": [
      "epoch 0\n"
     ]
    },
    {
     "name": "stderr",
     "output_type": "stream",
     "text": [
      "100%|██████████| 1783/1783 [00:07<00:00, 228.77it/s]\n",
      "100%|██████████| 14258/14258 [01:49<00:00, 130.26it/s]\n"
     ]
    },
    {
     "name": "stdout",
     "output_type": "stream",
     "text": [
      "WARNING:tensorflow:From /home/pip/koki_ishizuka/.conda/envs/py35-zukapy/lib/python3.5/site-packages/tensorflow/python/ops/math_ops.py:3066: to_int32 (from tensorflow.python.ops.math_ops) is deprecated and will be removed in a future version.\n",
      "Instructions for updating:\n",
      "Use tf.cast instead.\n",
      "Epoch 1/1\n",
      "14258/14258 [==============================] - 54s 4ms/step - loss: 2.8177\n",
      "epoch 1\n",
      "Epoch 1/1\n",
      "14258/14258 [==============================] - 50s 4ms/step - loss: 1.7190\n",
      "epoch 2\n",
      "Epoch 1/1\n",
      "14258/14258 [==============================] - 50s 4ms/step - loss: 1.0382\n",
      "epoch 3\n",
      "Epoch 1/1\n",
      "14258/14258 [==============================] - 51s 4ms/step - loss: 0.5227\n",
      "epoch 4\n",
      "Epoch 1/1\n",
      "14258/14258 [==============================] - 51s 4ms/step - loss: 0.2844\n"
     ]
    },
    {
     "name": "stderr",
     "output_type": "stream",
     "text": [
      "  2%|▏         | 28/1783 [00:00<00:06, 262.72it/s]"
     ]
    },
    {
     "name": "stdout",
     "output_type": "stream",
     "text": [
      "epoch 5\n"
     ]
    },
    {
     "name": "stderr",
     "output_type": "stream",
     "text": [
      "100%|██████████| 1783/1783 [00:07<00:00, 231.39it/s]\n",
      "100%|██████████| 14258/14258 [01:48<00:00, 131.46it/s]\n"
     ]
    },
    {
     "name": "stdout",
     "output_type": "stream",
     "text": [
      "Epoch 1/1\n",
      "14258/14258 [==============================] - 50s 4ms/step - loss: 1.0771\n",
      "epoch 6\n",
      "Epoch 1/1\n",
      "14258/14258 [==============================] - 51s 4ms/step - loss: 0.3912\n",
      "epoch 7\n",
      "Epoch 1/1\n",
      "14258/14258 [==============================] - 51s 4ms/step - loss: 0.1750\n",
      "epoch 8\n",
      "Epoch 1/1\n",
      "14258/14258 [==============================] - 51s 4ms/step - loss: 0.1088\n",
      "epoch 9\n",
      "Epoch 1/1\n",
      "14258/14258 [==============================] - 51s 4ms/step - loss: 0.0843\n"
     ]
    },
    {
     "name": "stderr",
     "output_type": "stream",
     "text": [
      "  1%|▏         | 24/1783 [00:00<00:07, 224.58it/s]"
     ]
    },
    {
     "name": "stdout",
     "output_type": "stream",
     "text": [
      "epoch 10\n"
     ]
    },
    {
     "name": "stderr",
     "output_type": "stream",
     "text": [
      "100%|██████████| 1783/1783 [00:08<00:00, 220.63it/s]\n",
      "100%|██████████| 14258/14258 [01:48<00:00, 131.53it/s]\n"
     ]
    },
    {
     "name": "stdout",
     "output_type": "stream",
     "text": [
      "Epoch 1/1\n",
      "14258/14258 [==============================] - 50s 4ms/step - loss: 0.7615\n",
      "epoch 11\n",
      "Epoch 1/1\n",
      "14258/14258 [==============================] - 51s 4ms/step - loss: 0.2483\n",
      "epoch 12\n",
      "Epoch 1/1\n",
      "14258/14258 [==============================] - 51s 4ms/step - loss: 0.1008\n",
      "epoch 13\n",
      "Epoch 1/1\n",
      "14258/14258 [==============================] - 51s 4ms/step - loss: 0.0628\n",
      "epoch 14\n",
      "Epoch 1/1\n",
      "14258/14258 [==============================] - 51s 4ms/step - loss: 0.0372\n"
     ]
    },
    {
     "name": "stderr",
     "output_type": "stream",
     "text": [
      "  1%|▏         | 24/1783 [00:00<00:07, 223.63it/s]"
     ]
    },
    {
     "name": "stdout",
     "output_type": "stream",
     "text": [
      "epoch 15\n"
     ]
    },
    {
     "name": "stderr",
     "output_type": "stream",
     "text": [
      "100%|██████████| 1783/1783 [00:08<00:00, 219.85it/s]\n",
      "100%|██████████| 14258/14258 [01:47<00:00, 132.22it/s]\n"
     ]
    },
    {
     "name": "stdout",
     "output_type": "stream",
     "text": [
      "Epoch 1/1\n",
      "14258/14258 [==============================] - 50s 4ms/step - loss: 0.6188\n",
      "epoch 16\n",
      "Epoch 1/1\n",
      "14258/14258 [==============================] - 51s 4ms/step - loss: 0.1497\n",
      "epoch 17\n",
      "Epoch 1/1\n",
      "14258/14258 [==============================] - 51s 4ms/step - loss: 0.0611\n",
      "epoch 18\n",
      "Epoch 1/1\n",
      "14258/14258 [==============================] - 51s 4ms/step - loss: 0.0441\n",
      "epoch 19\n",
      "Epoch 1/1\n",
      "14258/14258 [==============================] - 51s 4ms/step - loss: 0.0399\n"
     ]
    },
    {
     "name": "stderr",
     "output_type": "stream",
     "text": [
      "  2%|▏         | 28/1783 [00:00<00:06, 262.30it/s]"
     ]
    },
    {
     "name": "stdout",
     "output_type": "stream",
     "text": [
      "epoch 20\n"
     ]
    },
    {
     "name": "stderr",
     "output_type": "stream",
     "text": [
      "100%|██████████| 1783/1783 [00:08<00:00, 215.66it/s]\n",
      "100%|██████████| 14258/14258 [01:48<00:00, 131.58it/s]\n"
     ]
    },
    {
     "name": "stdout",
     "output_type": "stream",
     "text": [
      "Epoch 1/1\n",
      "14258/14258 [==============================] - 50s 4ms/step - loss: 0.4859\n",
      "epoch 21\n",
      "Epoch 1/1\n",
      "14258/14258 [==============================] - 51s 4ms/step - loss: 0.1176\n",
      "epoch 22\n",
      "Epoch 1/1\n",
      "14258/14258 [==============================] - 51s 4ms/step - loss: 0.0519\n",
      "epoch 23\n",
      "Epoch 1/1\n",
      "14258/14258 [==============================] - 51s 4ms/step - loss: 0.0244\n",
      "epoch 24\n",
      "Epoch 1/1\n",
      "14258/14258 [==============================] - 51s 4ms/step - loss: 0.0439\n"
     ]
    },
    {
     "name": "stderr",
     "output_type": "stream",
     "text": [
      "  2%|▏         | 27/1783 [00:00<00:06, 265.53it/s]"
     ]
    },
    {
     "name": "stdout",
     "output_type": "stream",
     "text": [
      "epoch 25\n"
     ]
    },
    {
     "name": "stderr",
     "output_type": "stream",
     "text": [
      "100%|██████████| 1783/1783 [00:08<00:00, 222.17it/s]\n",
      "100%|██████████| 14258/14258 [01:48<00:00, 126.58it/s]\n"
     ]
    },
    {
     "name": "stdout",
     "output_type": "stream",
     "text": [
      "Epoch 1/1\n",
      "14258/14258 [==============================] - 50s 4ms/step - loss: 0.4184\n",
      "epoch 26\n",
      "Epoch 1/1\n",
      "14258/14258 [==============================] - 51s 4ms/step - loss: 0.0965\n",
      "epoch 27\n",
      "Epoch 1/1\n",
      "14258/14258 [==============================] - 51s 4ms/step - loss: 0.0410\n",
      "epoch 28\n",
      "Epoch 1/1\n",
      "14258/14258 [==============================] - 51s 4ms/step - loss: 0.0243\n",
      "epoch 29\n",
      "Epoch 1/1\n",
      "14258/14258 [==============================] - 51s 4ms/step - loss: 0.0198\n"
     ]
    },
    {
     "name": "stderr",
     "output_type": "stream",
     "text": [
      "  2%|▏         | 28/1783 [00:00<00:06, 270.43it/s]"
     ]
    },
    {
     "name": "stdout",
     "output_type": "stream",
     "text": [
      "epoch 30\n"
     ]
    },
    {
     "name": "stderr",
     "output_type": "stream",
     "text": [
      "100%|██████████| 1783/1783 [00:07<00:00, 228.64it/s]\n",
      "100%|██████████| 14258/14258 [01:46<00:00, 133.35it/s]\n"
     ]
    },
    {
     "name": "stdout",
     "output_type": "stream",
     "text": [
      "Epoch 1/1\n",
      "14258/14258 [==============================] - 50s 4ms/step - loss: 0.3378\n",
      "epoch 31\n",
      "Epoch 1/1\n",
      "14258/14258 [==============================] - 51s 4ms/step - loss: 0.0981\n",
      "epoch 32\n",
      "Epoch 1/1\n",
      "14258/14258 [==============================] - 51s 4ms/step - loss: 0.0362\n",
      "epoch 33\n",
      "Epoch 1/1\n",
      "14258/14258 [==============================] - 51s 4ms/step - loss: 0.0216\n",
      "epoch 34\n",
      "Epoch 1/1\n",
      "14258/14258 [==============================] - 51s 4ms/step - loss: 0.0194\n"
     ]
    },
    {
     "name": "stderr",
     "output_type": "stream",
     "text": [
      "  2%|▏         | 27/1783 [00:00<00:06, 265.47it/s]"
     ]
    },
    {
     "name": "stdout",
     "output_type": "stream",
     "text": [
      "epoch 35\n"
     ]
    },
    {
     "name": "stderr",
     "output_type": "stream",
     "text": [
      "100%|██████████| 1783/1783 [00:07<00:00, 250.10it/s]\n",
      "100%|██████████| 14258/14258 [01:48<00:00, 131.44it/s]\n"
     ]
    },
    {
     "name": "stdout",
     "output_type": "stream",
     "text": [
      "Epoch 1/1\n",
      "14258/14258 [==============================] - 50s 4ms/step - loss: 0.2938\n",
      "epoch 36\n",
      "Epoch 1/1\n",
      "14258/14258 [==============================] - 51s 4ms/step - loss: 0.0682\n",
      "epoch 37\n",
      "Epoch 1/1\n",
      "14258/14258 [==============================] - 51s 4ms/step - loss: 0.0220\n",
      "epoch 38\n",
      "Epoch 1/1\n",
      "14258/14258 [==============================] - 51s 4ms/step - loss: 0.0178\n",
      "epoch 39\n",
      "Epoch 1/1\n",
      "14258/14258 [==============================] - 51s 4ms/step - loss: 0.0165\n"
     ]
    },
    {
     "name": "stderr",
     "output_type": "stream",
     "text": [
      "  1%|▏         | 24/1783 [00:00<00:07, 238.90it/s]"
     ]
    },
    {
     "name": "stdout",
     "output_type": "stream",
     "text": [
      "epoch 40\n"
     ]
    },
    {
     "name": "stderr",
     "output_type": "stream",
     "text": [
      "100%|██████████| 1783/1783 [00:07<00:00, 235.39it/s]\n",
      "100%|██████████| 14258/14258 [01:47<00:00, 132.06it/s]\n"
     ]
    },
    {
     "name": "stdout",
     "output_type": "stream",
     "text": [
      "Epoch 1/1\n",
      "14258/14258 [==============================] - 50s 4ms/step - loss: 0.2758\n",
      "epoch 41\n",
      "Epoch 1/1\n",
      "14258/14258 [==============================] - 51s 4ms/step - loss: 0.0656\n",
      "epoch 42\n",
      "Epoch 1/1\n",
      "14258/14258 [==============================] - 51s 4ms/step - loss: 0.0195\n",
      "epoch 43\n",
      "Epoch 1/1\n",
      "14258/14258 [==============================] - 51s 4ms/step - loss: 0.0211\n",
      "epoch 44\n",
      "Epoch 1/1\n",
      "14258/14258 [==============================] - 51s 4ms/step - loss: 0.0110\n"
     ]
    },
    {
     "name": "stderr",
     "output_type": "stream",
     "text": [
      "  1%|          | 22/1783 [00:00<00:08, 218.07it/s]"
     ]
    },
    {
     "name": "stdout",
     "output_type": "stream",
     "text": [
      "epoch 45\n"
     ]
    },
    {
     "name": "stderr",
     "output_type": "stream",
     "text": [
      "100%|██████████| 1783/1783 [00:07<00:00, 244.43it/s]\n",
      "100%|██████████| 14258/14258 [01:47<00:00, 133.41it/s]\n"
     ]
    },
    {
     "name": "stdout",
     "output_type": "stream",
     "text": [
      "Epoch 1/1\n",
      "14258/14258 [==============================] - 50s 4ms/step - loss: 0.2462\n",
      "epoch 46\n",
      "Epoch 1/1\n",
      "14258/14258 [==============================] - 51s 4ms/step - loss: 0.0596\n",
      "epoch 47\n",
      "Epoch 1/1\n",
      "14258/14258 [==============================] - 51s 4ms/step - loss: 0.0184\n",
      "epoch 48\n",
      "Epoch 1/1\n",
      "14258/14258 [==============================] - 51s 4ms/step - loss: 0.0176\n",
      "epoch 49\n",
      "Epoch 1/1\n",
      "14258/14258 [==============================] - 51s 4ms/step - loss: 0.0080\n"
     ]
    },
    {
     "name": "stderr",
     "output_type": "stream",
     "text": [
      "  1%|▏         | 24/1783 [00:00<00:07, 232.55it/s]"
     ]
    },
    {
     "name": "stdout",
     "output_type": "stream",
     "text": [
      "epoch 50\n"
     ]
    },
    {
     "name": "stderr",
     "output_type": "stream",
     "text": [
      "100%|██████████| 1783/1783 [00:07<00:00, 236.87it/s]\n",
      "100%|██████████| 14258/14258 [01:48<00:00, 131.08it/s]\n"
     ]
    },
    {
     "name": "stdout",
     "output_type": "stream",
     "text": [
      "Epoch 1/1\n",
      "14258/14258 [==============================] - 50s 4ms/step - loss: 0.2102\n",
      "epoch 51\n",
      "Epoch 1/1\n",
      "14258/14258 [==============================] - 51s 4ms/step - loss: 0.0388\n",
      "epoch 52\n",
      "Epoch 1/1\n",
      "14258/14258 [==============================] - 51s 4ms/step - loss: 0.0275\n",
      "epoch 53\n",
      "Epoch 1/1\n",
      "14258/14258 [==============================] - 51s 4ms/step - loss: 0.0110\n",
      "epoch 54\n",
      "Epoch 1/1\n",
      "14258/14258 [==============================] - 51s 4ms/step - loss: 0.0091\n"
     ]
    },
    {
     "name": "stderr",
     "output_type": "stream",
     "text": [
      "  1%|▏         | 24/1783 [00:00<00:07, 229.89it/s]"
     ]
    },
    {
     "name": "stdout",
     "output_type": "stream",
     "text": [
      "epoch 55\n"
     ]
    },
    {
     "name": "stderr",
     "output_type": "stream",
     "text": [
      "100%|██████████| 1783/1783 [00:07<00:00, 224.04it/s]\n",
      "100%|██████████| 14258/14258 [01:47<00:00, 132.47it/s]\n"
     ]
    },
    {
     "name": "stdout",
     "output_type": "stream",
     "text": [
      "Epoch 1/1\n",
      "14258/14258 [==============================] - 50s 4ms/step - loss: 0.2093\n",
      "epoch 56\n",
      "Epoch 1/1\n",
      "14258/14258 [==============================] - 51s 4ms/step - loss: 0.0510\n",
      "epoch 57\n",
      "Epoch 1/1\n",
      "14258/14258 [==============================] - 51s 4ms/step - loss: 0.0226\n",
      "epoch 58\n",
      "Epoch 1/1\n",
      "14258/14258 [==============================] - 51s 4ms/step - loss: 0.0116\n",
      "epoch 59\n",
      "Epoch 1/1\n",
      "14258/14258 [==============================] - 51s 4ms/step - loss: 0.0080\n"
     ]
    },
    {
     "name": "stderr",
     "output_type": "stream",
     "text": [
      "  2%|▏         | 28/1783 [00:00<00:06, 261.98it/s]"
     ]
    },
    {
     "name": "stdout",
     "output_type": "stream",
     "text": [
      "epoch 60\n"
     ]
    },
    {
     "name": "stderr",
     "output_type": "stream",
     "text": [
      "100%|██████████| 1783/1783 [00:08<00:00, 222.82it/s]\n",
      "100%|██████████| 14258/14258 [01:47<00:00, 132.29it/s]\n"
     ]
    },
    {
     "name": "stdout",
     "output_type": "stream",
     "text": [
      "Epoch 1/1\n",
      "14258/14258 [==============================] - 50s 4ms/step - loss: 0.1836\n",
      "epoch 61\n",
      "Epoch 1/1\n",
      "14258/14258 [==============================] - 51s 4ms/step - loss: 0.0430\n",
      "epoch 62\n",
      "Epoch 1/1\n",
      "14258/14258 [==============================] - 51s 4ms/step - loss: 0.0148\n",
      "epoch 63\n",
      "Epoch 1/1\n",
      "14258/14258 [==============================] - 51s 4ms/step - loss: 0.0147\n",
      "epoch 64\n",
      "Epoch 1/1\n",
      "14258/14258 [==============================] - 51s 4ms/step - loss: 0.0073\n"
     ]
    },
    {
     "name": "stderr",
     "output_type": "stream",
     "text": [
      "  2%|▏         | 27/1783 [00:00<00:06, 266.63it/s]"
     ]
    },
    {
     "name": "stdout",
     "output_type": "stream",
     "text": [
      "epoch 65\n"
     ]
    },
    {
     "name": "stderr",
     "output_type": "stream",
     "text": [
      "100%|██████████| 1783/1783 [00:06<00:00, 269.30it/s]\n",
      "100%|██████████| 14258/14258 [01:48<00:00, 131.99it/s]\n"
     ]
    },
    {
     "name": "stdout",
     "output_type": "stream",
     "text": [
      "Epoch 1/1\n",
      "14258/14258 [==============================] - 50s 4ms/step - loss: 0.1674\n",
      "epoch 66\n",
      "Epoch 1/1\n",
      "14258/14258 [==============================] - 51s 4ms/step - loss: 0.0427\n",
      "epoch 67\n",
      "Epoch 1/1\n",
      "14258/14258 [==============================] - 51s 4ms/step - loss: 0.0166\n",
      "epoch 68\n",
      "Epoch 1/1\n",
      "14258/14258 [==============================] - 51s 4ms/step - loss: 0.0100\n",
      "epoch 69\n",
      "Epoch 1/1\n",
      "14258/14258 [==============================] - 51s 4ms/step - loss: 0.0087\n"
     ]
    },
    {
     "name": "stderr",
     "output_type": "stream",
     "text": [
      "  1%|▏         | 24/1783 [00:00<00:07, 223.60it/s]"
     ]
    },
    {
     "name": "stdout",
     "output_type": "stream",
     "text": [
      "epoch 70\n"
     ]
    },
    {
     "name": "stderr",
     "output_type": "stream",
     "text": [
      "100%|██████████| 1783/1783 [00:08<00:00, 219.20it/s]\n",
      "100%|██████████| 14258/14258 [01:48<00:00, 131.50it/s]\n"
     ]
    },
    {
     "name": "stdout",
     "output_type": "stream",
     "text": [
      "Epoch 1/1\n",
      "14258/14258 [==============================] - 50s 4ms/step - loss: 0.1440\n",
      "epoch 71\n",
      "Epoch 1/1\n",
      "14258/14258 [==============================] - 51s 4ms/step - loss: 0.0426\n",
      "epoch 72\n",
      "Epoch 1/1\n",
      "14258/14258 [==============================] - 51s 4ms/step - loss: 0.0168\n",
      "epoch 73\n",
      "Epoch 1/1\n",
      "14258/14258 [==============================] - 51s 4ms/step - loss: 0.0075\n",
      "epoch 74\n",
      "Epoch 1/1\n",
      "14258/14258 [==============================] - 51s 4ms/step - loss: 0.0055\n"
     ]
    },
    {
     "name": "stderr",
     "output_type": "stream",
     "text": [
      "  1%|▏         | 24/1783 [00:00<00:08, 206.80it/s]"
     ]
    },
    {
     "name": "stdout",
     "output_type": "stream",
     "text": [
      "epoch 75\n"
     ]
    },
    {
     "name": "stderr",
     "output_type": "stream",
     "text": [
      "100%|██████████| 1783/1783 [00:08<00:00, 240.12it/s]\n",
      "100%|██████████| 14258/14258 [01:48<00:00, 131.91it/s]\n"
     ]
    },
    {
     "name": "stdout",
     "output_type": "stream",
     "text": [
      "Epoch 1/1\n",
      "14258/14258 [==============================] - 50s 4ms/step - loss: 0.1351\n",
      "epoch 76\n",
      "Epoch 1/1\n",
      "14258/14258 [==============================] - 51s 4ms/step - loss: 0.0373\n",
      "epoch 77\n",
      "Epoch 1/1\n",
      "14258/14258 [==============================] - 51s 4ms/step - loss: 0.0158\n",
      "epoch 78\n",
      "Epoch 1/1\n",
      "14258/14258 [==============================] - 51s 4ms/step - loss: 0.0099\n",
      "epoch 79\n",
      "Epoch 1/1\n",
      "14258/14258 [==============================] - 51s 4ms/step - loss: 0.0059\n"
     ]
    },
    {
     "name": "stderr",
     "output_type": "stream",
     "text": [
      "  1%|▏         | 24/1783 [00:00<00:07, 234.56it/s]"
     ]
    },
    {
     "name": "stdout",
     "output_type": "stream",
     "text": [
      "epoch 80\n"
     ]
    },
    {
     "name": "stderr",
     "output_type": "stream",
     "text": [
      "100%|██████████| 1783/1783 [00:08<00:00, 214.44it/s]\n",
      "100%|██████████| 14258/14258 [01:47<00:00, 132.77it/s]\n"
     ]
    },
    {
     "name": "stdout",
     "output_type": "stream",
     "text": [
      "Epoch 1/1\n",
      "14258/14258 [==============================] - 50s 4ms/step - loss: 0.1170\n",
      "epoch 81\n",
      "Epoch 1/1\n",
      "14258/14258 [==============================] - 51s 4ms/step - loss: 0.0378\n",
      "epoch 82\n",
      "Epoch 1/1\n",
      "14258/14258 [==============================] - 51s 4ms/step - loss: 0.0231\n",
      "epoch 83\n",
      "Epoch 1/1\n",
      "14258/14258 [==============================] - 51s 4ms/step - loss: 0.0083\n",
      "epoch 84\n",
      "Epoch 1/1\n",
      "14258/14258 [==============================] - 51s 4ms/step - loss: 0.0045\n"
     ]
    },
    {
     "name": "stderr",
     "output_type": "stream",
     "text": [
      "  1%|▏         | 24/1783 [00:00<00:08, 212.28it/s]"
     ]
    },
    {
     "name": "stdout",
     "output_type": "stream",
     "text": [
      "epoch 85\n"
     ]
    },
    {
     "name": "stderr",
     "output_type": "stream",
     "text": [
      "100%|██████████| 1783/1783 [00:08<00:00, 215.84it/s]\n",
      "100%|██████████| 14258/14258 [01:47<00:00, 132.22it/s]\n"
     ]
    },
    {
     "name": "stdout",
     "output_type": "stream",
     "text": [
      "Epoch 1/1\n",
      "14258/14258 [==============================] - 50s 4ms/step - loss: 0.1237\n",
      "epoch 86\n",
      "Epoch 1/1\n",
      "14258/14258 [==============================] - 51s 4ms/step - loss: 0.0354\n",
      "epoch 87\n",
      "Epoch 1/1\n",
      "14258/14258 [==============================] - 51s 4ms/step - loss: 0.0090\n",
      "epoch 88\n",
      "Epoch 1/1\n",
      "14258/14258 [==============================] - 51s 4ms/step - loss: 0.0042\n",
      "epoch 89\n",
      "Epoch 1/1\n",
      "14258/14258 [==============================] - 51s 4ms/step - loss: 0.0032\n"
     ]
    },
    {
     "name": "stderr",
     "output_type": "stream",
     "text": [
      "  1%|▏         | 24/1783 [00:00<00:07, 225.17it/s]"
     ]
    },
    {
     "name": "stdout",
     "output_type": "stream",
     "text": [
      "epoch 90\n"
     ]
    },
    {
     "name": "stderr",
     "output_type": "stream",
     "text": [
      "100%|██████████| 1783/1783 [00:08<00:00, 222.72it/s]\n",
      "100%|██████████| 14258/14258 [01:48<00:00, 131.90it/s]\n"
     ]
    },
    {
     "name": "stdout",
     "output_type": "stream",
     "text": [
      "Epoch 1/1\n",
      "14258/14258 [==============================] - 50s 4ms/step - loss: 0.1282\n",
      "epoch 91\n",
      "Epoch 1/1\n",
      "14258/14258 [==============================] - 51s 4ms/step - loss: 0.0227\n",
      "epoch 92\n",
      "Epoch 1/1\n",
      "14258/14258 [==============================] - 51s 4ms/step - loss: 0.0087\n",
      "epoch 93\n",
      "Epoch 1/1\n",
      "14258/14258 [==============================] - 51s 4ms/step - loss: 0.0067\n",
      "epoch 94\n",
      "Epoch 1/1\n",
      "14258/14258 [==============================] - 51s 4ms/step - loss: 0.0023\n"
     ]
    },
    {
     "name": "stderr",
     "output_type": "stream",
     "text": [
      "  1%|▏         | 24/1783 [00:00<00:07, 221.34it/s]"
     ]
    },
    {
     "name": "stdout",
     "output_type": "stream",
     "text": [
      "epoch 95\n"
     ]
    },
    {
     "name": "stderr",
     "output_type": "stream",
     "text": [
      "100%|██████████| 1783/1783 [00:08<00:00, 212.65it/s]\n",
      "100%|██████████| 14258/14258 [01:48<00:00, 131.90it/s]\n"
     ]
    },
    {
     "name": "stdout",
     "output_type": "stream",
     "text": [
      "Epoch 1/1\n",
      "14258/14258 [==============================] - 50s 4ms/step - loss: 0.1126\n",
      "epoch 96\n",
      "Epoch 1/1\n",
      "14258/14258 [==============================] - 51s 4ms/step - loss: 0.0259\n",
      "epoch 97\n",
      "Epoch 1/1\n",
      "14258/14258 [==============================] - 51s 4ms/step - loss: 0.0088\n",
      "epoch 98\n",
      "Epoch 1/1\n",
      "14258/14258 [==============================] - 51s 4ms/step - loss: 0.0103\n",
      "epoch 99\n",
      "Epoch 1/1\n",
      "14258/14258 [==============================] - 51s 4ms/step - loss: 0.0056\n"
     ]
    }
   ],
   "source": [
    "model_history = []\n",
    "for epoch in range(epochs):\n",
    "    print('epoch %s'% epoch)\n",
    "    if epoch % 5 == 0:\n",
    "        if epoch != 0: del triplets\n",
    "        triplets_train_PATHs = get_triplets(train_ids,BASE_PATH)\n",
    "        triplets = get_np_triplets(triplets_train_PATHs)\n",
    "        del triplets_train_PATHs\n",
    "    # fit\n",
    "    hist = tripletNet.fit([triplets[:,0],triplets[:,1],triplets[:,2]], epochs=1, batch_size=50)\n",
    "    model_history.append(hist.history)\n",
    "    f = open(model_dir+'/{}/history{}.txt'.format(vec_length,epoch),'wb')\n",
    "    pickle.dump(model_history, f)\n",
    "    # 使い終わったので削除\n",
    "##    del triplets\n",
    "    if (epoch+1) % 5 == 0:\n",
    "        shop_embNet.save(model_dir+'/{}/shop_e{}.h5'.format(vec_length,epoch))\n",
    "        con_embNet.save(model_dir+'/{}/con_e{}.h5'.format(vec_length,epoch))\n",
    "        \n",
    "# 学習のhistoryを保存\n",
    "f = open(model_dir+'/{}/history.txt'.format(vec_length),'wb')\n",
    "pickle.dump(model_history, f)"
   ]
  },
  {
   "cell_type": "code",
   "execution_count": null,
   "metadata": {},
   "outputs": [],
   "source": []
  },
  {
   "cell_type": "code",
   "execution_count": null,
   "metadata": {},
   "outputs": [],
   "source": []
  }
 ],
 "metadata": {
  "kernelspec": {
   "display_name": "py35-zukapy",
   "language": "python",
   "name": "py35-zukapy"
  },
  "language_info": {
   "codemirror_mode": {
    "name": "ipython",
    "version": 3
   },
   "file_extension": ".py",
   "mimetype": "text/x-python",
   "name": "python",
   "nbconvert_exporter": "python",
   "pygments_lexer": "ipython3",
   "version": "3.5.5"
  }
 },
 "nbformat": 4,
 "nbformat_minor": 4
}
