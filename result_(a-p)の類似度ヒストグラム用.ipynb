{
 "cells": [
  {
   "cell_type": "markdown",
   "metadata": {},
   "source": [
    "# (a-p)間の距離のヒストグラムを確認する"
   ]
  },
  {
   "cell_type": "markdown",
   "metadata": {},
   "source": [
    "## 必要なパーツ\n",
    "- 各モデルにおける埋め込みベクトル\n",
    "    - PATH/TO/MODEL/gallery.txt\n",
    "    - PATH/TO/MODEL/query.txt\n",
    "- 実際の画像のパス\n",
    "    - ./test_pairs.txt\n",
    "- それぞれはインデックスで整合性をとる   "
   ]
  },
  {
   "cell_type": "code",
   "execution_count": 1,
   "metadata": {},
   "outputs": [],
   "source": [
    "import matplotlib.pyplot as plt\n",
    "import numpy as np\n",
    "import os\n",
    "import pickle\n",
    "from tqdm import tqdm"
   ]
  },
  {
   "cell_type": "code",
   "execution_count": 2,
   "metadata": {},
   "outputs": [],
   "source": [
    "# model = 'DualImpL2300a0.1b0.05'\n",
    "# model = 'Dual300a0.1'\n",
    "model = 'test'"
   ]
  },
  {
   "cell_type": "code",
   "execution_count": 6,
   "metadata": {},
   "outputs": [],
   "source": [
    "ALPHA = 0.1\n",
    "BETA = 0.05"
   ]
  },
  {
   "cell_type": "code",
   "execution_count": 7,
   "metadata": {},
   "outputs": [],
   "source": [
    "vec_length = 500\n",
    "model_epoch = 99"
   ]
  },
  {
   "cell_type": "code",
   "execution_count": 8,
   "metadata": {},
   "outputs": [],
   "source": [
    "model_PATH = './model/T_Shirt/Dual_exp/a{}b{}'.format(ALPHA,BETA)\n",
    "# model_PATH = './model/T_Shirt/tripletloss/a{}'.format(ALPHA)"
   ]
  },
  {
   "cell_type": "code",
   "execution_count": 9,
   "metadata": {},
   "outputs": [
    {
     "name": "stdout",
     "output_type": "stream",
     "text": [
      "(2032, 500)\n"
     ]
    }
   ],
   "source": [
    "f = open(model_PATH+'/{}/gallery{}.txt'.format(vec_length,model_epoch),'rb')\n",
    "gallery = pickle.load(f)\n",
    "print(gallery.shape)"
   ]
  },
  {
   "cell_type": "code",
   "execution_count": 10,
   "metadata": {},
   "outputs": [
    {
     "name": "stdout",
     "output_type": "stream",
     "text": [
      "(2032, 500)\n"
     ]
    }
   ],
   "source": [
    "f = open(model_PATH+'/{}/query{}.txt'.format(vec_length,model_epoch),'rb')\n",
    "query = pickle.load(f)\n",
    "print(query.shape)"
   ]
  },
  {
   "cell_type": "code",
   "execution_count": 11,
   "metadata": {},
   "outputs": [],
   "source": [
    "# f = open('./model/T_Shirt/tripletloss/a0.1/300/gallery300.txt','rb')\n",
    "# gallery = pickle.load(f)\n",
    "# print(gallery.shape)"
   ]
  },
  {
   "cell_type": "code",
   "execution_count": 12,
   "metadata": {},
   "outputs": [],
   "source": [
    "# f = open('./model/T_Shirt/tripletloss/a0.1/300/query300.txt','rb')\n",
    "# query = pickle.load(f)\n",
    "# print(query.shape)"
   ]
  },
  {
   "cell_type": "markdown",
   "metadata": {},
   "source": [
    "## ユークリッド距離(の2乗)"
   ]
  },
  {
   "cell_type": "code",
   "execution_count": 13,
   "metadata": {},
   "outputs": [],
   "source": [
    "def euclid_dist2(emb1, emb2):\n",
    "    return np.sum(np.square(emb1 - emb2))"
   ]
  },
  {
   "cell_type": "code",
   "execution_count": 14,
   "metadata": {},
   "outputs": [],
   "source": [
    "ave_sim_negative = []\n",
    "for i,q in enumerate(query):\n",
    "    sum_ = 0\n",
    "    for j,g in enumerate(gallery):\n",
    "        if i == j: continue\n",
    "        else: sum_ += euclid_dist2(q,g)\n",
    "    ave_sim_negative.append(sum_/len(gallery))"
   ]
  },
  {
   "cell_type": "code",
   "execution_count": 15,
   "metadata": {},
   "outputs": [],
   "source": [
    "sim = []\n",
    "for q,g in zip(query,gallery):\n",
    "    sim.append(euclid_dist2(q,g))"
   ]
  },
  {
   "cell_type": "code",
   "execution_count": 16,
   "metadata": {},
   "outputs": [],
   "source": [
    "gap = np.array(ave_sim_negative)-np.array(sim)"
   ]
  },
  {
   "cell_type": "code",
   "execution_count": 17,
   "metadata": {},
   "outputs": [],
   "source": [
    "def plothist(sim1,sim2,model):\n",
    "# bins =　棒の数\n",
    "    #     plt.hist(sim,bins=40)\n",
    "    fig = plt.figure()\n",
    "    ax = fig.add_subplot(1,1,1)\n",
    "    ax.hist(sim1, bins=40,alpha=0.9, label='D(a,p)')\n",
    "    ax.hist(sim2, bins=40,alpha=0.9, label='D(a,n).Ave')\n",
    "    ax.legend(loc='upper right')\n",
    "    plt.grid('True')\n",
    "#     plt.title(\"Query-Negative Average Distance_{}\".format(model))\n",
    "    plt.xlabel(\"euclid dist^2\")\n",
    "    plt.ylabel(\"hist\")\n",
    "    plt.savefig('./histgram/D(p,q)vsAve(D(p,n))_{}.png'.format(model),dpi=300)"
   ]
  },
  {
   "cell_type": "code",
   "execution_count": 18,
   "metadata": {},
   "outputs": [
    {
     "name": "stderr",
     "output_type": "stream",
     "text": [
      "/home/pip/koki_ishizuka/.conda/envs/py35-zukapy/lib/python3.5/site-packages/matplotlib/cbook/deprecation.py:107: MatplotlibDeprecationWarning: Passing one of 'on', 'true', 'off', 'false' as a boolean is deprecated; use an actual boolean (True/False) instead.\n",
      "  warnings.warn(message, mplDeprecation, stacklevel=1)\n"
     ]
    },
    {
     "data": {
      "image/png": "[encoded data removed]",
      "text/plain": [
       "<Figure size 432x288 with 1 Axes>"
      ]
     },
     "metadata": {
      "needs_background": "light"
     },
     "output_type": "display_data"
    }
   ],
   "source": [
    "plothist(sim,ave_sim_negative,model=model)"
   ]
  },
  {
   "cell_type": "code",
   "execution_count": 19,
   "metadata": {},
   "outputs": [
    {
     "name": "stderr",
     "output_type": "stream",
     "text": [
      "/home/pip/koki_ishizuka/.conda/envs/py35-zukapy/lib/python3.5/site-packages/matplotlib/cbook/deprecation.py:107: MatplotlibDeprecationWarning: Passing one of 'on', 'true', 'off', 'false' as a boolean is deprecated; use an actual boolean (True/False) instead.\n",
      "  warnings.warn(message, mplDeprecation, stacklevel=1)\n"
     ]
    },
    {
     "data": {
      "text/plain": [
       "Text(0,0.5,'hist')"
      ]
     },
     "execution_count": 19,
     "metadata": {},
     "output_type": "execute_result"
    },
    {
     "data": {
      "image/png": "[encoded data removed]",
      "text/plain": [
       "<Figure size 432x288 with 1 Axes>"
      ]
     },
     "metadata": {
      "needs_background": "light"
     },
     "output_type": "display_data"
    }
   ],
   "source": [
    "plt.hist(gap,bins=40)\n",
    "plt.grid('True')\n",
    "plt.title(\"Query-Positive Distance_{}\".format(model))\n",
    "plt.xlabel(\"euclid dist^2\")\n",
    "plt.ylabel(\"hist\")\n",
    "# plt.savefig('./histgram/avesimNegative_euclid_{}.png'.format(model),dpi=300)"
   ]
  },
  {
   "cell_type": "markdown",
   "metadata": {},
   "source": [
    "## cos類似度"
   ]
  },
  {
   "cell_type": "code",
   "execution_count": 20,
   "metadata": {},
   "outputs": [],
   "source": [
    "def cos_sim(v1, v2):\n",
    "    return np.dot(v1, v2) / (np.linalg.norm(v1) * np.linalg.norm(v2))"
   ]
  },
  {
   "cell_type": "code",
   "execution_count": 21,
   "metadata": {},
   "outputs": [],
   "source": [
    "sim = []\n",
    "for q,g in zip(query,gallery):\n",
    "    sim.append(cos_sim(q,g))"
   ]
  },
  {
   "cell_type": "code",
   "execution_count": 22,
   "metadata": {},
   "outputs": [
    {
     "data": {
      "text/plain": [
       "(array([  9.,  18.,  44.,  44.,  40.,  37.,  37.,  56.,  59.,  67.,  57.,\n",
       "         68.,  78.,  61.,  71.,  85.,  93.,  84.,  82., 101.,  97., 110.,\n",
       "         98.,  83.,  91., 136., 116.,  87.,  18.,   5.]),\n",
       " array([-0.60164762, -0.57375712, -0.54586663, -0.51797613, -0.49008563,\n",
       "        -0.46219513, -0.43430463, -0.40641413, -0.37852363, -0.35063313,\n",
       "        -0.32274263, -0.29485214, -0.26696164, -0.23907114, -0.21118064,\n",
       "        -0.18329014, -0.15539964, -0.12750914, -0.09961864, -0.07172815,\n",
       "        -0.04383765, -0.01594715,  0.01194335,  0.03983385,  0.06772435,\n",
       "         0.09561485,  0.12350535,  0.15139585,  0.17928634,  0.20717684,\n",
       "         0.23506734]),\n",
       " <a list of 30 Patch objects>)"
      ]
     },
     "execution_count": 22,
     "metadata": {},
     "output_type": "execute_result"
    },
    {
     "data": {
      "image/png": "[encoded data removed]",
      "text/plain": [
       "<Figure size 432x288 with 1 Axes>"
      ]
     },
     "metadata": {
      "needs_background": "light"
     },
     "output_type": "display_data"
    }
   ],
   "source": [
    "plt.hist(sim,bins=30)"
   ]
  },
  {
   "cell_type": "code",
   "execution_count": 20,
   "metadata": {},
   "outputs": [],
   "source": [
    "# print(sim)"
   ]
  },
  {
   "cell_type": "code",
   "execution_count": null,
   "metadata": {},
   "outputs": [],
   "source": []
  }
 ],
 "metadata": {
  "kernelspec": {
   "display_name": "py35-zukapy",
   "language": "python",
   "name": "py35-zukapy"
  },
  "language_info": {
   "codemirror_mode": {
    "name": "ipython",
    "version": 3
   },
   "file_extension": ".py",
   "mimetype": "text/x-python",
   "name": "python",
   "nbconvert_exporter": "python",
   "pygments_lexer": "ipython3",
   "version": "3.5.5"
  }
 },
 "nbformat": 4,
 "nbformat_minor": 4
}
