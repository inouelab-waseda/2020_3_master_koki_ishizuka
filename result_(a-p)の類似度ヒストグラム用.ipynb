{
 "cells": [
  {
   "cell_type": "markdown",
   "metadata": {},
   "source": [
    "# (a-p)間の距離のヒストグラムを確認する"
   ]
  },
  {
   "cell_type": "markdown",
   "metadata": {},
   "source": [
    "## 必要なパーツ\n",
    "- 各モデルにおける埋め込みベクトル\n",
    "    - PATH/TO/MODEL/gallery.txt\n",
    "    - PATH/TO/MODEL/query.txt\n",
    "- 実際の画像のパス\n",
    "    - ./test_pairs.txt\n",
    "- それぞれはインデックスで整合性をとる   "
   ]
  },
  {
   "cell_type": "code",
   "execution_count": 19,
   "metadata": {},
   "outputs": [],
   "source": [
    "import matplotlib.pyplot as plt\n",
    "import numpy as np\n",
    "import os\n",
    "import pickle\n",
    "from tqdm import tqdm"
   ]
  },
  {
   "cell_type": "code",
   "execution_count": 20,
   "metadata": {},
   "outputs": [],
   "source": [
    "model = 'DualImpL2300a0.1b0.05'\n",
    "# model = 'Dual300a0.1'"
   ]
  },
  {
   "cell_type": "code",
   "execution_count": 69,
   "metadata": {},
   "outputs": [],
   "source": [
    "ALPHA = 0.1\n",
    "BETA = 0.01"
   ]
  },
  {
   "cell_type": "code",
   "execution_count": 70,
   "metadata": {},
   "outputs": [],
   "source": [
    "vec_length = 300\n",
    "model_epoch = 99"
   ]
  },
  {
   "cell_type": "code",
   "execution_count": 71,
   "metadata": {},
   "outputs": [],
   "source": [
    "model_PATH = './model/T_Shirt/Dual_improved/a{}b{}'.format(ALPHA,BETA)\n",
    "# model_PATH = './model/T_Shirt/tripletloss/a{}'.format(ALPHA)"
   ]
  },
  {
   "cell_type": "code",
   "execution_count": 72,
   "metadata": {},
   "outputs": [
    {
     "name": "stdout",
     "output_type": "stream",
     "text": [
      "(2032, 300)\n"
     ]
    }
   ],
   "source": [
    "f = open(model_PATH+'/{}/gallery{}.txt'.format(vec_length,model_epoch),'rb')\n",
    "gallery = pickle.load(f)\n",
    "print(gallery.shape)"
   ]
  },
  {
   "cell_type": "code",
   "execution_count": 73,
   "metadata": {},
   "outputs": [
    {
     "name": "stdout",
     "output_type": "stream",
     "text": [
      "(2032, 300)\n"
     ]
    }
   ],
   "source": [
    "f = open(model_PATH+'/{}/query{}.txt'.format(vec_length,model_epoch),'rb')\n",
    "query = pickle.load(f)\n",
    "print(query.shape)"
   ]
  },
  {
   "cell_type": "code",
   "execution_count": 74,
   "metadata": {},
   "outputs": [],
   "source": [
    "# f = open('./model/T_Shirt/tripletloss/a0.1/300/gallery300.txt','rb')\n",
    "# gallery = pickle.load(f)\n",
    "# print(gallery.shape)"
   ]
  },
  {
   "cell_type": "code",
   "execution_count": 75,
   "metadata": {},
   "outputs": [],
   "source": [
    "# f = open('./model/T_Shirt/tripletloss/a0.1/300/query300.txt','rb')\n",
    "# query = pickle.load(f)\n",
    "# print(query.shape)"
   ]
  },
  {
   "cell_type": "markdown",
   "metadata": {},
   "source": [
    "## ユークリッド距離(の2乗)"
   ]
  },
  {
   "cell_type": "code",
   "execution_count": 76,
   "metadata": {},
   "outputs": [],
   "source": [
    "def euclid_dist2(emb1, emb2):\n",
    "    return np.sum(np.square(emb1 - emb2))"
   ]
  },
  {
   "cell_type": "code",
   "execution_count": 77,
   "metadata": {},
   "outputs": [],
   "source": [
    "ave_sim_negative = []\n",
    "for i,q in enumerate(query):\n",
    "    sum_ = 0\n",
    "    for j,g in enumerate(gallery):\n",
    "        if i == j: continue\n",
    "        else: sum_ += euclid_dist2(q,g)\n",
    "    ave_sim_negative.append(sum_/len(gallery))"
   ]
  },
  {
   "cell_type": "code",
   "execution_count": 78,
   "metadata": {},
   "outputs": [],
   "source": [
    "sim = []\n",
    "for q,g in zip(query,gallery):\n",
    "    sim.append(euclid_dist2(q,g))"
   ]
  },
  {
   "cell_type": "code",
   "execution_count": 79,
   "metadata": {},
   "outputs": [],
   "source": [
    "gap = np.array(ave_sim_negative)-np.array(sim)"
   ]
  },
  {
   "cell_type": "code",
   "execution_count": 80,
   "metadata": {},
   "outputs": [],
   "source": [
    "def plothist(sim1,sim2,model):\n",
    "# bins =　棒の数\n",
    "    #     plt.hist(sim,bins=40)\n",
    "    fig = plt.figure()\n",
    "    ax = fig.add_subplot(1,1,1)\n",
    "    ax.hist(sim1, bins=40,alpha=0.9, label='D(a,p)')\n",
    "    ax.hist(sim2, bins=40,alpha=0.9, label='D(a,n).Ave')\n",
    "    ax.legend(loc='upper right')\n",
    "    plt.grid('True')\n",
    "#     plt.title(\"Query-Negative Average Distance_{}\".format(model))\n",
    "    plt.xlabel(\"euclid dist^2\")\n",
    "    plt.ylabel(\"hist\")\n",
    "    plt.savefig('./histgram/D(p,q)vsAve(D(p,n))_{}.png'.format(model),dpi=300)"
   ]
  },
  {
   "cell_type": "code",
   "execution_count": 81,
   "metadata": {},
   "outputs": [
    {
     "name": "stderr",
     "output_type": "stream",
     "text": [
      "/home/pip/koki_ishizuka/.conda/envs/py35-zukapy/lib/python3.5/site-packages/matplotlib/cbook/deprecation.py:107: MatplotlibDeprecationWarning: Passing one of 'on', 'true', 'off', 'false' as a boolean is deprecated; use an actual boolean (True/False) instead.\n",
      "  warnings.warn(message, mplDeprecation, stacklevel=1)\n"
     ]
    },
    {
     "data": {
      "image/png": "[encoded data removed]",
      "text/plain": [
       "<Figure size 432x288 with 1 Axes>"
      ]
     },
     "metadata": {
      "needs_background": "light"
     },
     "output_type": "display_data"
    }
   ],
   "source": [
    "plothist(sim,ave_sim_negative,model=model)"
   ]
  },
  {
   "cell_type": "code",
   "execution_count": 57,
   "metadata": {},
   "outputs": [
    {
     "name": "stderr",
     "output_type": "stream",
     "text": [
      "/home/pip/koki_ishizuka/.conda/envs/py35-zukapy/lib/python3.5/site-packages/matplotlib/cbook/deprecation.py:107: MatplotlibDeprecationWarning: Passing one of 'on', 'true', 'off', 'false' as a boolean is deprecated; use an actual boolean (True/False) instead.\n",
      "  warnings.warn(message, mplDeprecation, stacklevel=1)\n"
     ]
    },
    {
     "data": {
      "text/plain": [
       "Text(0,0.5,'hist')"
      ]
     },
     "execution_count": 57,
     "metadata": {},
     "output_type": "execute_result"
    },
    {
     "data": {
      "image/png": "[encoded data removed]",
      "text/plain": [
       "<Figure size 432x288 with 1 Axes>"
      ]
     },
     "metadata": {
      "needs_background": "light"
     },
     "output_type": "display_data"
    }
   ],
   "source": [
    "plt.hist(gap,bins=40)\n",
    "plt.grid('True')\n",
    "plt.title(\"Query-Positive Distance_{}\".format(model))\n",
    "plt.xlabel(\"euclid dist^2\")\n",
    "plt.ylabel(\"hist\")\n",
    "# plt.savefig('./histgram/avesimNegative_euclid_{}.png'.format(model),dpi=300)"
   ]
  },
  {
   "cell_type": "markdown",
   "metadata": {},
   "source": [
    "## cos類似度"
   ]
  },
  {
   "cell_type": "code",
   "execution_count": 21,
   "metadata": {},
   "outputs": [],
   "source": [
    "def cos_sim(v1, v2):\n",
    "    return np.dot(v1, v2) / (np.linalg.norm(v1) * np.linalg.norm(v2))"
   ]
  },
  {
   "cell_type": "code",
   "execution_count": 22,
   "metadata": {},
   "outputs": [],
   "source": [
    "sim = []\n",
    "for q,g in zip(query,gallery):\n",
    "    sim.append(cos_sim(q,g))"
   ]
  },
  {
   "cell_type": "code",
   "execution_count": 23,
   "metadata": {},
   "outputs": [
    {
     "data": {
      "text/plain": [
       "(array([  1.,   2.,   1.,   3.,   2.,   3.,   6.,  11.,  15.,   9.,  17.,\n",
       "         21.,  32.,  55.,  60.,  81.,  97., 121., 121., 161., 187., 197.,\n",
       "        185., 211., 151., 121.,  83.,  51.,  22.,   5.]),\n",
       " array([0.76596015, 0.77375326, 0.78154638, 0.78933949, 0.79713261,\n",
       "        0.80492572, 0.81271884, 0.82051195, 0.82830507, 0.83609818,\n",
       "        0.8438913 , 0.85168441, 0.85947753, 0.86727064, 0.87506376,\n",
       "        0.88285687, 0.89064999, 0.8984431 , 0.90623622, 0.91402933,\n",
       "        0.92182245, 0.92961556, 0.93740868, 0.94520179, 0.95299491,\n",
       "        0.96078802, 0.96858114, 0.97637425, 0.98416737, 0.99196048,\n",
       "        0.9997536 ]),\n",
       " <a list of 30 Patch objects>)"
      ]
     },
     "execution_count": 23,
     "metadata": {},
     "output_type": "execute_result"
    },
    {
     "data": {
      "image/png": "[encoded data removed]",
      "text/plain": [
       "<Figure size 432x288 with 1 Axes>"
      ]
     },
     "metadata": {
      "needs_background": "light"
     },
     "output_type": "display_data"
    }
   ],
   "source": [
    "plt.hist(sim,bins=30)"
   ]
  },
  {
   "cell_type": "code",
   "execution_count": 20,
   "metadata": {},
   "outputs": [],
   "source": [
    "# print(sim)"
   ]
  },
  {
   "cell_type": "code",
   "execution_count": null,
   "metadata": {},
   "outputs": [],
   "source": []
  }
 ],
 "metadata": {
  "kernelspec": {
   "display_name": "py35-zukapy",
   "language": "python",
   "name": "py35-zukapy"
  },
  "language_info": {
   "codemirror_mode": {
    "name": "ipython",
    "version": 3
   },
   "file_extension": ".py",
   "mimetype": "text/x-python",
   "name": "python",
   "nbconvert_exporter": "python",
   "pygments_lexer": "ipython3",
   "version": "3.5.5"
  }
 },
 "nbformat": 4,
 "nbformat_minor": 4
}
