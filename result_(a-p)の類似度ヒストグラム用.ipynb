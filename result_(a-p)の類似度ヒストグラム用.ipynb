{
 "cells": [
  {
   "cell_type": "markdown",
   "metadata": {},
   "source": [
    "# (a-p)間の距離のヒストグラムを確認する"
   ]
  },
  {
   "cell_type": "markdown",
   "metadata": {},
   "source": [
    "## 必要なパーツ\n",
    "- 各モデルにおける埋め込みベクトル\n",
    "    - PATH/TO/MODEL/gallery.txt\n",
    "    - PATH/TO/MODEL/query.txt\n",
    "- 実際の画像のパス\n",
    "    - ./test_pairs.txt\n",
    "- それぞれはインデックスで整合性をとる   "
   ]
  },
  {
   "cell_type": "code",
   "execution_count": 7,
   "metadata": {},
   "outputs": [],
   "source": [
    "import matplotlib.pyplot as plt\n",
    "import numpy as np\n",
    "import os\n",
    "import pickle\n",
    "from tqdm import tqdm"
   ]
  },
  {
   "cell_type": "code",
   "execution_count": 14,
   "metadata": {},
   "outputs": [],
   "source": [
    "model = 'imp300a0.5b0.05'\n",
    "# model = 'Dual300a0.1'"
   ]
  },
  {
   "cell_type": "code",
   "execution_count": 1,
   "metadata": {},
   "outputs": [],
   "source": [
    "ALPHA = 0.5\n",
    "BETA = 0.05"
   ]
  },
  {
   "cell_type": "code",
   "execution_count": 4,
   "metadata": {},
   "outputs": [],
   "source": [
    "vec_length = 300\n",
    "model_epoch = 99"
   ]
  },
  {
   "cell_type": "code",
   "execution_count": 5,
   "metadata": {},
   "outputs": [],
   "source": [
    "model_PATH = './model/T_Shirt/improved_tripletloss/a{}b{}'.format(ALPHA,BETA)"
   ]
  },
  {
   "cell_type": "code",
   "execution_count": 8,
   "metadata": {},
   "outputs": [
    {
     "name": "stdout",
     "output_type": "stream",
     "text": [
      "(2032, 300)\n"
     ]
    }
   ],
   "source": [
    "f = open(model_PATH+'/{}/gallery{}.txt'.format(vec_length,model_epoch),'rb')\n",
    "gallery = pickle.load(f)\n",
    "print(gallery.shape)"
   ]
  },
  {
   "cell_type": "code",
   "execution_count": 9,
   "metadata": {},
   "outputs": [
    {
     "name": "stdout",
     "output_type": "stream",
     "text": [
      "(2032, 300)\n"
     ]
    }
   ],
   "source": [
    "f = open(model_PATH+'/{}/query{}.txt'.format(vec_length,model_epoch),'rb')\n",
    "query = pickle.load(f)\n",
    "print(query.shape)"
   ]
  },
  {
   "cell_type": "code",
   "execution_count": 65,
   "metadata": {},
   "outputs": [],
   "source": [
    "# f = open('./model/T_Shirt/tripletloss/a0.1/300/gallery300.txt','rb')\n",
    "# gallery = pickle.load(f)\n",
    "# print(gallery.shape)"
   ]
  },
  {
   "cell_type": "code",
   "execution_count": 66,
   "metadata": {},
   "outputs": [],
   "source": [
    "# f = open('./model/T_Shirt/tripletloss/a0.1/300/query300.txt','rb')\n",
    "# query = pickle.load(f)\n",
    "# print(query.shape)"
   ]
  },
  {
   "cell_type": "markdown",
   "metadata": {},
   "source": [
    "## ユークリッド距離(の2乗)"
   ]
  },
  {
   "cell_type": "code",
   "execution_count": 10,
   "metadata": {},
   "outputs": [],
   "source": [
    "def euclid_dist2(emb1, emb2):\n",
    "    return np.sum(np.square(emb1 - emb2))"
   ]
  },
  {
   "cell_type": "code",
   "execution_count": 12,
   "metadata": {},
   "outputs": [],
   "source": [
    "sim = []\n",
    "for q,g in zip(query,gallery):\n",
    "    sim.append(euclid_dist2(q,g))"
   ]
  },
  {
   "cell_type": "code",
   "execution_count": 15,
   "metadata": {},
   "outputs": [
    {
     "name": "stderr",
     "output_type": "stream",
     "text": [
      "/home/pip/koki_ishizuka/.conda/envs/py35-zukapy/lib/python3.5/site-packages/matplotlib/cbook/deprecation.py:107: MatplotlibDeprecationWarning: Passing one of 'on', 'true', 'off', 'false' as a boolean is deprecated; use an actual boolean (True/False) instead.\n",
      "  warnings.warn(message, mplDeprecation, stacklevel=1)\n"
     ]
    },
    {
     "data": {
      "image/png": "[encoded data removed]",
      "text/plain": [
       "<Figure size 432x288 with 1 Axes>"
      ]
     },
     "metadata": {
      "needs_background": "light"
     },
     "output_type": "display_data"
    }
   ],
   "source": [
    "plt.hist(sim,bins=40)\n",
    "plt.grid('True')\n",
    "plt.title(\"Query-Positive Distance_{}\".format(model))\n",
    "plt.xlabel(\"euclid dist^2\")\n",
    "plt.ylabel(\"hist\")\n",
    "plt.savefig('./histgram/euclid_{}.png'.format(model),dpi=300)"
   ]
  },
  {
   "cell_type": "markdown",
   "metadata": {},
   "source": [
    "## cos類似度"
   ]
  },
  {
   "cell_type": "code",
   "execution_count": 17,
   "metadata": {},
   "outputs": [],
   "source": [
    "def cos_sim(v1, v2):\n",
    "    return np.dot(v1, v2) / (np.linalg.norm(v1) * np.linalg.norm(v2))"
   ]
  },
  {
   "cell_type": "code",
   "execution_count": 18,
   "metadata": {},
   "outputs": [],
   "source": [
    "sim = []\n",
    "for q,g in zip(query,gallery):\n",
    "    sim.append(cos_sim(q,g))"
   ]
  },
  {
   "cell_type": "code",
   "execution_count": 19,
   "metadata": {},
   "outputs": [
    {
     "data": {
      "text/plain": [
       "(array([  2.,   1.,   0.,   1.,   1.,   2.,   3.,   5.,   6.,   7.,  12.,\n",
       "         12.,  18.,  29.,  41.,  49.,  73., 111., 144., 170., 221., 235.,\n",
       "        238., 228., 194., 126.,  68.,  24.,   6.,   5.]),\n",
       " array([0.8930357 , 0.89659507, 0.90015444, 0.90371381, 0.90727318,\n",
       "        0.91083255, 0.91439192, 0.9179513 , 0.92151067, 0.92507004,\n",
       "        0.92862941, 0.93218878, 0.93574815, 0.93930752, 0.94286689,\n",
       "        0.94642626, 0.94998563, 0.953545  , 0.95710437, 0.96066374,\n",
       "        0.96422311, 0.96778248, 0.97134185, 0.97490122, 0.97846059,\n",
       "        0.98201996, 0.98557933, 0.9891387 , 0.99269808, 0.99625745,\n",
       "        0.99981682]),\n",
       " <a list of 30 Patch objects>)"
      ]
     },
     "execution_count": 19,
     "metadata": {},
     "output_type": "execute_result"
    },
    {
     "data": {
      "image/png": "[encoded data removed]",
      "text/plain": [
       "<Figure size 432x288 with 1 Axes>"
      ]
     },
     "metadata": {
      "needs_background": "light"
     },
     "output_type": "display_data"
    }
   ],
   "source": [
    "plt.hist(sim,bins=30)"
   ]
  },
  {
   "cell_type": "code",
   "execution_count": 20,
   "metadata": {},
   "outputs": [],
   "source": [
    "# print(sim)"
   ]
  },
  {
   "cell_type": "code",
   "execution_count": null,
   "metadata": {},
   "outputs": [],
   "source": []
  }
 ],
 "metadata": {
  "kernelspec": {
   "display_name": "py35-zukapy",
   "language": "python",
   "name": "py35-zukapy"
  },
  "language_info": {
   "codemirror_mode": {
    "name": "ipython",
    "version": 3
   },
   "file_extension": ".py",
   "mimetype": "text/x-python",
   "name": "python",
   "nbconvert_exporter": "python",
   "pygments_lexer": "ipython3",
   "version": "3.5.5"
  }
 },
 "nbformat": 4,
 "nbformat_minor": 4
}
